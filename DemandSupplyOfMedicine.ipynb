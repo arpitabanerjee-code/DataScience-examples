{
 "cells": [
  {
   "cell_type": "markdown",
   "metadata": {},
   "source": [
    "## Table of Contents\n",
    "1.  [Problem statement](#1.-Problem_Statement)\n",
    "\n",
    "    1.1  [Data](#1.1-Dataset_Description:)   \n",
    "    1.2  [Error-Metric](#1.2-Error_Metric)     \n",
    "    1.3  [Libraries](#1.3-Libraries)   \n",
    "    1.4  [Data Reading](#1.4-Reading_Data)\n",
    "\n",
    "2.  [Exploratory Data Analysis](#2.-Exploratory_Data_Analysis)\n",
    "3.  [Observations](#3.-Observations)     \n",
    "4.  [Model buillding](#4.-Model_Building)\n",
    "5.  [Overall_Insights](#5.-Overall_Insights)"
   ]
  },
  {
   "cell_type": "markdown",
   "metadata": {},
   "source": [
    "### 1. Problem_Statement\n",
    "#### Sales forecasting of a pharmaceutical retail chain\n",
    "\n",
    "    KioMed, a huge pharmaceutical retailer, operates in in 10+ cities across India. The \n",
    "    company has one distribution warehouse in each of the cities it operates in. \n",
    "    Unfortunately, the warehouses are not able to consistently meet the demand of the \n",
    "    stores in their respective cities. Kio, the parent company, being a data driven \n",
    "    corporation wants to solve the stocking / inventory management problem using their \n",
    "    in-house data science team. \n",
    "    \n",
    "    The retailer has provided you with historical sales data and is looking to forecast the \n",
    "    sales for the period of one month after the end of the data. These forecasts will be \n",
    "    used to ensure that the company is able to stock its supplies of medicines in a \n",
    "    warehouse accordingly in each city for a period of one month. \n",
    "    \n",
    "    The company will also provide you with the footfall data for all the stores across each \n",
    "    of its cities. You can use this data, but as in the case of the real world, the footfall data \n",
    "    is only available at train time and not at test time "
   ]
  },
  {
   "cell_type": "markdown",
   "metadata": {},
   "source": [
    "### 1.1 Dataset_Description:\n",
    "The following datasets are given: \n",
    "    \n",
    "    ● train_data.csv: year, month, day, city, medicine, sales\n",
    "    ● test_data.csv: id, year, month, day, city, medicine\n",
    "    ● foot_fall.csv: footfall at all the stores in each city on a given day\n",
    "    ● city_dict.json: a dictionary mapping the integer value present in the train and \n",
    "    test datasets to the actual city\n",
    "    ● discount_features.csv : discounts on medicines\n",
    "    ● sample_submission.csv: id, sales"
   ]
  },
  {
   "cell_type": "markdown",
   "metadata": {},
   "source": [
    "### 1.2 Error_Metric : RMSE(Root Mean Square Error)"
   ]
  },
  {
   "cell_type": "markdown",
   "metadata": {
    "slideshow": {
     "slide_type": "slide"
    }
   },
   "source": [
    "### 1.3 Libraries"
   ]
  },
  {
   "cell_type": "code",
   "execution_count": 134,
   "metadata": {},
   "outputs": [],
   "source": [
    "import numpy as np\n",
    "import pandas as pd\n",
    "\n",
    "\n",
    "from sklearn.model_selection import train_test_split\n",
    "from sklearn.impute import SimpleImputer\n",
    "from sklearn.pipeline import Pipeline\n",
    "from sklearn.compose import ColumnTransformer\n",
    "from sklearn.preprocessing import StandardScaler, OneHotEncoder\n",
    "from sklearn.linear_model import LogisticRegression\n",
    "from sklearn.linear_model import LinearRegression\n",
    "\n",
    "from sklearn.metrics import accuracy_score,recall_score,precision_score,f1_score \n",
    "from sklearn.metrics import classification_report, confusion_matrix\n",
    "from sklearn.ensemble import RandomForestClassifier,GradientBoostingClassifier\n",
    "from sklearn.feature_selection import SelectFromModel\n",
    "\n",
    "from sklearn.model_selection import GridSearchCV, StratifiedKFold\n",
    "from sklearn.model_selection import RandomizedSearchCV\n",
    "from sklearn.svm import SVR\n",
    "from scipy.stats import uniform, truncnorm, randint\n",
    "from sklearn.tree import DecisionTreeRegressor\n",
    "from sklearn import tree\n",
    "from sklearn.ensemble import AdaBoostClassifier\n",
    "from sklearn_pandas import DataFrameMapper\n",
    "from sklearn.model_selection import StratifiedShuffleSplit\n",
    "\n",
    "from xgboost import XGBClassifier\n",
    "from statsmodels.tsa.seasonal import STL\n",
    "from statsmodels.tsa.arima.model import ARIMA\n",
    "from IPython.display import Image\n",
    "\n",
    "import matplotlib.pyplot as plt\n",
    "import seaborn as sns\n",
    "%matplotlib inline\n",
    "\n",
    "import warnings\n",
    "warnings.filterwarnings(\"ignore\")"
   ]
  },
  {
   "cell_type": "markdown",
   "metadata": {},
   "source": [
    "### 1.4 Reading_Data"
   ]
  },
  {
   "cell_type": "code",
   "execution_count": 2,
   "metadata": {
    "slideshow": {
     "slide_type": "slide"
    }
   },
   "outputs": [],
   "source": [
    "#Reading the data normally\n",
    "dataSource = 'train_data-1638436039700.csv'\n",
    "data=pd.read_csv(dataSource, na_values=['unknown', '#', '$'])"
   ]
  },
  {
   "cell_type": "code",
   "execution_count": 3,
   "metadata": {},
   "outputs": [],
   "source": [
    "#Reading the data as time series\n",
    "df = pd.read_csv(dataSource,\n",
    "                 parse_dates= {\"date\" : [\"year\",\"month\",\"day\"]}, index_col=\"date\", na_values=['unknown', '#', '$'])"
   ]
  },
  {
   "cell_type": "code",
   "execution_count": 4,
   "metadata": {},
   "outputs": [],
   "source": [
    "#Reading the foot fall data\n",
    "foot_fall = pd.read_csv(\"foot_fall-1638434879770.csv\")"
   ]
  },
  {
   "cell_type": "code",
   "execution_count": 5,
   "metadata": {},
   "outputs": [],
   "source": [
    "#Reading discount data\n",
    "disc_df = pd.read_csv(\"discount_features-1638436205304.csv\")"
   ]
  },
  {
   "cell_type": "code",
   "execution_count": 6,
   "metadata": {},
   "outputs": [
    {
     "name": "stdout",
     "output_type": "stream",
     "text": [
      "{'4': 'Mumbai', '5': 'Delhi', '7': 'Bangalore', '1': 'Kolkata', '6': 'Chennai', '8': 'Hyderabad', '9': 'Ahmedabad', '3': 'Jaipur', '10': 'Lucknow', '2': 'Other'}\n"
     ]
    }
   ],
   "source": [
    "#Reading the json file\n",
    "import json\n",
    " \n",
    "# Opening JSON file\n",
    "f = open('city_dict.json')\n",
    " \n",
    "# returns JSON object as\n",
    "# a dictionary\n",
    "data_city = json.load(f)\n",
    " \n",
    "print(data_city)\n",
    " \n",
    "\n",
    "f.close()"
   ]
  },
  {
   "cell_type": "code",
   "execution_count": 9,
   "metadata": {},
   "outputs": [],
   "source": [
    "#Keeping a copy of the data\n",
    "df_copy = df.copy()"
   ]
  },
  {
   "cell_type": "code",
   "execution_count": 10,
   "metadata": {},
   "outputs": [],
   "source": [
    "#Keeping a copy of it\n",
    "foot_fall_copy = foot_fall.copy()"
   ]
  },
  {
   "cell_type": "markdown",
   "metadata": {},
   "source": [
    "### 2. Exploratory_Data_Analysis"
   ]
  },
  {
   "cell_type": "code",
   "execution_count": 11,
   "metadata": {},
   "outputs": [
    {
     "data": {
      "text/plain": [
       "(22624345, 6)"
      ]
     },
     "execution_count": 11,
     "metadata": {},
     "output_type": "execute_result"
    }
   ],
   "source": [
    "data.shape"
   ]
  },
  {
   "cell_type": "code",
   "execution_count": 12,
   "metadata": {
    "slideshow": {
     "slide_type": "subslide"
    }
   },
   "outputs": [
    {
     "data": {
      "text/html": [
       "<div>\n",
       "<style scoped>\n",
       "    .dataframe tbody tr th:only-of-type {\n",
       "        vertical-align: middle;\n",
       "    }\n",
       "\n",
       "    .dataframe tbody tr th {\n",
       "        vertical-align: top;\n",
       "    }\n",
       "\n",
       "    .dataframe thead th {\n",
       "        text-align: right;\n",
       "    }\n",
       "</style>\n",
       "<table border=\"1\" class=\"dataframe\">\n",
       "  <thead>\n",
       "    <tr style=\"text-align: right;\">\n",
       "      <th></th>\n",
       "      <th>year</th>\n",
       "      <th>month</th>\n",
       "      <th>day</th>\n",
       "      <th>city</th>\n",
       "      <th>medicine</th>\n",
       "      <th>sales</th>\n",
       "    </tr>\n",
       "  </thead>\n",
       "  <tbody>\n",
       "    <tr>\n",
       "      <th>0</th>\n",
       "      <td>2015</td>\n",
       "      <td>1</td>\n",
       "      <td>2</td>\n",
       "      <td>1</td>\n",
       "      <td>1</td>\n",
       "      <td>24.0</td>\n",
       "    </tr>\n",
       "    <tr>\n",
       "      <th>1</th>\n",
       "      <td>2015</td>\n",
       "      <td>1</td>\n",
       "      <td>2</td>\n",
       "      <td>1</td>\n",
       "      <td>2</td>\n",
       "      <td>144.0</td>\n",
       "    </tr>\n",
       "    <tr>\n",
       "      <th>2</th>\n",
       "      <td>2015</td>\n",
       "      <td>1</td>\n",
       "      <td>2</td>\n",
       "      <td>1</td>\n",
       "      <td>3</td>\n",
       "      <td>84.0</td>\n",
       "    </tr>\n",
       "    <tr>\n",
       "      <th>3</th>\n",
       "      <td>2015</td>\n",
       "      <td>1</td>\n",
       "      <td>2</td>\n",
       "      <td>1</td>\n",
       "      <td>4</td>\n",
       "      <td>24.0</td>\n",
       "    </tr>\n",
       "    <tr>\n",
       "      <th>4</th>\n",
       "      <td>2015</td>\n",
       "      <td>1</td>\n",
       "      <td>2</td>\n",
       "      <td>1</td>\n",
       "      <td>5</td>\n",
       "      <td>8.0</td>\n",
       "    </tr>\n",
       "  </tbody>\n",
       "</table>\n",
       "</div>"
      ],
      "text/plain": [
       "   year  month  day  city  medicine  sales\n",
       "0  2015      1    2     1         1   24.0\n",
       "1  2015      1    2     1         2  144.0\n",
       "2  2015      1    2     1         3   84.0\n",
       "3  2015      1    2     1         4   24.0\n",
       "4  2015      1    2     1         5    8.0"
      ]
     },
     "execution_count": 12,
     "metadata": {},
     "output_type": "execute_result"
    }
   ],
   "source": [
    "data.head()"
   ]
  },
  {
   "cell_type": "code",
   "execution_count": 13,
   "metadata": {
    "slideshow": {
     "slide_type": "subslide"
    }
   },
   "outputs": [
    {
     "data": {
      "text/html": [
       "<div>\n",
       "<style scoped>\n",
       "    .dataframe tbody tr th:only-of-type {\n",
       "        vertical-align: middle;\n",
       "    }\n",
       "\n",
       "    .dataframe tbody tr th {\n",
       "        vertical-align: top;\n",
       "    }\n",
       "\n",
       "    .dataframe thead th {\n",
       "        text-align: right;\n",
       "    }\n",
       "</style>\n",
       "<table border=\"1\" class=\"dataframe\">\n",
       "  <thead>\n",
       "    <tr style=\"text-align: right;\">\n",
       "      <th></th>\n",
       "      <th>year</th>\n",
       "      <th>month</th>\n",
       "      <th>day</th>\n",
       "      <th>city</th>\n",
       "      <th>medicine</th>\n",
       "      <th>sales</th>\n",
       "    </tr>\n",
       "  </thead>\n",
       "  <tbody>\n",
       "    <tr>\n",
       "      <th>22624340</th>\n",
       "      <td>2018</td>\n",
       "      <td>6</td>\n",
       "      <td>30</td>\n",
       "      <td>10</td>\n",
       "      <td>3056</td>\n",
       "      <td>8.0</td>\n",
       "    </tr>\n",
       "    <tr>\n",
       "      <th>22624341</th>\n",
       "      <td>2018</td>\n",
       "      <td>6</td>\n",
       "      <td>30</td>\n",
       "      <td>10</td>\n",
       "      <td>3163</td>\n",
       "      <td>16.0</td>\n",
       "    </tr>\n",
       "    <tr>\n",
       "      <th>22624342</th>\n",
       "      <td>2018</td>\n",
       "      <td>6</td>\n",
       "      <td>30</td>\n",
       "      <td>10</td>\n",
       "      <td>3164</td>\n",
       "      <td>8.0</td>\n",
       "    </tr>\n",
       "    <tr>\n",
       "      <th>22624343</th>\n",
       "      <td>2018</td>\n",
       "      <td>6</td>\n",
       "      <td>30</td>\n",
       "      <td>10</td>\n",
       "      <td>3157</td>\n",
       "      <td>4.0</td>\n",
       "    </tr>\n",
       "    <tr>\n",
       "      <th>22624344</th>\n",
       "      <td>2018</td>\n",
       "      <td>6</td>\n",
       "      <td>30</td>\n",
       "      <td>10</td>\n",
       "      <td>3165</td>\n",
       "      <td>56.0</td>\n",
       "    </tr>\n",
       "  </tbody>\n",
       "</table>\n",
       "</div>"
      ],
      "text/plain": [
       "          year  month  day  city  medicine  sales\n",
       "22624340  2018      6   30    10      3056    8.0\n",
       "22624341  2018      6   30    10      3163   16.0\n",
       "22624342  2018      6   30    10      3164    8.0\n",
       "22624343  2018      6   30    10      3157    4.0\n",
       "22624344  2018      6   30    10      3165   56.0"
      ]
     },
     "execution_count": 13,
     "metadata": {},
     "output_type": "execute_result"
    }
   ],
   "source": [
    "data.tail()"
   ]
  },
  {
   "cell_type": "code",
   "execution_count": 14,
   "metadata": {
    "slideshow": {
     "slide_type": "subslide"
    }
   },
   "outputs": [
    {
     "data": {
      "text/html": [
       "<div>\n",
       "<style scoped>\n",
       "    .dataframe tbody tr th:only-of-type {\n",
       "        vertical-align: middle;\n",
       "    }\n",
       "\n",
       "    .dataframe tbody tr th {\n",
       "        vertical-align: top;\n",
       "    }\n",
       "\n",
       "    .dataframe thead th {\n",
       "        text-align: right;\n",
       "    }\n",
       "</style>\n",
       "<table border=\"1\" class=\"dataframe\">\n",
       "  <thead>\n",
       "    <tr style=\"text-align: right;\">\n",
       "      <th></th>\n",
       "      <th>year</th>\n",
       "      <th>month</th>\n",
       "      <th>day</th>\n",
       "      <th>city</th>\n",
       "      <th>medicine</th>\n",
       "      <th>sales</th>\n",
       "    </tr>\n",
       "  </thead>\n",
       "  <tbody>\n",
       "    <tr>\n",
       "      <th>count</th>\n",
       "      <td>2.262434e+07</td>\n",
       "      <td>2.262434e+07</td>\n",
       "      <td>2.262434e+07</td>\n",
       "      <td>2.262434e+07</td>\n",
       "      <td>2.262434e+07</td>\n",
       "      <td>2.262434e+07</td>\n",
       "    </tr>\n",
       "    <tr>\n",
       "      <th>mean</th>\n",
       "      <td>2.016510e+03</td>\n",
       "      <td>6.220520e+00</td>\n",
       "      <td>1.572557e+01</td>\n",
       "      <td>5.488639e+00</td>\n",
       "      <td>1.169635e+03</td>\n",
       "      <td>5.166032e+01</td>\n",
       "    </tr>\n",
       "    <tr>\n",
       "      <th>std</th>\n",
       "      <td>1.023379e+00</td>\n",
       "      <td>3.449989e+00</td>\n",
       "      <td>8.789664e+00</td>\n",
       "      <td>2.849396e+00</td>\n",
       "      <td>8.016848e+02</td>\n",
       "      <td>1.100297e+02</td>\n",
       "    </tr>\n",
       "    <tr>\n",
       "      <th>min</th>\n",
       "      <td>2.015000e+03</td>\n",
       "      <td>1.000000e+00</td>\n",
       "      <td>1.000000e+00</td>\n",
       "      <td>1.000000e+00</td>\n",
       "      <td>1.000000e+00</td>\n",
       "      <td>-9.948000e+03</td>\n",
       "    </tr>\n",
       "    <tr>\n",
       "      <th>25%</th>\n",
       "      <td>2.016000e+03</td>\n",
       "      <td>3.000000e+00</td>\n",
       "      <td>8.000000e+00</td>\n",
       "      <td>3.000000e+00</td>\n",
       "      <td>5.110000e+02</td>\n",
       "      <td>1.200000e+01</td>\n",
       "    </tr>\n",
       "    <tr>\n",
       "      <th>50%</th>\n",
       "      <td>2.017000e+03</td>\n",
       "      <td>6.000000e+00</td>\n",
       "      <td>1.600000e+01</td>\n",
       "      <td>5.000000e+00</td>\n",
       "      <td>1.034000e+03</td>\n",
       "      <td>2.800000e+01</td>\n",
       "    </tr>\n",
       "    <tr>\n",
       "      <th>75%</th>\n",
       "      <td>2.017000e+03</td>\n",
       "      <td>9.000000e+00</td>\n",
       "      <td>2.300000e+01</td>\n",
       "      <td>8.000000e+00</td>\n",
       "      <td>1.718000e+03</td>\n",
       "      <td>5.600000e+01</td>\n",
       "    </tr>\n",
       "    <tr>\n",
       "      <th>max</th>\n",
       "      <td>2.018000e+03</td>\n",
       "      <td>1.200000e+01</td>\n",
       "      <td>3.100000e+01</td>\n",
       "      <td>1.000000e+01</td>\n",
       "      <td>3.389000e+03</td>\n",
       "      <td>8.299200e+04</td>\n",
       "    </tr>\n",
       "  </tbody>\n",
       "</table>\n",
       "</div>"
      ],
      "text/plain": [
       "               year         month           day          city      medicine  \\\n",
       "count  2.262434e+07  2.262434e+07  2.262434e+07  2.262434e+07  2.262434e+07   \n",
       "mean   2.016510e+03  6.220520e+00  1.572557e+01  5.488639e+00  1.169635e+03   \n",
       "std    1.023379e+00  3.449989e+00  8.789664e+00  2.849396e+00  8.016848e+02   \n",
       "min    2.015000e+03  1.000000e+00  1.000000e+00  1.000000e+00  1.000000e+00   \n",
       "25%    2.016000e+03  3.000000e+00  8.000000e+00  3.000000e+00  5.110000e+02   \n",
       "50%    2.017000e+03  6.000000e+00  1.600000e+01  5.000000e+00  1.034000e+03   \n",
       "75%    2.017000e+03  9.000000e+00  2.300000e+01  8.000000e+00  1.718000e+03   \n",
       "max    2.018000e+03  1.200000e+01  3.100000e+01  1.000000e+01  3.389000e+03   \n",
       "\n",
       "              sales  \n",
       "count  2.262434e+07  \n",
       "mean   5.166032e+01  \n",
       "std    1.100297e+02  \n",
       "min   -9.948000e+03  \n",
       "25%    1.200000e+01  \n",
       "50%    2.800000e+01  \n",
       "75%    5.600000e+01  \n",
       "max    8.299200e+04  "
      ]
     },
     "execution_count": 14,
     "metadata": {},
     "output_type": "execute_result"
    }
   ],
   "source": [
    "data.describe(include='all')"
   ]
  },
  {
   "cell_type": "markdown",
   "metadata": {
    "slideshow": {
     "slide_type": "subslide"
    }
   },
   "source": [
    "The Description shows :\n",
    "- Sales have negative values\n",
    "- No categorical columns"
   ]
  },
  {
   "cell_type": "code",
   "execution_count": 15,
   "metadata": {
    "slideshow": {
     "slide_type": "subslide"
    }
   },
   "outputs": [
    {
     "data": {
      "text/plain": [
       "year             4\n",
       "month           12\n",
       "day             31\n",
       "city            10\n",
       "medicine      3389\n",
       "sales       175574\n",
       "dtype: int64"
      ]
     },
     "execution_count": 15,
     "metadata": {},
     "output_type": "execute_result"
    }
   ],
   "source": [
    "data.nunique()"
   ]
  },
  {
   "cell_type": "code",
   "execution_count": 16,
   "metadata": {},
   "outputs": [
    {
     "data": {
      "text/plain": [
       "array([   1,    2,    3, ..., 3387, 3388, 3389], dtype=int64)"
      ]
     },
     "execution_count": 16,
     "metadata": {},
     "output_type": "execute_result"
    }
   ],
   "source": [
    "np.sort(data.medicine.unique())"
   ]
  },
  {
   "cell_type": "markdown",
   "metadata": {},
   "source": [
    "### Checking data types"
   ]
  },
  {
   "cell_type": "code",
   "execution_count": 17,
   "metadata": {},
   "outputs": [
    {
     "data": {
      "text/plain": [
       "year          int64\n",
       "month         int64\n",
       "day           int64\n",
       "city          int64\n",
       "medicine      int64\n",
       "sales       float64\n",
       "dtype: object"
      ]
     },
     "execution_count": 17,
     "metadata": {},
     "output_type": "execute_result"
    }
   ],
   "source": [
    "data.dtypes"
   ]
  },
  {
   "cell_type": "code",
   "execution_count": 18,
   "metadata": {},
   "outputs": [
    {
     "data": {
      "text/plain": [
       "453     0.056130\n",
       "245     0.056125\n",
       "314     0.056125\n",
       "177     0.056121\n",
       "1077    0.056108\n",
       "          ...   \n",
       "2691    0.000004\n",
       "2710    0.000004\n",
       "2730    0.000004\n",
       "2748    0.000004\n",
       "2679    0.000004\n",
       "Name: medicine, Length: 3389, dtype: float64"
      ]
     },
     "execution_count": 18,
     "metadata": {},
     "output_type": "execute_result"
    }
   ],
   "source": [
    "data.medicine.value_counts(normalize=True)*100"
   ]
  },
  {
   "cell_type": "code",
   "execution_count": 19,
   "metadata": {},
   "outputs": [
    {
     "data": {
      "text/plain": [
       "Index(['year', 'month', 'day', 'city', 'medicine', 'sales'], dtype='object')"
      ]
     },
     "execution_count": 19,
     "metadata": {},
     "output_type": "execute_result"
    }
   ],
   "source": [
    "data.columns"
   ]
  },
  {
   "cell_type": "code",
   "execution_count": 20,
   "metadata": {
    "slideshow": {
     "slide_type": "subslide"
    }
   },
   "outputs": [
    {
     "data": {
      "text/plain": [
       "year        0\n",
       "month       0\n",
       "day         0\n",
       "city        0\n",
       "medicine    0\n",
       "sales       0\n",
       "dtype: int64"
      ]
     },
     "execution_count": 20,
     "metadata": {},
     "output_type": "execute_result"
    }
   ],
   "source": [
    "data.isnull().sum()"
   ]
  },
  {
   "cell_type": "code",
   "execution_count": 21,
   "metadata": {},
   "outputs": [],
   "source": [
    "#Check for duplicate data"
   ]
  },
  {
   "cell_type": "code",
   "execution_count": 22,
   "metadata": {},
   "outputs": [
    {
     "name": "stdout",
     "output_type": "stream",
     "text": [
      "<bound method NDFrame._add_numeric_operations.<locals>.any of 0           False\n",
      "1           False\n",
      "2           False\n",
      "3           False\n",
      "4           False\n",
      "            ...  \n",
      "22624340    False\n",
      "22624341    False\n",
      "22624342    False\n",
      "22624343    False\n",
      "22624344    False\n",
      "Length: 22624345, dtype: bool>\n"
     ]
    }
   ],
   "source": [
    "dups = data.duplicated()\n",
    "print(dups.any)"
   ]
  },
  {
   "cell_type": "code",
   "execution_count": 23,
   "metadata": {},
   "outputs": [
    {
     "data": {
      "text/html": [
       "<div>\n",
       "<style scoped>\n",
       "    .dataframe tbody tr th:only-of-type {\n",
       "        vertical-align: middle;\n",
       "    }\n",
       "\n",
       "    .dataframe tbody tr th {\n",
       "        vertical-align: top;\n",
       "    }\n",
       "\n",
       "    .dataframe thead th {\n",
       "        text-align: right;\n",
       "    }\n",
       "</style>\n",
       "<table border=\"1\" class=\"dataframe\">\n",
       "  <thead>\n",
       "    <tr style=\"text-align: right;\">\n",
       "      <th></th>\n",
       "      <th>year</th>\n",
       "      <th>month</th>\n",
       "      <th>day</th>\n",
       "      <th>city</th>\n",
       "      <th>medicine</th>\n",
       "      <th>sales</th>\n",
       "    </tr>\n",
       "  </thead>\n",
       "  <tbody>\n",
       "    <tr>\n",
       "      <th>year</th>\n",
       "      <td>1.000000</td>\n",
       "      <td>-0.252710</td>\n",
       "      <td>-0.000321</td>\n",
       "      <td>0.003372</td>\n",
       "      <td>0.328439</td>\n",
       "      <td>-0.003689</td>\n",
       "    </tr>\n",
       "    <tr>\n",
       "      <th>month</th>\n",
       "      <td>-0.252710</td>\n",
       "      <td>1.000000</td>\n",
       "      <td>-0.001755</td>\n",
       "      <td>0.001091</td>\n",
       "      <td>0.031144</td>\n",
       "      <td>0.017214</td>\n",
       "    </tr>\n",
       "    <tr>\n",
       "      <th>day</th>\n",
       "      <td>-0.000321</td>\n",
       "      <td>-0.001755</td>\n",
       "      <td>1.000000</td>\n",
       "      <td>-0.000864</td>\n",
       "      <td>0.005689</td>\n",
       "      <td>-0.019581</td>\n",
       "    </tr>\n",
       "    <tr>\n",
       "      <th>city</th>\n",
       "      <td>0.003372</td>\n",
       "      <td>0.001091</td>\n",
       "      <td>-0.000864</td>\n",
       "      <td>1.000000</td>\n",
       "      <td>0.006873</td>\n",
       "      <td>-0.017796</td>\n",
       "    </tr>\n",
       "    <tr>\n",
       "      <th>medicine</th>\n",
       "      <td>0.328439</td>\n",
       "      <td>0.031144</td>\n",
       "      <td>0.005689</td>\n",
       "      <td>0.006873</td>\n",
       "      <td>1.000000</td>\n",
       "      <td>0.008078</td>\n",
       "    </tr>\n",
       "    <tr>\n",
       "      <th>sales</th>\n",
       "      <td>-0.003689</td>\n",
       "      <td>0.017214</td>\n",
       "      <td>-0.019581</td>\n",
       "      <td>-0.017796</td>\n",
       "      <td>0.008078</td>\n",
       "      <td>1.000000</td>\n",
       "    </tr>\n",
       "  </tbody>\n",
       "</table>\n",
       "</div>"
      ],
      "text/plain": [
       "              year     month       day      city  medicine     sales\n",
       "year      1.000000 -0.252710 -0.000321  0.003372  0.328439 -0.003689\n",
       "month    -0.252710  1.000000 -0.001755  0.001091  0.031144  0.017214\n",
       "day      -0.000321 -0.001755  1.000000 -0.000864  0.005689 -0.019581\n",
       "city      0.003372  0.001091 -0.000864  1.000000  0.006873 -0.017796\n",
       "medicine  0.328439  0.031144  0.005689  0.006873  1.000000  0.008078\n",
       "sales    -0.003689  0.017214 -0.019581 -0.017796  0.008078  1.000000"
      ]
     },
     "execution_count": 23,
     "metadata": {},
     "output_type": "execute_result"
    }
   ],
   "source": [
    "#find the correlation between Regionname and Region_code\n",
    "data.corr()"
   ]
  },
  {
   "cell_type": "code",
   "execution_count": 24,
   "metadata": {},
   "outputs": [],
   "source": [
    "#No positive correlation between variables"
   ]
  },
  {
   "cell_type": "code",
   "execution_count": 25,
   "metadata": {},
   "outputs": [],
   "source": [
    "def barplot(column,df):\n",
    "    fig = plt.figure(figsize= (10,8))\n",
    "    bar_plot1 = sns.countplot(x=column, data=df)\n",
    "    \n",
    "    total = len(df[column])\n",
    "    for p in bar_plot1.patches:\n",
    "        percentage = '{:.2f}%'.format(100 * p.get_height()/total)\n",
    "        height = p.get_height()\n",
    "        bar_plot1.text(p.get_x()+ p.get_width()/2, height + 120, percentage, ha=\"center\")\n",
    "        "
   ]
  },
  {
   "cell_type": "code",
   "execution_count": 26,
   "metadata": {},
   "outputs": [
    {
     "data": {
      "text/html": [
       "<div>\n",
       "<style scoped>\n",
       "    .dataframe tbody tr th:only-of-type {\n",
       "        vertical-align: middle;\n",
       "    }\n",
       "\n",
       "    .dataframe tbody tr th {\n",
       "        vertical-align: top;\n",
       "    }\n",
       "\n",
       "    .dataframe thead th {\n",
       "        text-align: right;\n",
       "    }\n",
       "</style>\n",
       "<table border=\"1\" class=\"dataframe\">\n",
       "  <thead>\n",
       "    <tr style=\"text-align: right;\">\n",
       "      <th></th>\n",
       "      <th>city</th>\n",
       "      <th>2015-01-02</th>\n",
       "      <th>2015-01-03</th>\n",
       "      <th>2015-01-04</th>\n",
       "      <th>2015-01-05</th>\n",
       "      <th>2015-01-06</th>\n",
       "      <th>2015-01-07</th>\n",
       "      <th>2015-01-08</th>\n",
       "      <th>2015-01-09</th>\n",
       "      <th>2015-01-10</th>\n",
       "      <th>...</th>\n",
       "      <th>2018-06-21</th>\n",
       "      <th>2018-06-22</th>\n",
       "      <th>2018-06-23</th>\n",
       "      <th>2018-06-24</th>\n",
       "      <th>2018-06-25</th>\n",
       "      <th>2018-06-26</th>\n",
       "      <th>2018-06-27</th>\n",
       "      <th>2018-06-28</th>\n",
       "      <th>2018-06-29</th>\n",
       "      <th>2018-06-30</th>\n",
       "    </tr>\n",
       "  </thead>\n",
       "  <tbody>\n",
       "    <tr>\n",
       "      <th>count</th>\n",
       "      <td>10</td>\n",
       "      <td>10.000000</td>\n",
       "      <td>10.000000</td>\n",
       "      <td>10.000000</td>\n",
       "      <td>10.000000</td>\n",
       "      <td>10.000000</td>\n",
       "      <td>10.000000</td>\n",
       "      <td>10.000000</td>\n",
       "      <td>10.000000</td>\n",
       "      <td>10.000000</td>\n",
       "      <td>...</td>\n",
       "      <td>10.000000</td>\n",
       "      <td>10.000000</td>\n",
       "      <td>10.000000</td>\n",
       "      <td>10.000000</td>\n",
       "      <td>10.000000</td>\n",
       "      <td>10.000000</td>\n",
       "      <td>10.000000</td>\n",
       "      <td>10.000000</td>\n",
       "      <td>10.000000</td>\n",
       "      <td>10.000000</td>\n",
       "    </tr>\n",
       "    <tr>\n",
       "      <th>unique</th>\n",
       "      <td>10</td>\n",
       "      <td>NaN</td>\n",
       "      <td>NaN</td>\n",
       "      <td>NaN</td>\n",
       "      <td>NaN</td>\n",
       "      <td>NaN</td>\n",
       "      <td>NaN</td>\n",
       "      <td>NaN</td>\n",
       "      <td>NaN</td>\n",
       "      <td>NaN</td>\n",
       "      <td>...</td>\n",
       "      <td>NaN</td>\n",
       "      <td>NaN</td>\n",
       "      <td>NaN</td>\n",
       "      <td>NaN</td>\n",
       "      <td>NaN</td>\n",
       "      <td>NaN</td>\n",
       "      <td>NaN</td>\n",
       "      <td>NaN</td>\n",
       "      <td>NaN</td>\n",
       "      <td>NaN</td>\n",
       "    </tr>\n",
       "    <tr>\n",
       "      <th>top</th>\n",
       "      <td>Mumbai</td>\n",
       "      <td>NaN</td>\n",
       "      <td>NaN</td>\n",
       "      <td>NaN</td>\n",
       "      <td>NaN</td>\n",
       "      <td>NaN</td>\n",
       "      <td>NaN</td>\n",
       "      <td>NaN</td>\n",
       "      <td>NaN</td>\n",
       "      <td>NaN</td>\n",
       "      <td>...</td>\n",
       "      <td>NaN</td>\n",
       "      <td>NaN</td>\n",
       "      <td>NaN</td>\n",
       "      <td>NaN</td>\n",
       "      <td>NaN</td>\n",
       "      <td>NaN</td>\n",
       "      <td>NaN</td>\n",
       "      <td>NaN</td>\n",
       "      <td>NaN</td>\n",
       "      <td>NaN</td>\n",
       "    </tr>\n",
       "    <tr>\n",
       "      <th>freq</th>\n",
       "      <td>1</td>\n",
       "      <td>NaN</td>\n",
       "      <td>NaN</td>\n",
       "      <td>NaN</td>\n",
       "      <td>NaN</td>\n",
       "      <td>NaN</td>\n",
       "      <td>NaN</td>\n",
       "      <td>NaN</td>\n",
       "      <td>NaN</td>\n",
       "      <td>NaN</td>\n",
       "      <td>...</td>\n",
       "      <td>NaN</td>\n",
       "      <td>NaN</td>\n",
       "      <td>NaN</td>\n",
       "      <td>NaN</td>\n",
       "      <td>NaN</td>\n",
       "      <td>NaN</td>\n",
       "      <td>NaN</td>\n",
       "      <td>NaN</td>\n",
       "      <td>NaN</td>\n",
       "      <td>NaN</td>\n",
       "    </tr>\n",
       "    <tr>\n",
       "      <th>mean</th>\n",
       "      <td>NaN</td>\n",
       "      <td>14310.400000</td>\n",
       "      <td>11460.400000</td>\n",
       "      <td>12236.400000</td>\n",
       "      <td>15157.200000</td>\n",
       "      <td>15605.200000</td>\n",
       "      <td>11299.600000</td>\n",
       "      <td>10456.400000</td>\n",
       "      <td>10955.600000</td>\n",
       "      <td>9596.000000</td>\n",
       "      <td>...</td>\n",
       "      <td>10414.000000</td>\n",
       "      <td>10758.000000</td>\n",
       "      <td>9998.000000</td>\n",
       "      <td>11517.600000</td>\n",
       "      <td>13773.600000</td>\n",
       "      <td>13514.400000</td>\n",
       "      <td>10437.200000</td>\n",
       "      <td>9884.400000</td>\n",
       "      <td>10861.200000</td>\n",
       "      <td>10220.800000</td>\n",
       "    </tr>\n",
       "    <tr>\n",
       "      <th>std</th>\n",
       "      <td>NaN</td>\n",
       "      <td>3764.011194</td>\n",
       "      <td>2849.006969</td>\n",
       "      <td>3156.764279</td>\n",
       "      <td>3949.189306</td>\n",
       "      <td>4350.641557</td>\n",
       "      <td>2912.809076</td>\n",
       "      <td>2705.620455</td>\n",
       "      <td>2930.239854</td>\n",
       "      <td>2448.001452</td>\n",
       "      <td>...</td>\n",
       "      <td>2231.495164</td>\n",
       "      <td>2605.912082</td>\n",
       "      <td>2238.854668</td>\n",
       "      <td>2724.547963</td>\n",
       "      <td>3061.904244</td>\n",
       "      <td>3103.188439</td>\n",
       "      <td>2348.173796</td>\n",
       "      <td>2372.178333</td>\n",
       "      <td>2701.221485</td>\n",
       "      <td>2351.814656</td>\n",
       "    </tr>\n",
       "    <tr>\n",
       "      <th>min</th>\n",
       "      <td>NaN</td>\n",
       "      <td>8572.000000</td>\n",
       "      <td>6808.000000</td>\n",
       "      <td>6716.000000</td>\n",
       "      <td>8616.000000</td>\n",
       "      <td>9252.000000</td>\n",
       "      <td>6852.000000</td>\n",
       "      <td>6220.000000</td>\n",
       "      <td>6808.000000</td>\n",
       "      <td>5688.000000</td>\n",
       "      <td>...</td>\n",
       "      <td>6512.000000</td>\n",
       "      <td>6716.000000</td>\n",
       "      <td>6164.000000</td>\n",
       "      <td>6980.000000</td>\n",
       "      <td>8056.000000</td>\n",
       "      <td>8480.000000</td>\n",
       "      <td>6480.000000</td>\n",
       "      <td>6004.000000</td>\n",
       "      <td>7144.000000</td>\n",
       "      <td>6040.000000</td>\n",
       "    </tr>\n",
       "    <tr>\n",
       "      <th>25%</th>\n",
       "      <td>NaN</td>\n",
       "      <td>12481.000000</td>\n",
       "      <td>9808.000000</td>\n",
       "      <td>10994.000000</td>\n",
       "      <td>12639.000000</td>\n",
       "      <td>11682.000000</td>\n",
       "      <td>9810.000000</td>\n",
       "      <td>9073.000000</td>\n",
       "      <td>9000.000000</td>\n",
       "      <td>8368.000000</td>\n",
       "      <td>...</td>\n",
       "      <td>9030.000000</td>\n",
       "      <td>9186.000000</td>\n",
       "      <td>8785.000000</td>\n",
       "      <td>9723.000000</td>\n",
       "      <td>11990.000000</td>\n",
       "      <td>10944.000000</td>\n",
       "      <td>9083.000000</td>\n",
       "      <td>8258.000000</td>\n",
       "      <td>8894.000000</td>\n",
       "      <td>9343.000000</td>\n",
       "    </tr>\n",
       "    <tr>\n",
       "      <th>50%</th>\n",
       "      <td>NaN</td>\n",
       "      <td>13768.000000</td>\n",
       "      <td>11860.000000</td>\n",
       "      <td>12300.000000</td>\n",
       "      <td>15414.000000</td>\n",
       "      <td>16016.000000</td>\n",
       "      <td>11528.000000</td>\n",
       "      <td>10930.000000</td>\n",
       "      <td>11468.000000</td>\n",
       "      <td>10344.000000</td>\n",
       "      <td>...</td>\n",
       "      <td>10048.000000</td>\n",
       "      <td>10770.000000</td>\n",
       "      <td>9952.000000</td>\n",
       "      <td>11964.000000</td>\n",
       "      <td>13526.000000</td>\n",
       "      <td>13866.000000</td>\n",
       "      <td>10380.000000</td>\n",
       "      <td>9750.000000</td>\n",
       "      <td>10624.000000</td>\n",
       "      <td>10188.000000</td>\n",
       "    </tr>\n",
       "    <tr>\n",
       "      <th>75%</th>\n",
       "      <td>NaN</td>\n",
       "      <td>16785.000000</td>\n",
       "      <td>13628.000000</td>\n",
       "      <td>14324.000000</td>\n",
       "      <td>18623.000000</td>\n",
       "      <td>19366.000000</td>\n",
       "      <td>13222.000000</td>\n",
       "      <td>12367.000000</td>\n",
       "      <td>12793.000000</td>\n",
       "      <td>10740.000000</td>\n",
       "      <td>...</td>\n",
       "      <td>12156.000000</td>\n",
       "      <td>11856.000000</td>\n",
       "      <td>11241.000000</td>\n",
       "      <td>12992.000000</td>\n",
       "      <td>15980.000000</td>\n",
       "      <td>15563.000000</td>\n",
       "      <td>11690.000000</td>\n",
       "      <td>11061.000000</td>\n",
       "      <td>12178.000000</td>\n",
       "      <td>11401.000000</td>\n",
       "    </tr>\n",
       "    <tr>\n",
       "      <th>max</th>\n",
       "      <td>NaN</td>\n",
       "      <td>19544.000000</td>\n",
       "      <td>14640.000000</td>\n",
       "      <td>16676.000000</td>\n",
       "      <td>19740.000000</td>\n",
       "      <td>21604.000000</td>\n",
       "      <td>15484.000000</td>\n",
       "      <td>14372.000000</td>\n",
       "      <td>16024.000000</td>\n",
       "      <td>13292.000000</td>\n",
       "      <td>...</td>\n",
       "      <td>14068.000000</td>\n",
       "      <td>15404.000000</td>\n",
       "      <td>14088.000000</td>\n",
       "      <td>16368.000000</td>\n",
       "      <td>18800.000000</td>\n",
       "      <td>18640.000000</td>\n",
       "      <td>14772.000000</td>\n",
       "      <td>14208.000000</td>\n",
       "      <td>16044.000000</td>\n",
       "      <td>14628.000000</td>\n",
       "    </tr>\n",
       "  </tbody>\n",
       "</table>\n",
       "<p>11 rows × 1268 columns</p>\n",
       "</div>"
      ],
      "text/plain": [
       "          city    2015-01-02    2015-01-03    2015-01-04    2015-01-05  \\\n",
       "count       10     10.000000     10.000000     10.000000     10.000000   \n",
       "unique      10           NaN           NaN           NaN           NaN   \n",
       "top     Mumbai           NaN           NaN           NaN           NaN   \n",
       "freq         1           NaN           NaN           NaN           NaN   \n",
       "mean       NaN  14310.400000  11460.400000  12236.400000  15157.200000   \n",
       "std        NaN   3764.011194   2849.006969   3156.764279   3949.189306   \n",
       "min        NaN   8572.000000   6808.000000   6716.000000   8616.000000   \n",
       "25%        NaN  12481.000000   9808.000000  10994.000000  12639.000000   \n",
       "50%        NaN  13768.000000  11860.000000  12300.000000  15414.000000   \n",
       "75%        NaN  16785.000000  13628.000000  14324.000000  18623.000000   \n",
       "max        NaN  19544.000000  14640.000000  16676.000000  19740.000000   \n",
       "\n",
       "          2015-01-06    2015-01-07    2015-01-08    2015-01-09    2015-01-10  \\\n",
       "count      10.000000     10.000000     10.000000     10.000000     10.000000   \n",
       "unique           NaN           NaN           NaN           NaN           NaN   \n",
       "top              NaN           NaN           NaN           NaN           NaN   \n",
       "freq             NaN           NaN           NaN           NaN           NaN   \n",
       "mean    15605.200000  11299.600000  10456.400000  10955.600000   9596.000000   \n",
       "std      4350.641557   2912.809076   2705.620455   2930.239854   2448.001452   \n",
       "min      9252.000000   6852.000000   6220.000000   6808.000000   5688.000000   \n",
       "25%     11682.000000   9810.000000   9073.000000   9000.000000   8368.000000   \n",
       "50%     16016.000000  11528.000000  10930.000000  11468.000000  10344.000000   \n",
       "75%     19366.000000  13222.000000  12367.000000  12793.000000  10740.000000   \n",
       "max     21604.000000  15484.000000  14372.000000  16024.000000  13292.000000   \n",
       "\n",
       "        ...    2018-06-21    2018-06-22    2018-06-23    2018-06-24  \\\n",
       "count   ...     10.000000     10.000000     10.000000     10.000000   \n",
       "unique  ...           NaN           NaN           NaN           NaN   \n",
       "top     ...           NaN           NaN           NaN           NaN   \n",
       "freq    ...           NaN           NaN           NaN           NaN   \n",
       "mean    ...  10414.000000  10758.000000   9998.000000  11517.600000   \n",
       "std     ...   2231.495164   2605.912082   2238.854668   2724.547963   \n",
       "min     ...   6512.000000   6716.000000   6164.000000   6980.000000   \n",
       "25%     ...   9030.000000   9186.000000   8785.000000   9723.000000   \n",
       "50%     ...  10048.000000  10770.000000   9952.000000  11964.000000   \n",
       "75%     ...  12156.000000  11856.000000  11241.000000  12992.000000   \n",
       "max     ...  14068.000000  15404.000000  14088.000000  16368.000000   \n",
       "\n",
       "          2018-06-25    2018-06-26    2018-06-27    2018-06-28    2018-06-29  \\\n",
       "count      10.000000     10.000000     10.000000     10.000000     10.000000   \n",
       "unique           NaN           NaN           NaN           NaN           NaN   \n",
       "top              NaN           NaN           NaN           NaN           NaN   \n",
       "freq             NaN           NaN           NaN           NaN           NaN   \n",
       "mean    13773.600000  13514.400000  10437.200000   9884.400000  10861.200000   \n",
       "std      3061.904244   3103.188439   2348.173796   2372.178333   2701.221485   \n",
       "min      8056.000000   8480.000000   6480.000000   6004.000000   7144.000000   \n",
       "25%     11990.000000  10944.000000   9083.000000   8258.000000   8894.000000   \n",
       "50%     13526.000000  13866.000000  10380.000000   9750.000000  10624.000000   \n",
       "75%     15980.000000  15563.000000  11690.000000  11061.000000  12178.000000   \n",
       "max     18800.000000  18640.000000  14772.000000  14208.000000  16044.000000   \n",
       "\n",
       "          2018-06-30  \n",
       "count      10.000000  \n",
       "unique           NaN  \n",
       "top              NaN  \n",
       "freq             NaN  \n",
       "mean    10220.800000  \n",
       "std      2351.814656  \n",
       "min      6040.000000  \n",
       "25%      9343.000000  \n",
       "50%     10188.000000  \n",
       "75%     11401.000000  \n",
       "max     14628.000000  \n",
       "\n",
       "[11 rows x 1268 columns]"
      ]
     },
     "execution_count": 26,
     "metadata": {},
     "output_type": "execute_result"
    }
   ],
   "source": [
    "foot_fall.describe(include='all')"
   ]
  },
  {
   "cell_type": "code",
   "execution_count": 27,
   "metadata": {},
   "outputs": [
    {
     "data": {
      "text/html": [
       "<div>\n",
       "<style scoped>\n",
       "    .dataframe tbody tr th:only-of-type {\n",
       "        vertical-align: middle;\n",
       "    }\n",
       "\n",
       "    .dataframe tbody tr th {\n",
       "        vertical-align: top;\n",
       "    }\n",
       "\n",
       "    .dataframe thead th {\n",
       "        text-align: right;\n",
       "    }\n",
       "</style>\n",
       "<table border=\"1\" class=\"dataframe\">\n",
       "  <thead>\n",
       "    <tr style=\"text-align: right;\">\n",
       "      <th></th>\n",
       "      <th>city</th>\n",
       "      <th>2015-01-02</th>\n",
       "      <th>2015-01-03</th>\n",
       "      <th>2015-01-04</th>\n",
       "      <th>2015-01-05</th>\n",
       "      <th>2015-01-06</th>\n",
       "      <th>2015-01-07</th>\n",
       "      <th>2015-01-08</th>\n",
       "      <th>2015-01-09</th>\n",
       "      <th>2015-01-10</th>\n",
       "      <th>...</th>\n",
       "      <th>2018-06-21</th>\n",
       "      <th>2018-06-22</th>\n",
       "      <th>2018-06-23</th>\n",
       "      <th>2018-06-24</th>\n",
       "      <th>2018-06-25</th>\n",
       "      <th>2018-06-26</th>\n",
       "      <th>2018-06-27</th>\n",
       "      <th>2018-06-28</th>\n",
       "      <th>2018-06-29</th>\n",
       "      <th>2018-06-30</th>\n",
       "    </tr>\n",
       "  </thead>\n",
       "  <tbody>\n",
       "    <tr>\n",
       "      <th>0</th>\n",
       "      <td>Ahmedabad</td>\n",
       "      <td>9384.0</td>\n",
       "      <td>6808.0</td>\n",
       "      <td>8064.0</td>\n",
       "      <td>10248.0</td>\n",
       "      <td>11180.0</td>\n",
       "      <td>6876.0</td>\n",
       "      <td>6436.0</td>\n",
       "      <td>7104.0</td>\n",
       "      <td>5924.0</td>\n",
       "      <td>...</td>\n",
       "      <td>9624.0</td>\n",
       "      <td>10476.0</td>\n",
       "      <td>9584.0</td>\n",
       "      <td>11940.0</td>\n",
       "      <td>13040.0</td>\n",
       "      <td>12144.0</td>\n",
       "      <td>10164.0</td>\n",
       "      <td>9784.0</td>\n",
       "      <td>10472.0</td>\n",
       "      <td>10040.0</td>\n",
       "    </tr>\n",
       "    <tr>\n",
       "      <th>1</th>\n",
       "      <td>Bangalore</td>\n",
       "      <td>16644.0</td>\n",
       "      <td>14640.0</td>\n",
       "      <td>15660.0</td>\n",
       "      <td>19056.0</td>\n",
       "      <td>19740.0</td>\n",
       "      <td>14280.0</td>\n",
       "      <td>12740.0</td>\n",
       "      <td>13480.0</td>\n",
       "      <td>11928.0</td>\n",
       "      <td>...</td>\n",
       "      <td>12412.0</td>\n",
       "      <td>13392.0</td>\n",
       "      <td>11948.0</td>\n",
       "      <td>13860.0</td>\n",
       "      <td>16384.0</td>\n",
       "      <td>16192.0</td>\n",
       "      <td>12388.0</td>\n",
       "      <td>12124.0</td>\n",
       "      <td>13412.0</td>\n",
       "      <td>12172.0</td>\n",
       "    </tr>\n",
       "    <tr>\n",
       "      <th>2</th>\n",
       "      <td>Chennai</td>\n",
       "      <td>19544.0</td>\n",
       "      <td>13752.0</td>\n",
       "      <td>13736.0</td>\n",
       "      <td>19740.0</td>\n",
       "      <td>21604.0</td>\n",
       "      <td>12820.0</td>\n",
       "      <td>12244.0</td>\n",
       "      <td>11956.0</td>\n",
       "      <td>10508.0</td>\n",
       "      <td>...</td>\n",
       "      <td>10420.0</td>\n",
       "      <td>11044.0</td>\n",
       "      <td>10320.0</td>\n",
       "      <td>11988.0</td>\n",
       "      <td>15248.0</td>\n",
       "      <td>15188.0</td>\n",
       "      <td>10596.0</td>\n",
       "      <td>9716.0</td>\n",
       "      <td>10776.0</td>\n",
       "      <td>10336.0</td>\n",
       "    </tr>\n",
       "    <tr>\n",
       "      <th>3</th>\n",
       "      <td>Delhi</td>\n",
       "      <td>16832.0</td>\n",
       "      <td>13256.0</td>\n",
       "      <td>14520.0</td>\n",
       "      <td>17324.0</td>\n",
       "      <td>17672.0</td>\n",
       "      <td>13356.0</td>\n",
       "      <td>12408.0</td>\n",
       "      <td>13072.0</td>\n",
       "      <td>10788.0</td>\n",
       "      <td>...</td>\n",
       "      <td>12308.0</td>\n",
       "      <td>11772.0</td>\n",
       "      <td>11492.0</td>\n",
       "      <td>13284.0</td>\n",
       "      <td>16224.0</td>\n",
       "      <td>15688.0</td>\n",
       "      <td>11728.0</td>\n",
       "      <td>11164.0</td>\n",
       "      <td>12272.0</td>\n",
       "      <td>11692.0</td>\n",
       "    </tr>\n",
       "    <tr>\n",
       "      <th>4</th>\n",
       "      <td>Hyderabad</td>\n",
       "      <td>13588.0</td>\n",
       "      <td>11548.0</td>\n",
       "      <td>11600.0</td>\n",
       "      <td>16336.0</td>\n",
       "      <td>18364.0</td>\n",
       "      <td>10788.0</td>\n",
       "      <td>9280.0</td>\n",
       "      <td>9264.0</td>\n",
       "      <td>8848.0</td>\n",
       "      <td>...</td>\n",
       "      <td>8832.0</td>\n",
       "      <td>8756.0</td>\n",
       "      <td>8528.0</td>\n",
       "      <td>9464.0</td>\n",
       "      <td>13356.0</td>\n",
       "      <td>14384.0</td>\n",
       "      <td>8900.0</td>\n",
       "      <td>7792.0</td>\n",
       "      <td>8420.0</td>\n",
       "      <td>9240.0</td>\n",
       "    </tr>\n",
       "  </tbody>\n",
       "</table>\n",
       "<p>5 rows × 1268 columns</p>\n",
       "</div>"
      ],
      "text/plain": [
       "        city  2015-01-02  2015-01-03  2015-01-04  2015-01-05  2015-01-06  \\\n",
       "0  Ahmedabad      9384.0      6808.0      8064.0     10248.0     11180.0   \n",
       "1  Bangalore     16644.0     14640.0     15660.0     19056.0     19740.0   \n",
       "2    Chennai     19544.0     13752.0     13736.0     19740.0     21604.0   \n",
       "3      Delhi     16832.0     13256.0     14520.0     17324.0     17672.0   \n",
       "4  Hyderabad     13588.0     11548.0     11600.0     16336.0     18364.0   \n",
       "\n",
       "   2015-01-07  2015-01-08  2015-01-09  2015-01-10  ...  2018-06-21  \\\n",
       "0      6876.0      6436.0      7104.0      5924.0  ...      9624.0   \n",
       "1     14280.0     12740.0     13480.0     11928.0  ...     12412.0   \n",
       "2     12820.0     12244.0     11956.0     10508.0  ...     10420.0   \n",
       "3     13356.0     12408.0     13072.0     10788.0  ...     12308.0   \n",
       "4     10788.0      9280.0      9264.0      8848.0  ...      8832.0   \n",
       "\n",
       "   2018-06-22  2018-06-23  2018-06-24  2018-06-25  2018-06-26  2018-06-27  \\\n",
       "0     10476.0      9584.0     11940.0     13040.0     12144.0     10164.0   \n",
       "1     13392.0     11948.0     13860.0     16384.0     16192.0     12388.0   \n",
       "2     11044.0     10320.0     11988.0     15248.0     15188.0     10596.0   \n",
       "3     11772.0     11492.0     13284.0     16224.0     15688.0     11728.0   \n",
       "4      8756.0      8528.0      9464.0     13356.0     14384.0      8900.0   \n",
       "\n",
       "   2018-06-28  2018-06-29  2018-06-30  \n",
       "0      9784.0     10472.0     10040.0  \n",
       "1     12124.0     13412.0     12172.0  \n",
       "2      9716.0     10776.0     10336.0  \n",
       "3     11164.0     12272.0     11692.0  \n",
       "4      7792.0      8420.0      9240.0  \n",
       "\n",
       "[5 rows x 1268 columns]"
      ]
     },
     "execution_count": 27,
     "metadata": {},
     "output_type": "execute_result"
    }
   ],
   "source": [
    "foot_fall.head()"
   ]
  },
  {
   "cell_type": "code",
   "execution_count": null,
   "metadata": {},
   "outputs": [],
   "source": []
  },
  {
   "cell_type": "code",
   "execution_count": 28,
   "metadata": {},
   "outputs": [],
   "source": [
    "#Taking a transpose\n",
    "tfoot_fall = foot_fall.set_index('city').transpose()"
   ]
  },
  {
   "cell_type": "code",
   "execution_count": 29,
   "metadata": {},
   "outputs": [
    {
     "data": {
      "text/plain": [
       "(1267, 10)"
      ]
     },
     "execution_count": 29,
     "metadata": {},
     "output_type": "execute_result"
    }
   ],
   "source": [
    "tfoot_fall.shape"
   ]
  },
  {
   "cell_type": "code",
   "execution_count": 30,
   "metadata": {},
   "outputs": [
    {
     "data": {
      "text/plain": [
       "array(['Ahmedabad', 'Bangalore', 'Chennai', 'Delhi', 'Hyderabad',\n",
       "       'Jaipur', 'Kolkata', 'Lucknow', 'Mumbai', 'Other'], dtype=object)"
      ]
     },
     "execution_count": 30,
     "metadata": {},
     "output_type": "execute_result"
    }
   ],
   "source": [
    "cities = foot_fall[\"city\"].unique()\n",
    "cities"
   ]
  },
  {
   "cell_type": "markdown",
   "metadata": {},
   "source": [
    "### Univariate analysis\n"
   ]
  },
  {
   "cell_type": "code",
   "execution_count": 31,
   "metadata": {},
   "outputs": [
    {
     "data": {
      "text/plain": [
       "Int64Index([1, 1, 1, 1, 1, 1, 1, 1, 1, 1,\n",
       "            ...\n",
       "            6, 6, 6, 6, 6, 6, 6, 6, 6, 6],\n",
       "           dtype='int64', length=1267)"
      ]
     },
     "execution_count": 31,
     "metadata": {},
     "output_type": "execute_result"
    }
   ],
   "source": [
    "pd.DatetimeIndex(list(tfoot_fall.index)).month"
   ]
  },
  {
   "cell_type": "code",
   "execution_count": 32,
   "metadata": {},
   "outputs": [
    {
     "data": {
      "image/png": "[encoded data removed]",
      "text/plain": [
       "<Figure size 1440x720 with 1 Axes>"
      ]
     },
     "metadata": {
      "needs_background": "light"
     },
     "output_type": "display_data"
    }
   ],
   "source": [
    "#Plotting the footfall yearwise\n",
    "fig = plt.figure(figsize=(20,10))\n",
    "axes = fig.add_subplot(1, 1, 1)\n",
    "tfoot_fall.groupby(pd.DatetimeIndex(list(tfoot_fall.index)).month).count().plot(kind=\"bar\", ax = axes)\n",
    "plt.show()"
   ]
  },
  {
   "cell_type": "code",
   "execution_count": 33,
   "metadata": {},
   "outputs": [],
   "source": [
    "#Footfall in 2018 is the least in all the cities"
   ]
  },
  {
   "cell_type": "code",
   "execution_count": 34,
   "metadata": {},
   "outputs": [],
   "source": [
    "#Footfall is the least in the months of september, november and december. \n",
    "#Footfall is the highest in the months of March and May"
   ]
  },
  {
   "cell_type": "code",
   "execution_count": 35,
   "metadata": {},
   "outputs": [
    {
     "data": {
      "text/plain": [
       "(array([131., 285., 467., 262.,  87.,  18.,   5.,   4.,   5.,   3.]),\n",
       " array([ 5504.,  7460.,  9416., 11372., 13328., 15284., 17240., 19196.,\n",
       "        21152., 23108., 25064.]),\n",
       " <BarContainer object of 10 artists>)"
      ]
     },
     "execution_count": 35,
     "metadata": {},
     "output_type": "execute_result"
    },
    {
     "data": {
      "image/png": "[encoded data removed]",
      "text/plain": [
       "<Figure size 432x288 with 1 Axes>"
      ]
     },
     "metadata": {
      "needs_background": "light"
     },
     "output_type": "display_data"
    }
   ],
   "source": [
    "plt.hist(tfoot_fall['Ahmedabad'])"
   ]
  },
  {
   "cell_type": "code",
   "execution_count": 36,
   "metadata": {},
   "outputs": [
    {
     "data": {
      "text/html": [
       "<div>\n",
       "<style scoped>\n",
       "    .dataframe tbody tr th:only-of-type {\n",
       "        vertical-align: middle;\n",
       "    }\n",
       "\n",
       "    .dataframe tbody tr th {\n",
       "        vertical-align: top;\n",
       "    }\n",
       "\n",
       "    .dataframe thead th {\n",
       "        text-align: right;\n",
       "    }\n",
       "</style>\n",
       "<table border=\"1\" class=\"dataframe\">\n",
       "  <thead>\n",
       "    <tr style=\"text-align: right;\">\n",
       "      <th>city</th>\n",
       "      <th>Ahmedabad</th>\n",
       "      <th>Bangalore</th>\n",
       "      <th>Chennai</th>\n",
       "      <th>Delhi</th>\n",
       "      <th>Hyderabad</th>\n",
       "      <th>Jaipur</th>\n",
       "      <th>Kolkata</th>\n",
       "      <th>Lucknow</th>\n",
       "      <th>Mumbai</th>\n",
       "      <th>Other</th>\n",
       "    </tr>\n",
       "    <tr>\n",
       "      <th>city</th>\n",
       "      <th></th>\n",
       "      <th></th>\n",
       "      <th></th>\n",
       "      <th></th>\n",
       "      <th></th>\n",
       "      <th></th>\n",
       "      <th></th>\n",
       "      <th></th>\n",
       "      <th></th>\n",
       "      <th></th>\n",
       "    </tr>\n",
       "  </thead>\n",
       "  <tbody>\n",
       "    <tr>\n",
       "      <th>Ahmedabad</th>\n",
       "      <td>1.000000</td>\n",
       "      <td>0.811083</td>\n",
       "      <td>0.741345</td>\n",
       "      <td>0.814504</td>\n",
       "      <td>0.742798</td>\n",
       "      <td>0.596762</td>\n",
       "      <td>0.840455</td>\n",
       "      <td>0.698483</td>\n",
       "      <td>0.859310</td>\n",
       "      <td>0.758205</td>\n",
       "    </tr>\n",
       "    <tr>\n",
       "      <th>Bangalore</th>\n",
       "      <td>0.811083</td>\n",
       "      <td>1.000000</td>\n",
       "      <td>0.957016</td>\n",
       "      <td>0.962016</td>\n",
       "      <td>0.949290</td>\n",
       "      <td>0.609287</td>\n",
       "      <td>0.916764</td>\n",
       "      <td>0.915801</td>\n",
       "      <td>0.910781</td>\n",
       "      <td>0.916011</td>\n",
       "    </tr>\n",
       "    <tr>\n",
       "      <th>Chennai</th>\n",
       "      <td>0.741345</td>\n",
       "      <td>0.957016</td>\n",
       "      <td>1.000000</td>\n",
       "      <td>0.962561</td>\n",
       "      <td>0.979266</td>\n",
       "      <td>0.544047</td>\n",
       "      <td>0.883205</td>\n",
       "      <td>0.943654</td>\n",
       "      <td>0.879197</td>\n",
       "      <td>0.922876</td>\n",
       "    </tr>\n",
       "    <tr>\n",
       "      <th>Delhi</th>\n",
       "      <td>0.814504</td>\n",
       "      <td>0.962016</td>\n",
       "      <td>0.962561</td>\n",
       "      <td>1.000000</td>\n",
       "      <td>0.950719</td>\n",
       "      <td>0.614548</td>\n",
       "      <td>0.917783</td>\n",
       "      <td>0.932949</td>\n",
       "      <td>0.914809</td>\n",
       "      <td>0.909994</td>\n",
       "    </tr>\n",
       "    <tr>\n",
       "      <th>Hyderabad</th>\n",
       "      <td>0.742798</td>\n",
       "      <td>0.949290</td>\n",
       "      <td>0.979266</td>\n",
       "      <td>0.950719</td>\n",
       "      <td>1.000000</td>\n",
       "      <td>0.472640</td>\n",
       "      <td>0.852425</td>\n",
       "      <td>0.918095</td>\n",
       "      <td>0.858101</td>\n",
       "      <td>0.912860</td>\n",
       "    </tr>\n",
       "    <tr>\n",
       "      <th>Jaipur</th>\n",
       "      <td>0.596762</td>\n",
       "      <td>0.609287</td>\n",
       "      <td>0.544047</td>\n",
       "      <td>0.614548</td>\n",
       "      <td>0.472640</td>\n",
       "      <td>1.000000</td>\n",
       "      <td>0.768342</td>\n",
       "      <td>0.579117</td>\n",
       "      <td>0.726716</td>\n",
       "      <td>0.613951</td>\n",
       "    </tr>\n",
       "    <tr>\n",
       "      <th>Kolkata</th>\n",
       "      <td>0.840455</td>\n",
       "      <td>0.916764</td>\n",
       "      <td>0.883205</td>\n",
       "      <td>0.917783</td>\n",
       "      <td>0.852425</td>\n",
       "      <td>0.768342</td>\n",
       "      <td>1.000000</td>\n",
       "      <td>0.857028</td>\n",
       "      <td>0.931647</td>\n",
       "      <td>0.915966</td>\n",
       "    </tr>\n",
       "    <tr>\n",
       "      <th>Lucknow</th>\n",
       "      <td>0.698483</td>\n",
       "      <td>0.915801</td>\n",
       "      <td>0.943654</td>\n",
       "      <td>0.932949</td>\n",
       "      <td>0.918095</td>\n",
       "      <td>0.579117</td>\n",
       "      <td>0.857028</td>\n",
       "      <td>1.000000</td>\n",
       "      <td>0.850669</td>\n",
       "      <td>0.866458</td>\n",
       "    </tr>\n",
       "    <tr>\n",
       "      <th>Mumbai</th>\n",
       "      <td>0.859310</td>\n",
       "      <td>0.910781</td>\n",
       "      <td>0.879197</td>\n",
       "      <td>0.914809</td>\n",
       "      <td>0.858101</td>\n",
       "      <td>0.726716</td>\n",
       "      <td>0.931647</td>\n",
       "      <td>0.850669</td>\n",
       "      <td>1.000000</td>\n",
       "      <td>0.866922</td>\n",
       "    </tr>\n",
       "    <tr>\n",
       "      <th>Other</th>\n",
       "      <td>0.758205</td>\n",
       "      <td>0.916011</td>\n",
       "      <td>0.922876</td>\n",
       "      <td>0.909994</td>\n",
       "      <td>0.912860</td>\n",
       "      <td>0.613951</td>\n",
       "      <td>0.915966</td>\n",
       "      <td>0.866458</td>\n",
       "      <td>0.866922</td>\n",
       "      <td>1.000000</td>\n",
       "    </tr>\n",
       "  </tbody>\n",
       "</table>\n",
       "</div>"
      ],
      "text/plain": [
       "city       Ahmedabad  Bangalore   Chennai     Delhi  Hyderabad    Jaipur  \\\n",
       "city                                                                       \n",
       "Ahmedabad   1.000000   0.811083  0.741345  0.814504   0.742798  0.596762   \n",
       "Bangalore   0.811083   1.000000  0.957016  0.962016   0.949290  0.609287   \n",
       "Chennai     0.741345   0.957016  1.000000  0.962561   0.979266  0.544047   \n",
       "Delhi       0.814504   0.962016  0.962561  1.000000   0.950719  0.614548   \n",
       "Hyderabad   0.742798   0.949290  0.979266  0.950719   1.000000  0.472640   \n",
       "Jaipur      0.596762   0.609287  0.544047  0.614548   0.472640  1.000000   \n",
       "Kolkata     0.840455   0.916764  0.883205  0.917783   0.852425  0.768342   \n",
       "Lucknow     0.698483   0.915801  0.943654  0.932949   0.918095  0.579117   \n",
       "Mumbai      0.859310   0.910781  0.879197  0.914809   0.858101  0.726716   \n",
       "Other       0.758205   0.916011  0.922876  0.909994   0.912860  0.613951   \n",
       "\n",
       "city        Kolkata   Lucknow    Mumbai     Other  \n",
       "city                                               \n",
       "Ahmedabad  0.840455  0.698483  0.859310  0.758205  \n",
       "Bangalore  0.916764  0.915801  0.910781  0.916011  \n",
       "Chennai    0.883205  0.943654  0.879197  0.922876  \n",
       "Delhi      0.917783  0.932949  0.914809  0.909994  \n",
       "Hyderabad  0.852425  0.918095  0.858101  0.912860  \n",
       "Jaipur     0.768342  0.579117  0.726716  0.613951  \n",
       "Kolkata    1.000000  0.857028  0.931647  0.915966  \n",
       "Lucknow    0.857028  1.000000  0.850669  0.866458  \n",
       "Mumbai     0.931647  0.850669  1.000000  0.866922  \n",
       "Other      0.915966  0.866458  0.866922  1.000000  "
      ]
     },
     "execution_count": 36,
     "metadata": {},
     "output_type": "execute_result"
    }
   ],
   "source": [
    "#Checking the correlation between cities\n",
    "tfoot_fall.corr()"
   ]
  },
  {
   "cell_type": "code",
   "execution_count": 37,
   "metadata": {},
   "outputs": [],
   "source": [
    "#There is least correlation between Jaipur and the remaining cities"
   ]
  },
  {
   "cell_type": "code",
   "execution_count": 38,
   "metadata": {},
   "outputs": [
    {
     "data": {
      "image/png": "[encoded data removed]",
      "text/plain": [
       "<Figure size 864x1152 with 10 Axes>"
      ]
     },
     "metadata": {
      "needs_background": "light"
     },
     "output_type": "display_data"
    }
   ],
   "source": [
    "#Plotting citywise \n",
    "fig = plt.figure(figsize= (12,16))\n",
    "for number, column in enumerate(tfoot_fall.columns):\n",
    "    axes = fig.add_subplot(3, 4, number+1)\n",
    "    fig.tight_layout(pad=3.0)\n",
    "    axes.set_title(column.capitalize())\n",
    "    plt.hist(tfoot_fall[column])"
   ]
  },
  {
   "cell_type": "code",
   "execution_count": 39,
   "metadata": {},
   "outputs": [
    {
     "data": {
      "text/html": [
       "<div>\n",
       "<style scoped>\n",
       "    .dataframe tbody tr th:only-of-type {\n",
       "        vertical-align: middle;\n",
       "    }\n",
       "\n",
       "    .dataframe tbody tr th {\n",
       "        vertical-align: top;\n",
       "    }\n",
       "\n",
       "    .dataframe thead th {\n",
       "        text-align: right;\n",
       "    }\n",
       "</style>\n",
       "<table border=\"1\" class=\"dataframe\">\n",
       "  <thead>\n",
       "    <tr style=\"text-align: right;\">\n",
       "      <th></th>\n",
       "      <th>date</th>\n",
       "      <th>city</th>\n",
       "      <th>medicine</th>\n",
       "      <th>discounted</th>\n",
       "    </tr>\n",
       "  </thead>\n",
       "  <tbody>\n",
       "    <tr>\n",
       "      <th>0</th>\n",
       "      <td>2016-04-01</td>\n",
       "      <td>1</td>\n",
       "      <td>1</td>\n",
       "      <td>0</td>\n",
       "    </tr>\n",
       "    <tr>\n",
       "      <th>1</th>\n",
       "      <td>2016-04-01</td>\n",
       "      <td>1</td>\n",
       "      <td>2</td>\n",
       "      <td>0</td>\n",
       "    </tr>\n",
       "    <tr>\n",
       "      <th>2</th>\n",
       "      <td>2016-04-01</td>\n",
       "      <td>1</td>\n",
       "      <td>3</td>\n",
       "      <td>0</td>\n",
       "    </tr>\n",
       "    <tr>\n",
       "      <th>3</th>\n",
       "      <td>2016-04-01</td>\n",
       "      <td>1</td>\n",
       "      <td>4</td>\n",
       "      <td>0</td>\n",
       "    </tr>\n",
       "    <tr>\n",
       "      <th>4</th>\n",
       "      <td>2016-04-01</td>\n",
       "      <td>1</td>\n",
       "      <td>5</td>\n",
       "      <td>0</td>\n",
       "    </tr>\n",
       "  </tbody>\n",
       "</table>\n",
       "</div>"
      ],
      "text/plain": [
       "         date  city  medicine  discounted\n",
       "0  2016-04-01     1         1           0\n",
       "1  2016-04-01     1         2           0\n",
       "2  2016-04-01     1         3           0\n",
       "3  2016-04-01     1         4           0\n",
       "4  2016-04-01     1         5           0"
      ]
     },
     "execution_count": 39,
     "metadata": {},
     "output_type": "execute_result"
    }
   ],
   "source": [
    "# Looking at the discounted data\n",
    "disc_df.head()"
   ]
  },
  {
   "cell_type": "code",
   "execution_count": 40,
   "metadata": {},
   "outputs": [
    {
     "data": {
      "text/plain": [
       "0    0.953753\n",
       "1    0.046247\n",
       "Name: discounted, dtype: float64"
      ]
     },
     "execution_count": 40,
     "metadata": {},
     "output_type": "execute_result"
    }
   ],
   "source": [
    "disc_df['discounted'].value_counts(normalize=True)"
   ]
  },
  {
   "cell_type": "code",
   "execution_count": 41,
   "metadata": {},
   "outputs": [],
   "source": [
    "#Very few medicines are discounted"
   ]
  },
  {
   "cell_type": "code",
   "execution_count": 42,
   "metadata": {
    "scrolled": true
   },
   "outputs": [
    {
     "data": {
      "text/plain": [
       "[<matplotlib.lines.Line2D at 0x1982d55f4c0>]"
      ]
     },
     "execution_count": 42,
     "metadata": {},
     "output_type": "execute_result"
    },
    {
     "data": {
      "image/png": "[encoded data removed]",
      "text/plain": [
       "<Figure size 432x288 with 1 Axes>"
      ]
     },
     "metadata": {
      "needs_background": "light"
     },
     "output_type": "display_data"
    }
   ],
   "source": [
    "plt.plot(disc_df.groupby('medicine').agg({'discounted':np.sum}))"
   ]
  },
  {
   "cell_type": "code",
   "execution_count": 43,
   "metadata": {
    "scrolled": true
   },
   "outputs": [
    {
     "data": {
      "text/plain": [
       "[<matplotlib.lines.Line2D at 0x1982fcb53d0>]"
      ]
     },
     "execution_count": 43,
     "metadata": {},
     "output_type": "execute_result"
    },
    {
     "data": {
      "image/png": "[encoded data removed]",
      "text/plain": [
       "<Figure size 432x288 with 1 Axes>"
      ]
     },
     "metadata": {
      "needs_background": "light"
     },
     "output_type": "display_data"
    }
   ],
   "source": [
    "plt.plot(disc_df.groupby('city').agg({'discounted':np.sum}))"
   ]
  },
  {
   "cell_type": "code",
   "execution_count": 44,
   "metadata": {},
   "outputs": [],
   "source": [
    "#City 7, Bangalore has the most discounts and city 3, Jaipur has the least"
   ]
  },
  {
   "cell_type": "code",
   "execution_count": 45,
   "metadata": {},
   "outputs": [
    {
     "data": {
      "text/plain": [
       "(17277949, 4)"
      ]
     },
     "execution_count": 45,
     "metadata": {},
     "output_type": "execute_result"
    }
   ],
   "source": [
    "disc_df.shape"
   ]
  },
  {
   "cell_type": "code",
   "execution_count": 46,
   "metadata": {},
   "outputs": [
    {
     "data": {
      "text/plain": [
       "date          object\n",
       "city           int64\n",
       "medicine       int64\n",
       "discounted     int64\n",
       "dtype: object"
      ]
     },
     "execution_count": 46,
     "metadata": {},
     "output_type": "execute_result"
    }
   ],
   "source": [
    "disc_df.dtypes"
   ]
  },
  {
   "cell_type": "code",
   "execution_count": 47,
   "metadata": {},
   "outputs": [],
   "source": [
    "#Changing date object to datetime\n",
    "disc_df['date'] = disc_df['date'].astype('datetime64[ns]')"
   ]
  },
  {
   "cell_type": "code",
   "execution_count": 48,
   "metadata": {},
   "outputs": [],
   "source": [
    "#Merging discount and train data\n",
    "df_merge = pd.merge(df, disc_df, on=[\"date\", \"city\",\"medicine\"], how=\"left\")"
   ]
  },
  {
   "cell_type": "code",
   "execution_count": 49,
   "metadata": {},
   "outputs": [
    {
     "data": {
      "text/plain": [
       "(22669553, 5)"
      ]
     },
     "execution_count": 49,
     "metadata": {},
     "output_type": "execute_result"
    }
   ],
   "source": [
    "df_merge.shape\n"
   ]
  },
  {
   "cell_type": "code",
   "execution_count": 50,
   "metadata": {},
   "outputs": [
    {
     "data": {
      "text/html": [
       "<div>\n",
       "<style scoped>\n",
       "    .dataframe tbody tr th:only-of-type {\n",
       "        vertical-align: middle;\n",
       "    }\n",
       "\n",
       "    .dataframe tbody tr th {\n",
       "        vertical-align: top;\n",
       "    }\n",
       "\n",
       "    .dataframe thead th {\n",
       "        text-align: right;\n",
       "    }\n",
       "</style>\n",
       "<table border=\"1\" class=\"dataframe\">\n",
       "  <thead>\n",
       "    <tr style=\"text-align: right;\">\n",
       "      <th></th>\n",
       "      <th>date</th>\n",
       "      <th>city</th>\n",
       "      <th>medicine</th>\n",
       "      <th>sales</th>\n",
       "      <th>discounted</th>\n",
       "    </tr>\n",
       "  </thead>\n",
       "  <tbody>\n",
       "    <tr>\n",
       "      <th>0</th>\n",
       "      <td>2015-01-02</td>\n",
       "      <td>1</td>\n",
       "      <td>1</td>\n",
       "      <td>24.0</td>\n",
       "      <td>NaN</td>\n",
       "    </tr>\n",
       "    <tr>\n",
       "      <th>1</th>\n",
       "      <td>2015-01-02</td>\n",
       "      <td>1</td>\n",
       "      <td>2</td>\n",
       "      <td>144.0</td>\n",
       "      <td>NaN</td>\n",
       "    </tr>\n",
       "    <tr>\n",
       "      <th>2</th>\n",
       "      <td>2015-01-02</td>\n",
       "      <td>1</td>\n",
       "      <td>3</td>\n",
       "      <td>84.0</td>\n",
       "      <td>NaN</td>\n",
       "    </tr>\n",
       "    <tr>\n",
       "      <th>3</th>\n",
       "      <td>2015-01-02</td>\n",
       "      <td>1</td>\n",
       "      <td>4</td>\n",
       "      <td>24.0</td>\n",
       "      <td>NaN</td>\n",
       "    </tr>\n",
       "    <tr>\n",
       "      <th>4</th>\n",
       "      <td>2015-01-02</td>\n",
       "      <td>1</td>\n",
       "      <td>5</td>\n",
       "      <td>8.0</td>\n",
       "      <td>NaN</td>\n",
       "    </tr>\n",
       "  </tbody>\n",
       "</table>\n",
       "</div>"
      ],
      "text/plain": [
       "        date  city  medicine  sales  discounted\n",
       "0 2015-01-02     1         1   24.0         NaN\n",
       "1 2015-01-02     1         2  144.0         NaN\n",
       "2 2015-01-02     1         3   84.0         NaN\n",
       "3 2015-01-02     1         4   24.0         NaN\n",
       "4 2015-01-02     1         5    8.0         NaN"
      ]
     },
     "execution_count": 50,
     "metadata": {},
     "output_type": "execute_result"
    }
   ],
   "source": [
    "df_merge.head()"
   ]
  },
  {
   "cell_type": "code",
   "execution_count": 51,
   "metadata": {},
   "outputs": [
    {
     "data": {
      "text/plain": [
       "date                0\n",
       "city                0\n",
       "medicine            0\n",
       "sales               0\n",
       "discounted    6119931\n",
       "dtype: int64"
      ]
     },
     "execution_count": 51,
     "metadata": {},
     "output_type": "execute_result"
    }
   ],
   "source": [
    "df_merge.isnull().sum()"
   ]
  },
  {
   "cell_type": "code",
   "execution_count": 52,
   "metadata": {},
   "outputs": [],
   "source": [
    "#Using 0 to fill in the NA values\n",
    "df_merge['discounted'].fillna(0.0, inplace=True)"
   ]
  },
  {
   "cell_type": "code",
   "execution_count": 53,
   "metadata": {},
   "outputs": [
    {
     "data": {
      "text/plain": [
       "date          0\n",
       "city          0\n",
       "medicine      0\n",
       "sales         0\n",
       "discounted    0\n",
       "dtype: int64"
      ]
     },
     "execution_count": 53,
     "metadata": {},
     "output_type": "execute_result"
    }
   ],
   "source": [
    "df_merge.isnull().sum()"
   ]
  },
  {
   "cell_type": "code",
   "execution_count": 54,
   "metadata": {},
   "outputs": [
    {
     "data": {
      "text/plain": [
       "3389"
      ]
     },
     "execution_count": 54,
     "metadata": {},
     "output_type": "execute_result"
    }
   ],
   "source": [
    "df_merge[\"medicine\"].nunique()"
   ]
  },
  {
   "cell_type": "code",
   "execution_count": 55,
   "metadata": {},
   "outputs": [],
   "source": [
    "#We can see that there is high cardinality in medicine"
   ]
  },
  {
   "cell_type": "code",
   "execution_count": 56,
   "metadata": {},
   "outputs": [],
   "source": [
    "df_merge[\"weekday\"] = df_merge['date'].dt.day_name()"
   ]
  },
  {
   "cell_type": "code",
   "execution_count": 57,
   "metadata": {},
   "outputs": [],
   "source": [
    "df_merge[\"month\"] = df_merge['date'].dt.month_name()"
   ]
  },
  {
   "cell_type": "code",
   "execution_count": 58,
   "metadata": {},
   "outputs": [
    {
     "data": {
      "text/html": [
       "<div>\n",
       "<style scoped>\n",
       "    .dataframe tbody tr th:only-of-type {\n",
       "        vertical-align: middle;\n",
       "    }\n",
       "\n",
       "    .dataframe tbody tr th {\n",
       "        vertical-align: top;\n",
       "    }\n",
       "\n",
       "    .dataframe thead th {\n",
       "        text-align: right;\n",
       "    }\n",
       "</style>\n",
       "<table border=\"1\" class=\"dataframe\">\n",
       "  <thead>\n",
       "    <tr style=\"text-align: right;\">\n",
       "      <th></th>\n",
       "      <th>date</th>\n",
       "      <th>city</th>\n",
       "      <th>medicine</th>\n",
       "      <th>sales</th>\n",
       "      <th>discounted</th>\n",
       "      <th>weekday</th>\n",
       "      <th>month</th>\n",
       "    </tr>\n",
       "  </thead>\n",
       "  <tbody>\n",
       "    <tr>\n",
       "      <th>0</th>\n",
       "      <td>2015-01-02</td>\n",
       "      <td>1</td>\n",
       "      <td>1</td>\n",
       "      <td>24.0</td>\n",
       "      <td>0.0</td>\n",
       "      <td>Friday</td>\n",
       "      <td>January</td>\n",
       "    </tr>\n",
       "    <tr>\n",
       "      <th>1</th>\n",
       "      <td>2015-01-02</td>\n",
       "      <td>1</td>\n",
       "      <td>2</td>\n",
       "      <td>144.0</td>\n",
       "      <td>0.0</td>\n",
       "      <td>Friday</td>\n",
       "      <td>January</td>\n",
       "    </tr>\n",
       "    <tr>\n",
       "      <th>2</th>\n",
       "      <td>2015-01-02</td>\n",
       "      <td>1</td>\n",
       "      <td>3</td>\n",
       "      <td>84.0</td>\n",
       "      <td>0.0</td>\n",
       "      <td>Friday</td>\n",
       "      <td>January</td>\n",
       "    </tr>\n",
       "    <tr>\n",
       "      <th>3</th>\n",
       "      <td>2015-01-02</td>\n",
       "      <td>1</td>\n",
       "      <td>4</td>\n",
       "      <td>24.0</td>\n",
       "      <td>0.0</td>\n",
       "      <td>Friday</td>\n",
       "      <td>January</td>\n",
       "    </tr>\n",
       "    <tr>\n",
       "      <th>4</th>\n",
       "      <td>2015-01-02</td>\n",
       "      <td>1</td>\n",
       "      <td>5</td>\n",
       "      <td>8.0</td>\n",
       "      <td>0.0</td>\n",
       "      <td>Friday</td>\n",
       "      <td>January</td>\n",
       "    </tr>\n",
       "  </tbody>\n",
       "</table>\n",
       "</div>"
      ],
      "text/plain": [
       "        date  city  medicine  sales  discounted weekday    month\n",
       "0 2015-01-02     1         1   24.0         0.0  Friday  January\n",
       "1 2015-01-02     1         2  144.0         0.0  Friday  January\n",
       "2 2015-01-02     1         3   84.0         0.0  Friday  January\n",
       "3 2015-01-02     1         4   24.0         0.0  Friday  January\n",
       "4 2015-01-02     1         5    8.0         0.0  Friday  January"
      ]
     },
     "execution_count": 58,
     "metadata": {},
     "output_type": "execute_result"
    }
   ],
   "source": [
    "#Checking the data after adding month and weekday columns\n",
    "df_merge.head()"
   ]
  },
  {
   "cell_type": "code",
   "execution_count": 59,
   "metadata": {},
   "outputs": [
    {
     "data": {
      "text/html": [
       "<div>\n",
       "<style scoped>\n",
       "    .dataframe tbody tr th:only-of-type {\n",
       "        vertical-align: middle;\n",
       "    }\n",
       "\n",
       "    .dataframe tbody tr th {\n",
       "        vertical-align: top;\n",
       "    }\n",
       "\n",
       "    .dataframe thead th {\n",
       "        text-align: right;\n",
       "    }\n",
       "</style>\n",
       "<table border=\"1\" class=\"dataframe\">\n",
       "  <thead>\n",
       "    <tr style=\"text-align: right;\">\n",
       "      <th></th>\n",
       "      <th>sales</th>\n",
       "    </tr>\n",
       "    <tr>\n",
       "      <th>date</th>\n",
       "      <th></th>\n",
       "    </tr>\n",
       "  </thead>\n",
       "  <tbody>\n",
       "    <tr>\n",
       "      <th>2015-01-02</th>\n",
       "      <td>73.363795</td>\n",
       "    </tr>\n",
       "    <tr>\n",
       "      <th>2015-01-03</th>\n",
       "      <td>51.322000</td>\n",
       "    </tr>\n",
       "    <tr>\n",
       "      <th>2015-01-04</th>\n",
       "      <td>52.893989</td>\n",
       "    </tr>\n",
       "    <tr>\n",
       "      <th>2015-01-05</th>\n",
       "      <td>71.484540</td>\n",
       "    </tr>\n",
       "    <tr>\n",
       "      <th>2015-01-06</th>\n",
       "      <td>84.475803</td>\n",
       "    </tr>\n",
       "    <tr>\n",
       "      <th>...</th>\n",
       "      <td>...</td>\n",
       "    </tr>\n",
       "    <tr>\n",
       "      <th>2018-06-26</th>\n",
       "      <td>59.452640</td>\n",
       "    </tr>\n",
       "    <tr>\n",
       "      <th>2018-06-27</th>\n",
       "      <td>40.068460</td>\n",
       "    </tr>\n",
       "    <tr>\n",
       "      <th>2018-06-28</th>\n",
       "      <td>34.456871</td>\n",
       "    </tr>\n",
       "    <tr>\n",
       "      <th>2018-06-29</th>\n",
       "      <td>40.775308</td>\n",
       "    </tr>\n",
       "    <tr>\n",
       "      <th>2018-06-30</th>\n",
       "      <td>33.438515</td>\n",
       "    </tr>\n",
       "  </tbody>\n",
       "</table>\n",
       "<p>1269 rows × 1 columns</p>\n",
       "</div>"
      ],
      "text/plain": [
       "                sales\n",
       "date                 \n",
       "2015-01-02  73.363795\n",
       "2015-01-03  51.322000\n",
       "2015-01-04  52.893989\n",
       "2015-01-05  71.484540\n",
       "2015-01-06  84.475803\n",
       "...               ...\n",
       "2018-06-26  59.452640\n",
       "2018-06-27  40.068460\n",
       "2018-06-28  34.456871\n",
       "2018-06-29  40.775308\n",
       "2018-06-30  33.438515\n",
       "\n",
       "[1269 rows x 1 columns]"
      ]
     },
     "execution_count": 59,
     "metadata": {},
     "output_type": "execute_result"
    }
   ],
   "source": [
    "#Grouping data by sales\n",
    "grouped_date = df_merge.groupby('date').agg({'sales':np.mean})\n",
    "grouped_date"
   ]
  },
  {
   "cell_type": "code",
   "execution_count": 60,
   "metadata": {},
   "outputs": [],
   "source": [
    "grouped_date['date'] = grouped_date.index"
   ]
  },
  {
   "cell_type": "code",
   "execution_count": 61,
   "metadata": {},
   "outputs": [],
   "source": [
    "grouped_date['date'] = pd.DatetimeIndex(grouped_date['date'])"
   ]
  },
  {
   "cell_type": "code",
   "execution_count": 62,
   "metadata": {},
   "outputs": [],
   "source": [
    "grouped_date = grouped_date.set_index('date')"
   ]
  },
  {
   "cell_type": "code",
   "execution_count": 63,
   "metadata": {},
   "outputs": [],
   "source": [
    "#Checking the sales by grouping the data during the year 2015 - 2018\n",
    "#grouped_date['2015':'2018'].plot(figsize=(20,10))"
   ]
  },
  {
   "cell_type": "code",
   "execution_count": 64,
   "metadata": {},
   "outputs": [],
   "source": [
    "#The above graph shows there is a spike in sales in the month of January every year"
   ]
  },
  {
   "cell_type": "code",
   "execution_count": 65,
   "metadata": {},
   "outputs": [
    {
     "data": {
      "text/html": [
       "<div>\n",
       "<style scoped>\n",
       "    .dataframe tbody tr th:only-of-type {\n",
       "        vertical-align: middle;\n",
       "    }\n",
       "\n",
       "    .dataframe tbody tr th {\n",
       "        vertical-align: top;\n",
       "    }\n",
       "\n",
       "    .dataframe thead th {\n",
       "        text-align: right;\n",
       "    }\n",
       "</style>\n",
       "<table border=\"1\" class=\"dataframe\">\n",
       "  <thead>\n",
       "    <tr style=\"text-align: right;\">\n",
       "      <th></th>\n",
       "      <th>date</th>\n",
       "      <th>city</th>\n",
       "      <th>medicine</th>\n",
       "      <th>sales</th>\n",
       "      <th>discounted</th>\n",
       "      <th>weekday</th>\n",
       "      <th>month</th>\n",
       "    </tr>\n",
       "  </thead>\n",
       "  <tbody>\n",
       "    <tr>\n",
       "      <th>count</th>\n",
       "      <td>22669553</td>\n",
       "      <td>2.266955e+07</td>\n",
       "      <td>2.266955e+07</td>\n",
       "      <td>2.266955e+07</td>\n",
       "      <td>2.266955e+07</td>\n",
       "      <td>22669553</td>\n",
       "      <td>22669553</td>\n",
       "    </tr>\n",
       "    <tr>\n",
       "      <th>unique</th>\n",
       "      <td>1269</td>\n",
       "      <td>NaN</td>\n",
       "      <td>NaN</td>\n",
       "      <td>NaN</td>\n",
       "      <td>NaN</td>\n",
       "      <td>7</td>\n",
       "      <td>12</td>\n",
       "    </tr>\n",
       "    <tr>\n",
       "      <th>top</th>\n",
       "      <td>2018-02-28 00:00:00</td>\n",
       "      <td>NaN</td>\n",
       "      <td>NaN</td>\n",
       "      <td>NaN</td>\n",
       "      <td>NaN</td>\n",
       "      <td>Tuesday</td>\n",
       "      <td>March</td>\n",
       "    </tr>\n",
       "    <tr>\n",
       "      <th>freq</th>\n",
       "      <td>94815</td>\n",
       "      <td>NaN</td>\n",
       "      <td>NaN</td>\n",
       "      <td>NaN</td>\n",
       "      <td>NaN</td>\n",
       "      <td>3379093</td>\n",
       "      <td>2210126</td>\n",
       "    </tr>\n",
       "    <tr>\n",
       "      <th>first</th>\n",
       "      <td>2015-01-02 00:00:00</td>\n",
       "      <td>NaN</td>\n",
       "      <td>NaN</td>\n",
       "      <td>NaN</td>\n",
       "      <td>NaN</td>\n",
       "      <td>NaN</td>\n",
       "      <td>NaN</td>\n",
       "    </tr>\n",
       "    <tr>\n",
       "      <th>last</th>\n",
       "      <td>2018-06-30 00:00:00</td>\n",
       "      <td>NaN</td>\n",
       "      <td>NaN</td>\n",
       "      <td>NaN</td>\n",
       "      <td>NaN</td>\n",
       "      <td>NaN</td>\n",
       "      <td>NaN</td>\n",
       "    </tr>\n",
       "    <tr>\n",
       "      <th>mean</th>\n",
       "      <td>NaN</td>\n",
       "      <td>5.488700e+00</td>\n",
       "      <td>1.170297e+03</td>\n",
       "      <td>5.167903e+01</td>\n",
       "      <td>3.273527e-02</td>\n",
       "      <td>NaN</td>\n",
       "      <td>NaN</td>\n",
       "    </tr>\n",
       "    <tr>\n",
       "      <th>std</th>\n",
       "      <td>NaN</td>\n",
       "      <td>2.849361e+00</td>\n",
       "      <td>8.021110e+02</td>\n",
       "      <td>1.100379e+02</td>\n",
       "      <td>1.779429e-01</td>\n",
       "      <td>NaN</td>\n",
       "      <td>NaN</td>\n",
       "    </tr>\n",
       "    <tr>\n",
       "      <th>min</th>\n",
       "      <td>NaN</td>\n",
       "      <td>1.000000e+00</td>\n",
       "      <td>1.000000e+00</td>\n",
       "      <td>-9.948000e+03</td>\n",
       "      <td>0.000000e+00</td>\n",
       "      <td>NaN</td>\n",
       "      <td>NaN</td>\n",
       "    </tr>\n",
       "    <tr>\n",
       "      <th>25%</th>\n",
       "      <td>NaN</td>\n",
       "      <td>3.000000e+00</td>\n",
       "      <td>5.110000e+02</td>\n",
       "      <td>1.200000e+01</td>\n",
       "      <td>0.000000e+00</td>\n",
       "      <td>NaN</td>\n",
       "      <td>NaN</td>\n",
       "    </tr>\n",
       "    <tr>\n",
       "      <th>50%</th>\n",
       "      <td>NaN</td>\n",
       "      <td>5.000000e+00</td>\n",
       "      <td>1.034000e+03</td>\n",
       "      <td>2.800000e+01</td>\n",
       "      <td>0.000000e+00</td>\n",
       "      <td>NaN</td>\n",
       "      <td>NaN</td>\n",
       "    </tr>\n",
       "    <tr>\n",
       "      <th>75%</th>\n",
       "      <td>NaN</td>\n",
       "      <td>8.000000e+00</td>\n",
       "      <td>1.718000e+03</td>\n",
       "      <td>5.600000e+01</td>\n",
       "      <td>0.000000e+00</td>\n",
       "      <td>NaN</td>\n",
       "      <td>NaN</td>\n",
       "    </tr>\n",
       "    <tr>\n",
       "      <th>max</th>\n",
       "      <td>NaN</td>\n",
       "      <td>1.000000e+01</td>\n",
       "      <td>3.389000e+03</td>\n",
       "      <td>8.299200e+04</td>\n",
       "      <td>1.000000e+00</td>\n",
       "      <td>NaN</td>\n",
       "      <td>NaN</td>\n",
       "    </tr>\n",
       "  </tbody>\n",
       "</table>\n",
       "</div>"
      ],
      "text/plain": [
       "                       date          city      medicine         sales  \\\n",
       "count              22669553  2.266955e+07  2.266955e+07  2.266955e+07   \n",
       "unique                 1269           NaN           NaN           NaN   \n",
       "top     2018-02-28 00:00:00           NaN           NaN           NaN   \n",
       "freq                  94815           NaN           NaN           NaN   \n",
       "first   2015-01-02 00:00:00           NaN           NaN           NaN   \n",
       "last    2018-06-30 00:00:00           NaN           NaN           NaN   \n",
       "mean                    NaN  5.488700e+00  1.170297e+03  5.167903e+01   \n",
       "std                     NaN  2.849361e+00  8.021110e+02  1.100379e+02   \n",
       "min                     NaN  1.000000e+00  1.000000e+00 -9.948000e+03   \n",
       "25%                     NaN  3.000000e+00  5.110000e+02  1.200000e+01   \n",
       "50%                     NaN  5.000000e+00  1.034000e+03  2.800000e+01   \n",
       "75%                     NaN  8.000000e+00  1.718000e+03  5.600000e+01   \n",
       "max                     NaN  1.000000e+01  3.389000e+03  8.299200e+04   \n",
       "\n",
       "          discounted   weekday     month  \n",
       "count   2.266955e+07  22669553  22669553  \n",
       "unique           NaN         7        12  \n",
       "top              NaN   Tuesday     March  \n",
       "freq             NaN   3379093   2210126  \n",
       "first            NaN       NaN       NaN  \n",
       "last             NaN       NaN       NaN  \n",
       "mean    3.273527e-02       NaN       NaN  \n",
       "std     1.779429e-01       NaN       NaN  \n",
       "min     0.000000e+00       NaN       NaN  \n",
       "25%     0.000000e+00       NaN       NaN  \n",
       "50%     0.000000e+00       NaN       NaN  \n",
       "75%     0.000000e+00       NaN       NaN  \n",
       "max     1.000000e+00       NaN       NaN  "
      ]
     },
     "execution_count": 65,
     "metadata": {},
     "output_type": "execute_result"
    }
   ],
   "source": [
    "df_merge.describe(include='all')"
   ]
  },
  {
   "cell_type": "code",
   "execution_count": 66,
   "metadata": {},
   "outputs": [],
   "source": [
    "#Observations : Minimum value in sales is negative. This might indicate that there was a demand but no supply\n",
    "#Negative sales might mean items returned or a loss. Not imputing them with zero as they too contribute to sales."
   ]
  },
  {
   "cell_type": "code",
   "execution_count": 67,
   "metadata": {},
   "outputs": [
    {
     "data": {
      "text/html": [
       "<div>\n",
       "<style scoped>\n",
       "    .dataframe tbody tr th:only-of-type {\n",
       "        vertical-align: middle;\n",
       "    }\n",
       "\n",
       "    .dataframe tbody tr th {\n",
       "        vertical-align: top;\n",
       "    }\n",
       "\n",
       "    .dataframe thead th {\n",
       "        text-align: right;\n",
       "    }\n",
       "</style>\n",
       "<table border=\"1\" class=\"dataframe\">\n",
       "  <thead>\n",
       "    <tr style=\"text-align: right;\">\n",
       "      <th></th>\n",
       "      <th>date</th>\n",
       "      <th>city</th>\n",
       "      <th>medicine</th>\n",
       "      <th>sales</th>\n",
       "      <th>discounted</th>\n",
       "      <th>weekday</th>\n",
       "      <th>month</th>\n",
       "    </tr>\n",
       "  </thead>\n",
       "  <tbody>\n",
       "    <tr>\n",
       "      <th>17792</th>\n",
       "      <td>2015-01-03</td>\n",
       "      <td>6</td>\n",
       "      <td>117</td>\n",
       "      <td>-32.32</td>\n",
       "      <td>0.0</td>\n",
       "      <td>Saturday</td>\n",
       "      <td>January</td>\n",
       "    </tr>\n",
       "    <tr>\n",
       "      <th>73647</th>\n",
       "      <td>2015-01-08</td>\n",
       "      <td>4</td>\n",
       "      <td>50</td>\n",
       "      <td>-8.00</td>\n",
       "      <td>0.0</td>\n",
       "      <td>Thursday</td>\n",
       "      <td>January</td>\n",
       "    </tr>\n",
       "    <tr>\n",
       "      <th>83397</th>\n",
       "      <td>2015-01-09</td>\n",
       "      <td>2</td>\n",
       "      <td>785</td>\n",
       "      <td>-4.00</td>\n",
       "      <td>0.0</td>\n",
       "      <td>Friday</td>\n",
       "      <td>January</td>\n",
       "    </tr>\n",
       "    <tr>\n",
       "      <th>85164</th>\n",
       "      <td>2015-01-09</td>\n",
       "      <td>4</td>\n",
       "      <td>232</td>\n",
       "      <td>-8.00</td>\n",
       "      <td>0.0</td>\n",
       "      <td>Friday</td>\n",
       "      <td>January</td>\n",
       "    </tr>\n",
       "    <tr>\n",
       "      <th>86418</th>\n",
       "      <td>2015-01-09</td>\n",
       "      <td>5</td>\n",
       "      <td>253</td>\n",
       "      <td>-40.00</td>\n",
       "      <td>0.0</td>\n",
       "      <td>Friday</td>\n",
       "      <td>January</td>\n",
       "    </tr>\n",
       "  </tbody>\n",
       "</table>\n",
       "</div>"
      ],
      "text/plain": [
       "            date  city  medicine  sales  discounted   weekday    month\n",
       "17792 2015-01-03     6       117 -32.32         0.0  Saturday  January\n",
       "73647 2015-01-08     4        50  -8.00         0.0  Thursday  January\n",
       "83397 2015-01-09     2       785  -4.00         0.0    Friday  January\n",
       "85164 2015-01-09     4       232  -8.00         0.0    Friday  January\n",
       "86418 2015-01-09     5       253 -40.00         0.0    Friday  January"
      ]
     },
     "execution_count": 67,
     "metadata": {},
     "output_type": "execute_result"
    }
   ],
   "source": [
    "#Checking for negative sales\n",
    "df_negative = df_merge[df_merge[\"sales\"] < 0]\n",
    "df_negative.head()"
   ]
  },
  {
   "cell_type": "code",
   "execution_count": 68,
   "metadata": {},
   "outputs": [
    {
     "data": {
      "text/plain": [
       "(1672, 7)"
      ]
     },
     "execution_count": 68,
     "metadata": {},
     "output_type": "execute_result"
    }
   ],
   "source": [
    "df_negative.shape"
   ]
  },
  {
   "cell_type": "code",
   "execution_count": 69,
   "metadata": {},
   "outputs": [
    {
     "data": {
      "image/png": "[encoded data removed]",
      "text/plain": [
       "<Figure size 720x720 with 1 Axes>"
      ]
     },
     "metadata": {
      "needs_background": "light"
     },
     "output_type": "display_data"
    }
   ],
   "source": [
    "# Plotting the yearly sales to check graphically\n",
    "fig, ax = plt.subplots(figsize=(10, 10))\n",
    "\n",
    "# Adding x-axis and y-axis\n",
    "ax.scatter(df_merge['date'].values,\n",
    "           df_merge['sales'],\n",
    "           color='purple')\n",
    "\n",
    "# Setting title and labels for axes\n",
    "ax.set(xlabel=\"Date\",\n",
    "       ylabel=\"Sales\",\n",
    "       title=\"Yearly Sales\")\n",
    "\n",
    "plt.show()"
   ]
  },
  {
   "cell_type": "code",
   "execution_count": 70,
   "metadata": {},
   "outputs": [],
   "source": [
    "#Detect outliers in sales using boxplot"
   ]
  },
  {
   "cell_type": "code",
   "execution_count": 71,
   "metadata": {},
   "outputs": [
    {
     "data": {
      "text/plain": [
       "[<matplotlib.lines.Line2D at 0x198010489a0>]"
      ]
     },
     "execution_count": 71,
     "metadata": {},
     "output_type": "execute_result"
    },
    {
     "data": {
      "image/png": "[encoded data removed]",
      "text/plain": [
       "<Figure size 432x288 with 1 Axes>"
      ]
     },
     "metadata": {
      "needs_background": "light"
     },
     "output_type": "display_data"
    }
   ],
   "source": [
    "\n",
    "plt.plot(df_merge.groupby('city').agg({'sales':np.sum}))"
   ]
  },
  {
   "cell_type": "code",
   "execution_count": 72,
   "metadata": {},
   "outputs": [],
   "source": [
    "#Sales is highest in city 4, Mumbai and least in city 2, Other"
   ]
  },
  {
   "cell_type": "code",
   "execution_count": 73,
   "metadata": {},
   "outputs": [
    {
     "data": {
      "text/plain": [
       "[<matplotlib.lines.Line2D at 0x1980109e760>]"
      ]
     },
     "execution_count": 73,
     "metadata": {},
     "output_type": "execute_result"
    },
    {
     "data": {
      "image/png": "[encoded data removed]",
      "text/plain": [
       "<Figure size 432x288 with 1 Axes>"
      ]
     },
     "metadata": {
      "needs_background": "light"
     },
     "output_type": "display_data"
    }
   ],
   "source": [
    "plt.plot(df_merge.groupby('month').agg({'sales':np.sum}))"
   ]
  },
  {
   "cell_type": "code",
   "execution_count": 74,
   "metadata": {},
   "outputs": [],
   "source": [
    "#Sales is the highest in the month of March and lowest in the month of August"
   ]
  },
  {
   "cell_type": "code",
   "execution_count": 75,
   "metadata": {},
   "outputs": [
    {
     "data": {
      "image/png": "[encoded data removed]",
      "text/plain": [
       "<Figure size 432x288 with 1 Axes>"
      ]
     },
     "metadata": {
      "needs_background": "light"
     },
     "output_type": "display_data"
    }
   ],
   "source": [
    "plt.boxplot(df_merge[\"sales\"])\n",
    "plt.show()"
   ]
  },
  {
   "cell_type": "code",
   "execution_count": 76,
   "metadata": {},
   "outputs": [
    {
     "data": {
      "text/plain": [
       "<AxesSubplot:title={'center':'sales'}, xlabel='city'>"
      ]
     },
     "execution_count": 76,
     "metadata": {},
     "output_type": "execute_result"
    },
    {
     "data": {
      "image/png": "[encoded data removed]",
      "text/plain": [
       "<Figure size 1440x720 with 1 Axes>"
      ]
     },
     "metadata": {
      "needs_background": "light"
     },
     "output_type": "display_data"
    }
   ],
   "source": [
    "#Checking outliers by city\n",
    "df_merge.boxplot(\"sales\", by=\"city\", rot=90, widths = 0.7, figsize=(20, 10))"
   ]
  },
  {
   "cell_type": "code",
   "execution_count": 77,
   "metadata": {},
   "outputs": [],
   "source": [
    "# This shows that city 5, Delhi, has a vast variation in sales whereas city 2,other , has the least. \n",
    "# There's also a lot of negative sales/loss for city 3, Jaipur.\n",
    "# All the cities have incurred at least some amount of loss."
   ]
  },
  {
   "cell_type": "code",
   "execution_count": 78,
   "metadata": {},
   "outputs": [],
   "source": [
    "#This definitely shows one outlier which exceeds 80000 sales for Delhi"
   ]
  },
  {
   "cell_type": "code",
   "execution_count": 79,
   "metadata": {},
   "outputs": [
    {
     "data": {
      "text/plain": [
       "<AxesSubplot:title={'center':'sales'}, xlabel='month'>"
      ]
     },
     "execution_count": 79,
     "metadata": {},
     "output_type": "execute_result"
    },
    {
     "data": {
      "image/png": "[encoded data removed]",
      "text/plain": [
       "<Figure size 1440x720 with 1 Axes>"
      ]
     },
     "metadata": {
      "needs_background": "light"
     },
     "output_type": "display_data"
    }
   ],
   "source": [
    "df_merge.boxplot(\"sales\", by=\"month\", rot=90, widths = 0.7, figsize=(20, 10))"
   ]
  },
  {
   "cell_type": "code",
   "execution_count": 80,
   "metadata": {},
   "outputs": [],
   "source": [
    "#df_merge['sales'] = df_merge[df_merge['sales'] <= 80000]\n",
    "df_merge.drop(df_merge[(df_merge['sales'] >= 80000) & (df_merge['sales'] <= 0)].index, inplace = True)"
   ]
  },
  {
   "cell_type": "code",
   "execution_count": 81,
   "metadata": {},
   "outputs": [
    {
     "data": {
      "text/plain": [
       "date          datetime64[ns]\n",
       "city                   int64\n",
       "medicine               int64\n",
       "sales                float64\n",
       "discounted           float64\n",
       "weekday               object\n",
       "month                 object\n",
       "dtype: object"
      ]
     },
     "execution_count": 81,
     "metadata": {},
     "output_type": "execute_result"
    }
   ],
   "source": [
    "df_merge.dtypes"
   ]
  },
  {
   "cell_type": "code",
   "execution_count": 82,
   "metadata": {},
   "outputs": [
    {
     "data": {
      "text/html": [
       "<div>\n",
       "<style scoped>\n",
       "    .dataframe tbody tr th:only-of-type {\n",
       "        vertical-align: middle;\n",
       "    }\n",
       "\n",
       "    .dataframe tbody tr th {\n",
       "        vertical-align: top;\n",
       "    }\n",
       "\n",
       "    .dataframe thead th {\n",
       "        text-align: right;\n",
       "    }\n",
       "</style>\n",
       "<table border=\"1\" class=\"dataframe\">\n",
       "  <thead>\n",
       "    <tr style=\"text-align: right;\">\n",
       "      <th></th>\n",
       "      <th>city</th>\n",
       "      <th>medicine</th>\n",
       "      <th>sales</th>\n",
       "      <th>discounted</th>\n",
       "    </tr>\n",
       "  </thead>\n",
       "  <tbody>\n",
       "    <tr>\n",
       "      <th>city</th>\n",
       "      <td>1.000000</td>\n",
       "      <td>0.006877</td>\n",
       "      <td>-0.017790</td>\n",
       "      <td>0.004340</td>\n",
       "    </tr>\n",
       "    <tr>\n",
       "      <th>medicine</th>\n",
       "      <td>0.006877</td>\n",
       "      <td>1.000000</td>\n",
       "      <td>0.008180</td>\n",
       "      <td>0.064140</td>\n",
       "    </tr>\n",
       "    <tr>\n",
       "      <th>sales</th>\n",
       "      <td>-0.017790</td>\n",
       "      <td>0.008180</td>\n",
       "      <td>1.000000</td>\n",
       "      <td>0.054398</td>\n",
       "    </tr>\n",
       "    <tr>\n",
       "      <th>discounted</th>\n",
       "      <td>0.004340</td>\n",
       "      <td>0.064140</td>\n",
       "      <td>0.054398</td>\n",
       "      <td>1.000000</td>\n",
       "    </tr>\n",
       "  </tbody>\n",
       "</table>\n",
       "</div>"
      ],
      "text/plain": [
       "                city  medicine     sales  discounted\n",
       "city        1.000000  0.006877 -0.017790    0.004340\n",
       "medicine    0.006877  1.000000  0.008180    0.064140\n",
       "sales      -0.017790  0.008180  1.000000    0.054398\n",
       "discounted  0.004340  0.064140  0.054398    1.000000"
      ]
     },
     "execution_count": 82,
     "metadata": {},
     "output_type": "execute_result"
    }
   ],
   "source": [
    "df_merge.corr()"
   ]
  },
  {
   "cell_type": "code",
   "execution_count": 83,
   "metadata": {
    "scrolled": true,
    "slideshow": {
     "slide_type": "slide"
    }
   },
   "outputs": [
    {
     "data": {
      "text/plain": [
       "<AxesSubplot:>"
      ]
     },
     "execution_count": 83,
     "metadata": {},
     "output_type": "execute_result"
    },
    {
     "data": {
      "image/png": "[encoded data removed]",
      "text/plain": [
       "<Figure size 432x288 with 1 Axes>"
      ]
     },
     "metadata": {},
     "output_type": "display_data"
    }
   ],
   "source": [
    "#Checking the discounted attribute\n",
    "df_merge.groupby('discounted').size().plot(kind='pie', label=\"\", autopct='%0.1f%%', shadow=True)"
   ]
  },
  {
   "cell_type": "code",
   "execution_count": 84,
   "metadata": {},
   "outputs": [
    {
     "data": {
      "text/plain": [
       "<AxesSubplot:>"
      ]
     },
     "execution_count": 84,
     "metadata": {},
     "output_type": "execute_result"
    },
    {
     "data": {
      "image/png": "[encoded data removed]",
      "text/plain": [
       "<Figure size 432x288 with 1 Axes>"
      ]
     },
     "metadata": {},
     "output_type": "display_data"
    }
   ],
   "source": [
    "df_merge.groupby('weekday').size().plot(kind='pie', label=\"\", autopct='%0.1f%%', shadow=True)"
   ]
  },
  {
   "cell_type": "code",
   "execution_count": 85,
   "metadata": {
    "slideshow": {
     "slide_type": "slide"
    }
   },
   "outputs": [
    {
     "data": {
      "image/png": "[encoded data removed]",
      "text/plain": [
       "<Figure size 720x576 with 1 Axes>"
      ]
     },
     "metadata": {
      "needs_background": "light"
     },
     "output_type": "display_data"
    }
   ],
   "source": [
    "barplot(\"city\",df_merge)"
   ]
  },
  {
   "cell_type": "code",
   "execution_count": 86,
   "metadata": {},
   "outputs": [
    {
     "data": {
      "image/png": "[encoded data removed]",
      "text/plain": [
       "<Figure size 720x576 with 1 Axes>"
      ]
     },
     "metadata": {
      "needs_background": "light"
     },
     "output_type": "display_data"
    }
   ],
   "source": [
    "barplot(\"month\", df_merge)"
   ]
  },
  {
   "cell_type": "code",
   "execution_count": null,
   "metadata": {},
   "outputs": [],
   "source": []
  },
  {
   "cell_type": "raw",
   "metadata": {},
   "source": [
    "cat_cols_draw = ['city', 'discounted', 'weekday','month']"
   ]
  },
  {
   "cell_type": "raw",
   "metadata": {},
   "source": [
    "df_merge[cat_cols_draw] = df_merge[cat_cols_draw].astype(\"category\")"
   ]
  },
  {
   "cell_type": "raw",
   "metadata": {},
   "source": [
    "df_merge.dtypes"
   ]
  },
  {
   "cell_type": "raw",
   "metadata": {},
   "source": [
    "pd.crosstab(index = df_merge['city'], columns = df_merge['discounted'], normalize = 'index').plot(kind = 'bar', stacked = True, ax = axes, color = ['lightgreen','lightpink'])\n",
    "plt.show()"
   ]
  },
  {
   "cell_type": "raw",
   "metadata": {},
   "source": [
    "city_disc = pd.crosstab(index=df_merge[\"city\"],\n",
    "            columns=df_merge[\"discounted\"], normalize='index')\n",
    "city_disc"
   ]
  },
  {
   "cell_type": "raw",
   "metadata": {},
   "source": [
    "#Plotting the stacked values of no show for both gender types.\n",
    "city_disc.plot(kind='bar',stacked = True)\n",
    "plt.xlabel('City')\n",
    "plt.ylabel('Count')\n",
    "plt.title('City vs Discounted Stacked Bar Diagram');"
   ]
  },
  {
   "cell_type": "raw",
   "metadata": {},
   "source": [
    "city_weekday = pd.crosstab(index=df_merge[\"city\"],\n",
    "            columns=df_merge[\"weekday\"], normalize='index')\n",
    "city_weekday.plot(kind='bar',stacked = True)\n",
    "plt.xlabel('City')\n",
    "plt.ylabel('Count')\n",
    "plt.title('City vs Weekday Stacked Bar Diagram');"
   ]
  },
  {
   "cell_type": "raw",
   "metadata": {},
   "source": [
    "city_month = pd.crosstab(index=df_merge[\"city\"],\n",
    "            columns=df_merge[\"month\"], normalize='index')\n",
    "city_month.plot(kind='bar',stacked = True)\n",
    "plt.xlabel('City')\n",
    "plt.ylabel('Count')\n",
    "plt.title('City vs Month Stacked Bar Diagram');"
   ]
  },
  {
   "cell_type": "raw",
   "metadata": {},
   "source": [
    "disc_month = pd.crosstab(index=df_merge[\"discounted\"],\n",
    "            columns=df_merge[\"month\"], normalize='index')\n",
    "disc_month.plot(kind='bar',stacked = True)\n",
    "plt.xlabel('Discounted')\n",
    "plt.ylabel('Count')\n",
    "plt.title('Discounted vs Month Stacked Bar Diagram');"
   ]
  },
  {
   "cell_type": "code",
   "execution_count": 87,
   "metadata": {},
   "outputs": [],
   "source": [
    "#Writing a method to display the percentages on top of the bar graphs\n",
    "def show_percent(plot, feature):\n",
    "    total = len(feature)\n",
    "    for p in plot.patches:\n",
    "        percentage = '{:.1f}%'.format(100 * p.get_height()/total)\n",
    "        x = p.get_x() + p.get_width() / 2\n",
    "        y = p.get_y() + p.get_height()\n",
    "        ax.annotate(percentage, (x, y), size = 12, ha=\"center\")\n",
    "    plt.show()"
   ]
  },
  {
   "cell_type": "code",
   "execution_count": 88,
   "metadata": {},
   "outputs": [],
   "source": [
    "#Visualizing data to check which day of the week is the sale the highest\n",
    "# plt.figure(figsize=(8, 6))\n",
    "# plt.title('Sales by Day of the Week')\n",
    "# ax = sns.countplot(df_merge['weekday'])\n",
    "# show_percent(ax, df_merge['weekday'])"
   ]
  },
  {
   "cell_type": "code",
   "execution_count": 89,
   "metadata": {},
   "outputs": [],
   "source": [
    "#Most sales are on tuesday probably because its the second day of the week and the least on Sunday probably because its a weekend"
   ]
  },
  {
   "cell_type": "code",
   "execution_count": 90,
   "metadata": {},
   "outputs": [],
   "source": [
    "#Visualizing data to check which month is the sale the highest\n",
    "# plt.figure(figsize=(8, 6))\n",
    "# plt.title('Sales by Month')\n",
    "# ax = sns.countplot(df_merge['month'])\n",
    "# ax.set_xticklabels(ax.get_xticklabels(), rotation=40, ha=\"right\")\n",
    "# show_percent(ax, df_merge['month'])"
   ]
  },
  {
   "cell_type": "code",
   "execution_count": 91,
   "metadata": {},
   "outputs": [],
   "source": [
    "#Month with highest sales is March and lowest is in the month of August"
   ]
  },
  {
   "cell_type": "markdown",
   "metadata": {
    "slideshow": {
     "slide_type": "slide"
    }
   },
   "source": [
    "#### Target encoding Medicine"
   ]
  },
  {
   "cell_type": "raw",
   "metadata": {},
   "source": [
    "df_merge.head()"
   ]
  },
  {
   "cell_type": "raw",
   "metadata": {},
   "source": [
    "df_merge.dtypes"
   ]
  },
  {
   "cell_type": "raw",
   "metadata": {
    "slideshow": {
     "slide_type": "subslide"
    }
   },
   "source": [
    "df_merge[['medicine', 'sales']].groupby(['medicine'])['sales'].mean()"
   ]
  },
  {
   "cell_type": "raw",
   "metadata": {
    "slideshow": {
     "slide_type": "subslide"
    }
   },
   "source": [
    "encoded_target = df_merge.groupby(['medicine'])['sales'].mean().to_dict()\n",
    "encoded_target"
   ]
  },
  {
   "cell_type": "raw",
   "metadata": {
    "slideshow": {
     "slide_type": "subslide"
    }
   },
   "source": [
    "#Creating a separate attribute as Village_encoded and removing the Village attribute\n",
    "df_merge['medicine_encoded'] = df_merge.medicine.map(encoded_target)\n",
    "df_merge_removed_medicine = df_merge.drop(['medicine'], axis = 1)\n"
   ]
  },
  {
   "cell_type": "raw",
   "metadata": {},
   "source": [
    "df_merge_removed_medicine.columns"
   ]
  },
  {
   "cell_type": "raw",
   "metadata": {},
   "source": [
    "df_merge.head()"
   ]
  },
  {
   "cell_type": "code",
   "execution_count": 92,
   "metadata": {},
   "outputs": [],
   "source": [
    "df_merge['year'] = df_merge['date'].dt.year\n",
    "df_merge['month'] = df_merge['date'].dt.month\n",
    "df_merge['day'] = df_merge['date'].dt.day"
   ]
  },
  {
   "cell_type": "code",
   "execution_count": 93,
   "metadata": {},
   "outputs": [],
   "source": [
    "df_merge.set_index('date', inplace=True)"
   ]
  },
  {
   "cell_type": "code",
   "execution_count": 94,
   "metadata": {},
   "outputs": [
    {
     "data": {
      "text/html": [
       "<div>\n",
       "<style scoped>\n",
       "    .dataframe tbody tr th:only-of-type {\n",
       "        vertical-align: middle;\n",
       "    }\n",
       "\n",
       "    .dataframe tbody tr th {\n",
       "        vertical-align: top;\n",
       "    }\n",
       "\n",
       "    .dataframe thead th {\n",
       "        text-align: right;\n",
       "    }\n",
       "</style>\n",
       "<table border=\"1\" class=\"dataframe\">\n",
       "  <thead>\n",
       "    <tr style=\"text-align: right;\">\n",
       "      <th></th>\n",
       "      <th>city</th>\n",
       "      <th>medicine</th>\n",
       "      <th>sales</th>\n",
       "      <th>discounted</th>\n",
       "      <th>weekday</th>\n",
       "      <th>month</th>\n",
       "      <th>year</th>\n",
       "      <th>day</th>\n",
       "    </tr>\n",
       "    <tr>\n",
       "      <th>date</th>\n",
       "      <th></th>\n",
       "      <th></th>\n",
       "      <th></th>\n",
       "      <th></th>\n",
       "      <th></th>\n",
       "      <th></th>\n",
       "      <th></th>\n",
       "      <th></th>\n",
       "    </tr>\n",
       "  </thead>\n",
       "  <tbody>\n",
       "    <tr>\n",
       "      <th>2015-01-02</th>\n",
       "      <td>1</td>\n",
       "      <td>1</td>\n",
       "      <td>24.0</td>\n",
       "      <td>0.0</td>\n",
       "      <td>Friday</td>\n",
       "      <td>1</td>\n",
       "      <td>2015</td>\n",
       "      <td>2</td>\n",
       "    </tr>\n",
       "    <tr>\n",
       "      <th>2015-01-02</th>\n",
       "      <td>1</td>\n",
       "      <td>2</td>\n",
       "      <td>144.0</td>\n",
       "      <td>0.0</td>\n",
       "      <td>Friday</td>\n",
       "      <td>1</td>\n",
       "      <td>2015</td>\n",
       "      <td>2</td>\n",
       "    </tr>\n",
       "    <tr>\n",
       "      <th>2015-01-02</th>\n",
       "      <td>1</td>\n",
       "      <td>3</td>\n",
       "      <td>84.0</td>\n",
       "      <td>0.0</td>\n",
       "      <td>Friday</td>\n",
       "      <td>1</td>\n",
       "      <td>2015</td>\n",
       "      <td>2</td>\n",
       "    </tr>\n",
       "    <tr>\n",
       "      <th>2015-01-02</th>\n",
       "      <td>1</td>\n",
       "      <td>4</td>\n",
       "      <td>24.0</td>\n",
       "      <td>0.0</td>\n",
       "      <td>Friday</td>\n",
       "      <td>1</td>\n",
       "      <td>2015</td>\n",
       "      <td>2</td>\n",
       "    </tr>\n",
       "    <tr>\n",
       "      <th>2015-01-02</th>\n",
       "      <td>1</td>\n",
       "      <td>5</td>\n",
       "      <td>8.0</td>\n",
       "      <td>0.0</td>\n",
       "      <td>Friday</td>\n",
       "      <td>1</td>\n",
       "      <td>2015</td>\n",
       "      <td>2</td>\n",
       "    </tr>\n",
       "  </tbody>\n",
       "</table>\n",
       "</div>"
      ],
      "text/plain": [
       "            city  medicine  sales  discounted weekday  month  year  day\n",
       "date                                                                   \n",
       "2015-01-02     1         1   24.0         0.0  Friday      1  2015    2\n",
       "2015-01-02     1         2  144.0         0.0  Friday      1  2015    2\n",
       "2015-01-02     1         3   84.0         0.0  Friday      1  2015    2\n",
       "2015-01-02     1         4   24.0         0.0  Friday      1  2015    2\n",
       "2015-01-02     1         5    8.0         0.0  Friday      1  2015    2"
      ]
     },
     "execution_count": 94,
     "metadata": {},
     "output_type": "execute_result"
    }
   ],
   "source": [
    "df_merge.head()"
   ]
  },
  {
   "cell_type": "code",
   "execution_count": 95,
   "metadata": {},
   "outputs": [],
   "source": [
    "df_merge.drop(['weekday'], inplace=True, axis = 1)"
   ]
  },
  {
   "cell_type": "code",
   "execution_count": 96,
   "metadata": {
    "slideshow": {
     "slide_type": "slide"
    }
   },
   "outputs": [],
   "source": [
    "# y = df_merge_removed_medicine[\"sales\"]\n",
    "# X = df_merge_removed_medicine.drop('sales', axis=1)\n",
    "y = df_merge[\"sales\"]\n",
    "X = df_merge.drop('sales', axis=1)"
   ]
  },
  {
   "cell_type": "code",
   "execution_count": 97,
   "metadata": {},
   "outputs": [
    {
     "name": "stdout",
     "output_type": "stream",
     "text": [
      "(22669553, 6)\n",
      "(22669553,)\n"
     ]
    }
   ],
   "source": [
    "print(X.shape)\n",
    "print(y.shape)"
   ]
  },
  {
   "cell_type": "code",
   "execution_count": 98,
   "metadata": {
    "slideshow": {
     "slide_type": "slide"
    }
   },
   "outputs": [
    {
     "name": "stdout",
     "output_type": "stream",
     "text": [
      "(18135642, 6)\n",
      "(4533911, 6)\n",
      "(18135642,)\n",
      "(4533911,)\n"
     ]
    }
   ],
   "source": [
    "X_train, X_val, y_train, y_val = train_test_split(X, y, test_size=0.20,random_state=123)\n",
    "\n",
    "print(X_train.shape)\n",
    "print(X_val.shape)\n",
    "print(y_train.shape)\n",
    "print(y_val.shape)"
   ]
  },
  {
   "cell_type": "code",
   "execution_count": 99,
   "metadata": {
    "slideshow": {
     "slide_type": "slide"
    }
   },
   "outputs": [
    {
     "data": {
      "text/plain": [
       "Index(['city', 'medicine', 'discounted', 'month', 'year', 'day'], dtype='object')"
      ]
     },
     "execution_count": 99,
     "metadata": {},
     "output_type": "execute_result"
    }
   ],
   "source": [
    "num_attr = X_train.select_dtypes(['int64', 'float64']).columns\n",
    "num_attr"
   ]
  },
  {
   "cell_type": "code",
   "execution_count": 100,
   "metadata": {
    "slideshow": {
     "slide_type": "slide"
    }
   },
   "outputs": [
    {
     "data": {
      "text/plain": [
       "Index([], dtype='object')"
      ]
     },
     "execution_count": 100,
     "metadata": {},
     "output_type": "execute_result"
    }
   ],
   "source": [
    "cat_attr = X_train.select_dtypes('category').columns\n",
    "cat_attr"
   ]
  },
  {
   "cell_type": "code",
   "execution_count": 101,
   "metadata": {
    "slideshow": {
     "slide_type": "slide"
    }
   },
   "outputs": [],
   "source": [
    "numeric_transformer = Pipeline(steps=[\n",
    "    ('imputer', SimpleImputer(strategy='median')),\n",
    "    ('scaler', StandardScaler())])\n",
    "\n",
    "\n",
    "# categorical_transformer = Pipeline(steps=[\n",
    "#     ('imputer', SimpleImputer(strategy='most_frequent')),\n",
    "#     ('onehot', OneHotEncoder(handle_unknown='ignore'))])\n",
    "\n",
    "preprocessor = ColumnTransformer(\n",
    "    transformers=[\n",
    "        ('num', numeric_transformer, num_attr)])\n",
    "#         ('cat', categorical_transformer, cat_attr)])"
   ]
  },
  {
   "cell_type": "code",
   "execution_count": 102,
   "metadata": {},
   "outputs": [],
   "source": [
    "## Method to get the scores for each model\n",
    "scores = pd.DataFrame(columns=['Model','rmse_train', 'rmse_test'])\n",
    "\n",
    "def get_metrics(train_actual,train_predicted,test_actual,test_predicted,model_description,dataframe):\n",
    "    \n",
    "    rmse_train = np.mean((train_predicted - train_actual)**2)**.5\n",
    "    rmse_test = np.mean((test_predicted - test_actual)**2)**.5\n",
    "    dataframe = dataframe.append(pd.Series([model_description,rmse_train, rmse_test],\n",
    "                                           index=scores.columns ), ignore_index=True)\n",
    "    return(dataframe)"
   ]
  },
  {
   "cell_type": "markdown",
   "metadata": {},
   "source": [
    "### 3. Observations\n",
    "\n",
    "     * Month with highest sales is March and lowest is in the month of August\n",
    "     * Most sales are on tuesday probably because its the 2nd day of the week and the least on Sunday probably \n",
    "       because its a weekend\n",
    "     * There is one outlier which exceeds 80000 sales.\n",
    "     * Minimum value in sales is negative. This might indicate that there was a demand but no supply\n",
    "     * Negative sales might mean items returned or a loss. Not imputing them with zero as they too contribute to sales.\n",
    "     * Footfall in 2018 is the least in all the cities\n",
    "     * Footfall is the least in the months of september, november and december. \n",
    "     * Footfall is the highest in the months of March and May\n",
    "     * There is least correlation between Jaipur and the remaining cities\n",
    "     * Very few medicines are discounted\n",
    "     * There is a spike in sales in the month of January every year\n",
    "     * Delhi has the most variation in sales with sale exceeding 80000 at a time\n",
    "     * There's also a lot of negative sales/loss for city 3, Jaipur.\n",
    "     * All the cities have incurred at least some amount of loss.\n",
    "     * Footfall is not directly related to Sales"
   ]
  },
  {
   "cell_type": "markdown",
   "metadata": {
    "slideshow": {
     "slide_type": "slide"
    }
   },
   "source": [
    "## 4. Model_Building\n"
   ]
  },
  {
   "cell_type": "markdown",
   "metadata": {},
   "source": [
    "### Time Series"
   ]
  },
  {
   "cell_type": "code",
   "execution_count": 123,
   "metadata": {},
   "outputs": [
    {
     "data": {
      "text/html": [
       "<div>\n",
       "<style scoped>\n",
       "    .dataframe tbody tr th:only-of-type {\n",
       "        vertical-align: middle;\n",
       "    }\n",
       "\n",
       "    .dataframe tbody tr th {\n",
       "        vertical-align: top;\n",
       "    }\n",
       "\n",
       "    .dataframe thead th {\n",
       "        text-align: right;\n",
       "    }\n",
       "</style>\n",
       "<table border=\"1\" class=\"dataframe\">\n",
       "  <thead>\n",
       "    <tr style=\"text-align: right;\">\n",
       "      <th></th>\n",
       "      <th>sales</th>\n",
       "    </tr>\n",
       "    <tr>\n",
       "      <th>date</th>\n",
       "      <th></th>\n",
       "    </tr>\n",
       "  </thead>\n",
       "  <tbody>\n",
       "    <tr>\n",
       "      <th>2015-01-02</th>\n",
       "      <td>24.0</td>\n",
       "    </tr>\n",
       "    <tr>\n",
       "      <th>2015-01-02</th>\n",
       "      <td>144.0</td>\n",
       "    </tr>\n",
       "    <tr>\n",
       "      <th>2015-01-02</th>\n",
       "      <td>84.0</td>\n",
       "    </tr>\n",
       "    <tr>\n",
       "      <th>2015-01-02</th>\n",
       "      <td>24.0</td>\n",
       "    </tr>\n",
       "    <tr>\n",
       "      <th>2015-01-02</th>\n",
       "      <td>8.0</td>\n",
       "    </tr>\n",
       "  </tbody>\n",
       "</table>\n",
       "</div>"
      ],
      "text/plain": [
       "            sales\n",
       "date             \n",
       "2015-01-02   24.0\n",
       "2015-01-02  144.0\n",
       "2015-01-02   84.0\n",
       "2015-01-02   24.0\n",
       "2015-01-02    8.0"
      ]
     },
     "execution_count": 123,
     "metadata": {},
     "output_type": "execute_result"
    }
   ],
   "source": [
    "df_t = df[['sales']]\n",
    "df_t.head()"
   ]
  },
  {
   "cell_type": "code",
   "execution_count": 124,
   "metadata": {},
   "outputs": [],
   "source": [
    "df_t.sort_index(inplace=True)"
   ]
  },
  {
   "cell_type": "code",
   "execution_count": 125,
   "metadata": {},
   "outputs": [],
   "source": [
    "df_t = df_t.resample('D').last()"
   ]
  },
  {
   "cell_type": "code",
   "execution_count": 126,
   "metadata": {},
   "outputs": [
    {
     "data": {
      "text/html": [
       "<div>\n",
       "<style scoped>\n",
       "    .dataframe tbody tr th:only-of-type {\n",
       "        vertical-align: middle;\n",
       "    }\n",
       "\n",
       "    .dataframe tbody tr th {\n",
       "        vertical-align: top;\n",
       "    }\n",
       "\n",
       "    .dataframe thead th {\n",
       "        text-align: right;\n",
       "    }\n",
       "</style>\n",
       "<table border=\"1\" class=\"dataframe\">\n",
       "  <thead>\n",
       "    <tr style=\"text-align: right;\">\n",
       "      <th></th>\n",
       "      <th>sales</th>\n",
       "    </tr>\n",
       "    <tr>\n",
       "      <th>date</th>\n",
       "      <th></th>\n",
       "    </tr>\n",
       "  </thead>\n",
       "  <tbody>\n",
       "    <tr>\n",
       "      <th>2015-01-02</th>\n",
       "      <td>16.0</td>\n",
       "    </tr>\n",
       "    <tr>\n",
       "      <th>2015-01-03</th>\n",
       "      <td>16.0</td>\n",
       "    </tr>\n",
       "    <tr>\n",
       "      <th>2015-01-04</th>\n",
       "      <td>12.0</td>\n",
       "    </tr>\n",
       "    <tr>\n",
       "      <th>2015-01-05</th>\n",
       "      <td>36.0</td>\n",
       "    </tr>\n",
       "    <tr>\n",
       "      <th>2015-01-06</th>\n",
       "      <td>20.0</td>\n",
       "    </tr>\n",
       "    <tr>\n",
       "      <th>...</th>\n",
       "      <td>...</td>\n",
       "    </tr>\n",
       "    <tr>\n",
       "      <th>2018-06-26</th>\n",
       "      <td>56.0</td>\n",
       "    </tr>\n",
       "    <tr>\n",
       "      <th>2018-06-27</th>\n",
       "      <td>32.0</td>\n",
       "    </tr>\n",
       "    <tr>\n",
       "      <th>2018-06-28</th>\n",
       "      <td>8.0</td>\n",
       "    </tr>\n",
       "    <tr>\n",
       "      <th>2018-06-29</th>\n",
       "      <td>40.0</td>\n",
       "    </tr>\n",
       "    <tr>\n",
       "      <th>2018-06-30</th>\n",
       "      <td>56.0</td>\n",
       "    </tr>\n",
       "  </tbody>\n",
       "</table>\n",
       "<p>1276 rows × 1 columns</p>\n",
       "</div>"
      ],
      "text/plain": [
       "            sales\n",
       "date             \n",
       "2015-01-02   16.0\n",
       "2015-01-03   16.0\n",
       "2015-01-04   12.0\n",
       "2015-01-05   36.0\n",
       "2015-01-06   20.0\n",
       "...           ...\n",
       "2018-06-26   56.0\n",
       "2018-06-27   32.0\n",
       "2018-06-28    8.0\n",
       "2018-06-29   40.0\n",
       "2018-06-30   56.0\n",
       "\n",
       "[1276 rows x 1 columns]"
      ]
     },
     "execution_count": 126,
     "metadata": {},
     "output_type": "execute_result"
    }
   ],
   "source": [
    "series = df_t.groupby(\"date\").sum(\"sales\")\n",
    "series"
   ]
  },
  {
   "cell_type": "code",
   "execution_count": 129,
   "metadata": {},
   "outputs": [
    {
     "data": {
      "image/png": "[encoded data removed]",
      "text/plain": [
       "<Figure size 432x288 with 4 Axes>"
      ]
     },
     "metadata": {
      "needs_background": "light"
     },
     "output_type": "display_data"
    }
   ],
   "source": [
    "res = STL(series).fit()\n",
    "res.plot()\n",
    "plt.show()"
   ]
  },
  {
   "cell_type": "code",
   "execution_count": 130,
   "metadata": {},
   "outputs": [],
   "source": [
    "from statsmodels.tsa.stattools import adfuller\n",
    "\n",
    "\n",
    "def adf_test(timeseries):\n",
    "    print(\"Results of Dickey-Fuller Test:\")\n",
    "    dftest = adfuller(timeseries, autolag=\"AIC\")\n",
    "    dfoutput = pd.Series(\n",
    "        dftest[0:4],\n",
    "        index=[\n",
    "            \"Test Statistic\",\n",
    "            \"p-value\",\n",
    "            \"#Lags Used\",\n",
    "            \"Number of Observations Used\",\n",
    "        ],\n",
    "    )\n",
    "    for key, value in dftest[4].items():\n",
    "        dfoutput[\"Critical Value (%s)\" % key] = value\n",
    "    print(dfoutput)"
   ]
  },
  {
   "cell_type": "code",
   "execution_count": 131,
   "metadata": {},
   "outputs": [
    {
     "name": "stdout",
     "output_type": "stream",
     "text": [
      "Results of Dickey-Fuller Test:\n",
      "Test Statistic                   -5.169962\n",
      "p-value                           0.000010\n",
      "#Lags Used                       21.000000\n",
      "Number of Observations Used    1254.000000\n",
      "Critical Value (1%)              -3.435575\n",
      "Critical Value (5%)              -2.863848\n",
      "Critical Value (10%)             -2.567999\n",
      "dtype: float64\n"
     ]
    }
   ],
   "source": [
    "adf_test(series)"
   ]
  },
  {
   "cell_type": "code",
   "execution_count": 132,
   "metadata": {},
   "outputs": [],
   "source": [
    "# According to ADF test\n",
    "# H0 :The series is not stationary\n",
    "# H1 :The series is stationary\n",
    "# At 95% confidence level, p being 0.000010, is less than alpha(0.05), so we reject the null hypothesis. \n",
    "# So we can see that our data is stationary."
   ]
  },
  {
   "cell_type": "code",
   "execution_count": 135,
   "metadata": {},
   "outputs": [],
   "source": [
    "model_MA = ARIMA(series, order=(0,0,1))"
   ]
  },
  {
   "cell_type": "code",
   "execution_count": 136,
   "metadata": {},
   "outputs": [
    {
     "data": {
      "text/html": [
       "<table class=\"simpletable\">\n",
       "<caption>SARIMAX Results</caption>\n",
       "<tr>\n",
       "  <th>Dep. Variable:</th>         <td>sales</td>      <th>  No. Observations:  </th>   <td>1276</td>   \n",
       "</tr>\n",
       "<tr>\n",
       "  <th>Model:</th>            <td>ARIMA(0, 0, 1)</td>  <th>  Log Likelihood     </th> <td>-6094.846</td>\n",
       "</tr>\n",
       "<tr>\n",
       "  <th>Date:</th>            <td>Sat, 25 Dec 2021</td> <th>  AIC                </th> <td>12195.693</td>\n",
       "</tr>\n",
       "<tr>\n",
       "  <th>Time:</th>                <td>18:56:40</td>     <th>  BIC                </th> <td>12211.147</td>\n",
       "</tr>\n",
       "<tr>\n",
       "  <th>Sample:</th>             <td>01-02-2015</td>    <th>  HQIC               </th> <td>12201.497</td>\n",
       "</tr>\n",
       "<tr>\n",
       "  <th></th>                   <td>- 06-30-2018</td>   <th>                     </th>     <td> </td>    \n",
       "</tr>\n",
       "<tr>\n",
       "  <th>Covariance Type:</th>        <td>opg</td>       <th>                     </th>     <td> </td>    \n",
       "</tr>\n",
       "</table>\n",
       "<table class=\"simpletable\">\n",
       "<tr>\n",
       "     <td></td>       <th>coef</th>     <th>std err</th>      <th>z</th>      <th>P>|z|</th>  <th>[0.025</th>    <th>0.975]</th>  \n",
       "</tr>\n",
       "<tr>\n",
       "  <th>const</th>  <td>   25.4316</td> <td>    1.630</td> <td>   15.602</td> <td> 0.000</td> <td>   22.237</td> <td>   28.626</td>\n",
       "</tr>\n",
       "<tr>\n",
       "  <th>ma.L1</th>  <td>    0.4019</td> <td>    0.012</td> <td>   33.856</td> <td> 0.000</td> <td>    0.379</td> <td>    0.425</td>\n",
       "</tr>\n",
       "<tr>\n",
       "  <th>sigma2</th> <td>  824.7120</td> <td>   15.590</td> <td>   52.900</td> <td> 0.000</td> <td>  794.156</td> <td>  855.268</td>\n",
       "</tr>\n",
       "</table>\n",
       "<table class=\"simpletable\">\n",
       "<tr>\n",
       "  <th>Ljung-Box (L1) (Q):</th>     <td>14.93</td> <th>  Jarque-Bera (JB):  </th> <td>24159.05</td>\n",
       "</tr>\n",
       "<tr>\n",
       "  <th>Prob(Q):</th>                <td>0.00</td>  <th>  Prob(JB):          </th>   <td>0.00</td>  \n",
       "</tr>\n",
       "<tr>\n",
       "  <th>Heteroskedasticity (H):</th> <td>2.11</td>  <th>  Skew:              </th>   <td>3.40</td>  \n",
       "</tr>\n",
       "<tr>\n",
       "  <th>Prob(H) (two-sided):</th>    <td>0.00</td>  <th>  Kurtosis:          </th>   <td>23.20</td> \n",
       "</tr>\n",
       "</table><br/><br/>Warnings:<br/>[1] Covariance matrix calculated using the outer product of gradients (complex-step)."
      ],
      "text/plain": [
       "<class 'statsmodels.iolib.summary.Summary'>\n",
       "\"\"\"\n",
       "                               SARIMAX Results                                \n",
       "==============================================================================\n",
       "Dep. Variable:                  sales   No. Observations:                 1276\n",
       "Model:                 ARIMA(0, 0, 1)   Log Likelihood               -6094.846\n",
       "Date:                Sat, 25 Dec 2021   AIC                          12195.693\n",
       "Time:                        18:56:40   BIC                          12211.147\n",
       "Sample:                    01-02-2015   HQIC                         12201.497\n",
       "                         - 06-30-2018                                         \n",
       "Covariance Type:                  opg                                         \n",
       "==============================================================================\n",
       "                 coef    std err          z      P>|z|      [0.025      0.975]\n",
       "------------------------------------------------------------------------------\n",
       "const         25.4316      1.630     15.602      0.000      22.237      28.626\n",
       "ma.L1          0.4019      0.012     33.856      0.000       0.379       0.425\n",
       "sigma2       824.7120     15.590     52.900      0.000     794.156     855.268\n",
       "===================================================================================\n",
       "Ljung-Box (L1) (Q):                  14.93   Jarque-Bera (JB):             24159.05\n",
       "Prob(Q):                              0.00   Prob(JB):                         0.00\n",
       "Heteroskedasticity (H):               2.11   Skew:                             3.40\n",
       "Prob(H) (two-sided):                  0.00   Kurtosis:                        23.20\n",
       "===================================================================================\n",
       "\n",
       "Warnings:\n",
       "[1] Covariance matrix calculated using the outer product of gradients (complex-step).\n",
       "\"\"\""
      ]
     },
     "execution_count": 136,
     "metadata": {},
     "output_type": "execute_result"
    }
   ],
   "source": [
    "result = model_MA.fit()\n",
    "result.summary()"
   ]
  },
  {
   "cell_type": "code",
   "execution_count": 137,
   "metadata": {},
   "outputs": [],
   "source": [
    "pred = result.predict(len(series), len(series)+30)"
   ]
  },
  {
   "cell_type": "markdown",
   "metadata": {},
   "source": [
    "### LSTM"
   ]
  },
  {
   "cell_type": "raw",
   "metadata": {},
   "source": [
    "df.head()"
   ]
  },
  {
   "cell_type": "raw",
   "metadata": {},
   "source": [
    "df_t = df[['sales']]\n",
    "df_t.head()"
   ]
  },
  {
   "cell_type": "raw",
   "metadata": {},
   "source": [
    "#df_t_M = df_t.resample('M')\n",
    "#df_t.asfreq(\"D\")\n",
    "#df_t.index.freq='MS'"
   ]
  },
  {
   "cell_type": "raw",
   "metadata": {},
   "source": [
    "from statsmodels.tsa.seasonal import seasonal_decompose"
   ]
  },
  {
   "cell_type": "raw",
   "metadata": {},
   "source": [
    "#df_t_M['sales'].head()"
   ]
  },
  {
   "cell_type": "raw",
   "metadata": {},
   "source": [
    "#results = seasonal_decompose(df_t_M)\n",
    "#results = seasonal_decompose(df_t_M['sales'])\n",
    "#results.plot();"
   ]
  },
  {
   "cell_type": "raw",
   "metadata": {},
   "source": [
    "len(df_t_M)"
   ]
  },
  {
   "cell_type": "raw",
   "metadata": {},
   "source": [
    "df_test_t = pd.DataFrame(index = df_test.index)"
   ]
  },
  {
   "cell_type": "raw",
   "metadata": {},
   "source": [
    "df_test_t_M = df_test_t.resample('D')"
   ]
  },
  {
   "cell_type": "raw",
   "metadata": {},
   "source": [
    "len(df_t)"
   ]
  },
  {
   "cell_type": "raw",
   "metadata": {},
   "source": [
    "len(df_test_t)"
   ]
  },
  {
   "cell_type": "raw",
   "metadata": {},
   "source": [
    "train = df_t.iloc[:22624345]\n",
    "#test = df_t_M.iloc[1246:]\n",
    "test = df_test_t.iloc[:773535]"
   ]
  },
  {
   "cell_type": "raw",
   "metadata": {},
   "source": [
    "test.shape"
   ]
  },
  {
   "cell_type": "raw",
   "metadata": {},
   "source": [
    "train.shape"
   ]
  },
  {
   "cell_type": "raw",
   "metadata": {},
   "source": [
    "from sklearn.preprocessing import MinMaxScaler\n",
    "scaler = MinMaxScaler()"
   ]
  },
  {
   "cell_type": "raw",
   "metadata": {},
   "source": [
    "test.shape"
   ]
  },
  {
   "cell_type": "raw",
   "metadata": {},
   "source": [
    "scaler.fit(train)\n",
    "scaled_train = scaler.transform(train)"
   ]
  },
  {
   "cell_type": "raw",
   "metadata": {},
   "source": [
    "#scaled_test = scaler.transform(test)"
   ]
  },
  {
   "cell_type": "raw",
   "metadata": {},
   "source": [
    "scaled_train[:10]"
   ]
  },
  {
   "cell_type": "raw",
   "metadata": {},
   "source": [
    "from keras.preprocessing.sequence import TimeseriesGenerator"
   ]
  },
  {
   "cell_type": "raw",
   "metadata": {},
   "source": [
    "# define generator\n",
    "n_input =60\n",
    "n_features = 1\n",
    "generator = TimeseriesGenerator(scaled_train, scaled_train, length=n_input, batch_size=1)"
   ]
  },
  {
   "cell_type": "raw",
   "metadata": {},
   "source": [
    "X,y = generator[0]\n",
    "print(f'Given the Array: \\n{X.flatten()}')\n",
    "print(f'Predict this y: \\n {y}')"
   ]
  },
  {
   "cell_type": "raw",
   "metadata": {},
   "source": [
    "from keras.models import Sequential\n",
    "from keras.layers import Dense\n",
    "from keras.layers import LSTM"
   ]
  },
  {
   "cell_type": "raw",
   "metadata": {},
   "source": [
    "# define model\n",
    "model = Sequential()\n",
    "model.add(LSTM(300, activation='relu', input_shape=(n_input, n_features)))\n",
    "model.add(Dense(1))\n",
    "model.compile(optimizer='adam', loss='mse')"
   ]
  },
  {
   "cell_type": "raw",
   "metadata": {},
   "source": [
    "model.summary()"
   ]
  },
  {
   "cell_type": "raw",
   "metadata": {},
   "source": [
    "# fit model\n",
    "model.fit(generator,epochs=1)"
   ]
  },
  {
   "cell_type": "raw",
   "metadata": {},
   "source": [
    "loss_per_epoch = model.history.history['loss']\n",
    "plt.plot(range(len(loss_per_epoch)),loss_per_epoch)"
   ]
  },
  {
   "cell_type": "raw",
   "metadata": {},
   "source": [
    "last_train_batch = scaled_train[-60:]"
   ]
  },
  {
   "cell_type": "raw",
   "metadata": {},
   "source": [
    "X.shape"
   ]
  },
  {
   "cell_type": "raw",
   "metadata": {},
   "source": [
    "len(test)"
   ]
  },
  {
   "cell_type": "raw",
   "metadata": {},
   "source": [
    "last_train_batch = last_train_batch.reshape((1, n_input, n_features))"
   ]
  },
  {
   "cell_type": "raw",
   "metadata": {},
   "source": [
    "model.predict(last_train_batch)"
   ]
  },
  {
   "cell_type": "raw",
   "metadata": {},
   "source": [
    "n_input"
   ]
  },
  {
   "cell_type": "raw",
   "metadata": {},
   "source": [
    "test_predictions = []\n",
    "\n",
    "first_eval_batch = scaled_train[-(n_input):]\n",
    "current_batch = first_eval_batch.reshape((1, (n_input), n_features))\n",
    "print(current_batch)\n",
    "for i in range(len(test)):\n",
    "    \n",
    "    # get the prediction value for the first batch\n",
    "    current_pred = model.predict(current_batch)[0]\n",
    "    \n",
    "    # append the prediction into the array\n",
    "    test_predictions.append(current_pred) \n",
    "    \n",
    "    # use the prediction to update the batch and remove the first value\n",
    "    current_batch = np.append(current_batch[:,1:,:],[[current_pred]],axis=1)"
   ]
  },
  {
   "cell_type": "raw",
   "metadata": {},
   "source": [
    "test_predictions"
   ]
  },
  {
   "cell_type": "raw",
   "metadata": {},
   "source": [
    "true_predictions = scaler.inverse_transform(test_predictions)"
   ]
  },
  {
   "cell_type": "raw",
   "metadata": {},
   "source": [
    "test['Predictions'] = true_predictions"
   ]
  },
  {
   "cell_type": "raw",
   "metadata": {},
   "source": [
    "test['Predictions']\n"
   ]
  },
  {
   "cell_type": "raw",
   "metadata": {},
   "source": [
    "test.plot(figsize=(14,5))"
   ]
  },
  {
   "cell_type": "raw",
   "metadata": {},
   "source": [
    "test.shape"
   ]
  },
  {
   "cell_type": "raw",
   "metadata": {},
   "source": [
    "test"
   ]
  },
  {
   "cell_type": "raw",
   "metadata": {},
   "source": [
    "from sklearn.metrics import mean_squared_error\n",
    "from math import sqrt\n",
    "rmse=sqrt(mean_squared_error(test['sales'],test['Predictions']))\n",
    "print(rmse)"
   ]
  },
  {
   "cell_type": "markdown",
   "metadata": {
    "slideshow": {
     "slide_type": "slide"
    }
   },
   "source": [
    "### Linear Regression"
   ]
  },
  {
   "cell_type": "code",
   "execution_count": null,
   "metadata": {},
   "outputs": [],
   "source": [
    "X_train.shape\n",
    "y_train.shape"
   ]
  },
  {
   "cell_type": "code",
   "execution_count": 189,
   "metadata": {},
   "outputs": [],
   "source": [
    "lin_mod = Pipeline(steps=[('preprocessor', preprocessor),\n",
    "                      ('regressor', LinearRegression())])"
   ]
  },
  {
   "cell_type": "code",
   "execution_count": 190,
   "metadata": {
    "scrolled": true
   },
   "outputs": [
    {
     "data": {
      "text/plain": [
       "Pipeline(steps=[('preprocessor',\n",
       "                 ColumnTransformer(transformers=[('num',\n",
       "                                                  Pipeline(steps=[('scaler',\n",
       "                                                                   StandardScaler())]),\n",
       "                                                  ['city', 'day', 'discounted',\n",
       "                                                   'medicine', 'month',\n",
       "                                                   'year'])])),\n",
       "                ('regressor', LinearRegression())])"
      ]
     },
     "execution_count": 190,
     "metadata": {},
     "output_type": "execute_result"
    }
   ],
   "source": [
    "lin_mod.fit(X_train, y_train)"
   ]
  },
  {
   "cell_type": "code",
   "execution_count": 191,
   "metadata": {},
   "outputs": [],
   "source": [
    "y_pred_train = lin_mod.predict(X_train)\n",
    "y_pred_val = lin_mod.predict(X_val)"
   ]
  },
  {
   "cell_type": "markdown",
   "metadata": {},
   "source": [
    "### Evaluating Model Performance"
   ]
  },
  {
   "cell_type": "code",
   "execution_count": 192,
   "metadata": {},
   "outputs": [
    {
     "data": {
      "text/html": [
       "<div>\n",
       "<style scoped>\n",
       "    .dataframe tbody tr th:only-of-type {\n",
       "        vertical-align: middle;\n",
       "    }\n",
       "\n",
       "    .dataframe tbody tr th {\n",
       "        vertical-align: top;\n",
       "    }\n",
       "\n",
       "    .dataframe thead th {\n",
       "        text-align: right;\n",
       "    }\n",
       "</style>\n",
       "<table border=\"1\" class=\"dataframe\">\n",
       "  <thead>\n",
       "    <tr style=\"text-align: right;\">\n",
       "      <th></th>\n",
       "      <th>Model</th>\n",
       "      <th>rmse_train</th>\n",
       "      <th>rmse_test</th>\n",
       "    </tr>\n",
       "  </thead>\n",
       "  <tbody>\n",
       "    <tr>\n",
       "      <th>0</th>\n",
       "      <td>LinearRegression</td>\n",
       "      <td>109.098224</td>\n",
       "      <td>105.69418</td>\n",
       "    </tr>\n",
       "    <tr>\n",
       "      <th>1</th>\n",
       "      <td>LinearRegression</td>\n",
       "      <td>109.098224</td>\n",
       "      <td>105.69418</td>\n",
       "    </tr>\n",
       "  </tbody>\n",
       "</table>\n",
       "</div>"
      ],
      "text/plain": [
       "              Model  rmse_train  rmse_test\n",
       "0  LinearRegression  109.098224  105.69418\n",
       "1  LinearRegression  109.098224  105.69418"
      ]
     },
     "execution_count": 192,
     "metadata": {},
     "output_type": "execute_result"
    }
   ],
   "source": [
    "scores = get_metrics(y_train,y_pred_train,y_val,y_pred_val,\"LinearRegression\",scores)\n",
    "scores"
   ]
  },
  {
   "cell_type": "markdown",
   "metadata": {},
   "source": [
    "### Decision Tree Regressor\n"
   ]
  },
  {
   "cell_type": "code",
   "execution_count": 169,
   "metadata": {},
   "outputs": [],
   "source": [
    "# Create Decision Tree classifer object with pipeline\n",
    "dt_mod = Pipeline(steps=[('preprocessor', preprocessor),\n",
    "                      ('regressor', DecisionTreeRegressor(random_state=123))])"
   ]
  },
  {
   "cell_type": "code",
   "execution_count": 170,
   "metadata": {},
   "outputs": [],
   "source": [
    "# set of parameters to test\n",
    "dt_param_grid = {'regressor__criterion': ['mse'], 'regressor__max_depth': [6,8, 10, 12], \n",
    "                 \"regressor__min_samples_split\": [2, 10, 20],\"regressor__min_samples_leaf\": [1, 5, 10]}"
   ]
  },
  {
   "cell_type": "code",
   "execution_count": 171,
   "metadata": {},
   "outputs": [],
   "source": [
    "# Using GridSearchCV \n",
    "dt_mod_grid = GridSearchCV(dt_mod, param_grid=dt_param_grid, cv=5,scoring=None)"
   ]
  },
  {
   "cell_type": "code",
   "execution_count": null,
   "metadata": {},
   "outputs": [],
   "source": [
    "dt_mod_grid.fit(X_train, y_train)"
   ]
  },
  {
   "cell_type": "code",
   "execution_count": 197,
   "metadata": {},
   "outputs": [],
   "source": [
    "y_pred_train = dt_mod_grid.predict(X_train)\n",
    "y_pred_val = dt_mod_grid.predict(X_val)"
   ]
  },
  {
   "cell_type": "code",
   "execution_count": 198,
   "metadata": {},
   "outputs": [
    {
     "data": {
      "text/html": [
       "<div>\n",
       "<style scoped>\n",
       "    .dataframe tbody tr th:only-of-type {\n",
       "        vertical-align: middle;\n",
       "    }\n",
       "\n",
       "    .dataframe tbody tr th {\n",
       "        vertical-align: top;\n",
       "    }\n",
       "\n",
       "    .dataframe thead th {\n",
       "        text-align: right;\n",
       "    }\n",
       "</style>\n",
       "<table border=\"1\" class=\"dataframe\">\n",
       "  <thead>\n",
       "    <tr style=\"text-align: right;\">\n",
       "      <th></th>\n",
       "      <th>Model</th>\n",
       "      <th>rmse_train</th>\n",
       "      <th>rmse_test</th>\n",
       "    </tr>\n",
       "  </thead>\n",
       "  <tbody>\n",
       "    <tr>\n",
       "      <th>0</th>\n",
       "      <td>LinearRegression</td>\n",
       "      <td>109.098224</td>\n",
       "      <td>105.694180</td>\n",
       "    </tr>\n",
       "    <tr>\n",
       "      <th>1</th>\n",
       "      <td>LinearRegression</td>\n",
       "      <td>109.098224</td>\n",
       "      <td>105.694180</td>\n",
       "    </tr>\n",
       "    <tr>\n",
       "      <th>2</th>\n",
       "      <td>DecisionTreeWithGridSearch</td>\n",
       "      <td>99.712795</td>\n",
       "      <td>95.884987</td>\n",
       "    </tr>\n",
       "  </tbody>\n",
       "</table>\n",
       "</div>"
      ],
      "text/plain": [
       "                        Model  rmse_train   rmse_test\n",
       "0            LinearRegression  109.098224  105.694180\n",
       "1            LinearRegression  109.098224  105.694180\n",
       "2  DecisionTreeWithGridSearch   99.712795   95.884987"
      ]
     },
     "execution_count": 198,
     "metadata": {},
     "output_type": "execute_result"
    }
   ],
   "source": [
    "scores = get_metrics(y_train,y_pred_train,y_val,y_pred_val,\"DecisionTreeWithGridSearch\",scores)\n",
    "scores"
   ]
  },
  {
   "cell_type": "markdown",
   "metadata": {},
   "source": [
    "### Decision Tree with Randomized Search"
   ]
  },
  {
   "cell_type": "raw",
   "metadata": {},
   "source": [
    "dt_mod = Pipeline(steps=[('preprocessor', preprocessor),\n",
    "                      ('regressor', DecisionTreeRegressor(random_state=123))])"
   ]
  },
  {
   "cell_type": "raw",
   "metadata": {},
   "source": [
    "# set of parameters to test\n",
    "dt_random_param_grid = {'regressor__max_leaf_nodes': np.random.normal(loc=5, scale=1, size=5).astype(int), 'regressor__max_depth': np.random.uniform(2,5,4).astype(int), \n",
    "                 \"regressor__min_samples_split\": np.random.uniform(2, 6, 5).astype(int)}"
   ]
  },
  {
   "cell_type": "raw",
   "metadata": {},
   "source": [
    "#Using Randomized Search\n",
    "\n",
    "dt_mod_random = RandomizedSearchCV(estimator=dt_mod, param_distributions=dt_random_param_grid, n_iter=600, cv=5, scoring=None, n_jobs=-1)\n",
    "dt_mod_random.fit(X_train, y_train)"
   ]
  },
  {
   "cell_type": "raw",
   "metadata": {},
   "source": [
    "dt_mod_random_best = dt_mod_random.best_estimator_"
   ]
  },
  {
   "cell_type": "raw",
   "metadata": {},
   "source": [
    "y_pred_train = dt_mod_random_best.predict(X_train)\n",
    "y_pred_val = dt_mod_random_best.predict(X_val)"
   ]
  },
  {
   "cell_type": "raw",
   "metadata": {},
   "source": [
    "scores = get_metrics(y_train,y_pred_train,y_val,y_pred_val,\"DecisionTree_RandomizedSearch\",scores)\n",
    "scores"
   ]
  },
  {
   "cell_type": "markdown",
   "metadata": {},
   "source": [
    "### SVR"
   ]
  },
  {
   "cell_type": "raw",
   "metadata": {},
   "source": [
    "#SVR seems to go on and on"
   ]
  },
  {
   "cell_type": "raw",
   "metadata": {},
   "source": [
    "#Creating SVM model with GridSearch\n",
    "svr_mod = Pipeline(steps=[('preprocessor', preprocessor),\n",
    "                      ('classifier', SVR())])\n",
    "\n",
    "svr_param_grid = {'classifier__C': [50,90],\n",
    "                 \"classifier__kernel\": ['rbf']}\n",
    "\n",
    "svr_grid = GridSearchCV(svr_mod, param_grid= svr_param_grid, cv= 2)\n",
    "\n",
    "svr_grid.fit(X_train,y_train)"
   ]
  },
  {
   "cell_type": "raw",
   "metadata": {},
   "source": [
    "y_pred_train = svr_grid.predict(X_train)\n",
    "y_pred_val = svr_grid.predict(X_val)"
   ]
  },
  {
   "cell_type": "raw",
   "metadata": {},
   "source": [
    "scores = get_metrics(y_train,y_pred_train,y_val,y_pred_val,\"SVR\",scores)\n",
    "scores"
   ]
  },
  {
   "cell_type": "markdown",
   "metadata": {},
   "source": [
    "### Keras Tensorflow"
   ]
  },
  {
   "cell_type": "code",
   "execution_count": null,
   "metadata": {},
   "outputs": [],
   "source": [
    "#pip install keras"
   ]
  },
  {
   "cell_type": "code",
   "execution_count": null,
   "metadata": {},
   "outputs": [],
   "source": [
    "#pip install tensorflow"
   ]
  },
  {
   "cell_type": "code",
   "execution_count": 92,
   "metadata": {},
   "outputs": [
    {
     "data": {
      "text/html": [
       "<div>\n",
       "<style scoped>\n",
       "    .dataframe tbody tr th:only-of-type {\n",
       "        vertical-align: middle;\n",
       "    }\n",
       "\n",
       "    .dataframe tbody tr th {\n",
       "        vertical-align: top;\n",
       "    }\n",
       "\n",
       "    .dataframe thead th {\n",
       "        text-align: right;\n",
       "    }\n",
       "</style>\n",
       "<table border=\"1\" class=\"dataframe\">\n",
       "  <thead>\n",
       "    <tr style=\"text-align: right;\">\n",
       "      <th></th>\n",
       "      <th>city</th>\n",
       "      <th>medicine</th>\n",
       "      <th>sales</th>\n",
       "      <th>discounted</th>\n",
       "      <th>month</th>\n",
       "      <th>year</th>\n",
       "      <th>day</th>\n",
       "    </tr>\n",
       "    <tr>\n",
       "      <th>date</th>\n",
       "      <th></th>\n",
       "      <th></th>\n",
       "      <th></th>\n",
       "      <th></th>\n",
       "      <th></th>\n",
       "      <th></th>\n",
       "      <th></th>\n",
       "    </tr>\n",
       "  </thead>\n",
       "  <tbody>\n",
       "    <tr>\n",
       "      <th>2015-01-02</th>\n",
       "      <td>1</td>\n",
       "      <td>1</td>\n",
       "      <td>24.0</td>\n",
       "      <td>0.0</td>\n",
       "      <td>1</td>\n",
       "      <td>2015</td>\n",
       "      <td>2</td>\n",
       "    </tr>\n",
       "    <tr>\n",
       "      <th>2015-01-02</th>\n",
       "      <td>1</td>\n",
       "      <td>2</td>\n",
       "      <td>144.0</td>\n",
       "      <td>0.0</td>\n",
       "      <td>1</td>\n",
       "      <td>2015</td>\n",
       "      <td>2</td>\n",
       "    </tr>\n",
       "    <tr>\n",
       "      <th>2015-01-02</th>\n",
       "      <td>1</td>\n",
       "      <td>3</td>\n",
       "      <td>84.0</td>\n",
       "      <td>0.0</td>\n",
       "      <td>1</td>\n",
       "      <td>2015</td>\n",
       "      <td>2</td>\n",
       "    </tr>\n",
       "    <tr>\n",
       "      <th>2015-01-02</th>\n",
       "      <td>1</td>\n",
       "      <td>4</td>\n",
       "      <td>24.0</td>\n",
       "      <td>0.0</td>\n",
       "      <td>1</td>\n",
       "      <td>2015</td>\n",
       "      <td>2</td>\n",
       "    </tr>\n",
       "    <tr>\n",
       "      <th>2015-01-02</th>\n",
       "      <td>1</td>\n",
       "      <td>5</td>\n",
       "      <td>8.0</td>\n",
       "      <td>0.0</td>\n",
       "      <td>1</td>\n",
       "      <td>2015</td>\n",
       "      <td>2</td>\n",
       "    </tr>\n",
       "  </tbody>\n",
       "</table>\n",
       "</div>"
      ],
      "text/plain": [
       "            city  medicine  sales  discounted  month  year  day\n",
       "date                                                           \n",
       "2015-01-02     1         1   24.0         0.0      1  2015    2\n",
       "2015-01-02     1         2  144.0         0.0      1  2015    2\n",
       "2015-01-02     1         3   84.0         0.0      1  2015    2\n",
       "2015-01-02     1         4   24.0         0.0      1  2015    2\n",
       "2015-01-02     1         5    8.0         0.0      1  2015    2"
      ]
     },
     "execution_count": 92,
     "metadata": {},
     "output_type": "execute_result"
    }
   ],
   "source": [
    "df_merge.head()"
   ]
  },
  {
   "cell_type": "code",
   "execution_count": 133,
   "metadata": {},
   "outputs": [],
   "source": [
    "#df_merge.drop(['weekday', 'medicine_encoded'], inplace=True, axis = 1)"
   ]
  },
  {
   "cell_type": "code",
   "execution_count": 93,
   "metadata": {},
   "outputs": [
    {
     "data": {
      "text/plain": [
       "city            int64\n",
       "medicine        int64\n",
       "sales         float64\n",
       "discounted    float64\n",
       "month           int64\n",
       "year            int64\n",
       "day             int64\n",
       "dtype: object"
      ]
     },
     "execution_count": 93,
     "metadata": {},
     "output_type": "execute_result"
    }
   ],
   "source": [
    "df_merge.dtypes"
   ]
  },
  {
   "cell_type": "code",
   "execution_count": 136,
   "metadata": {},
   "outputs": [],
   "source": [
    "#df_merge['city'] = df_merge['city'].astype(\"int64\")"
   ]
  },
  {
   "cell_type": "code",
   "execution_count": 192,
   "metadata": {},
   "outputs": [],
   "source": [
    "#df_merge['discounted'] = df_merge['discounted'].astype(\"int64\")"
   ]
  },
  {
   "cell_type": "code",
   "execution_count": 94,
   "metadata": {},
   "outputs": [
    {
     "data": {
      "text/plain": [
       "['city', 'medicine', 'discounted', 'month', 'year', 'day']"
      ]
     },
     "execution_count": 94,
     "metadata": {},
     "output_type": "execute_result"
    }
   ],
   "source": [
    "cat_attr = list(df_merge.select_dtypes(\"category\").columns)\n",
    "#num_attr = list(df_merge.columns.difference(cat_attr))\n",
    "num_attr = list(df_merge.select_dtypes([\"int64\", \"float64\"]).columns)\n",
    "num_attr.remove(\"sales\")\n",
    "num_attr"
   ]
  },
  {
   "cell_type": "code",
   "execution_count": 95,
   "metadata": {},
   "outputs": [],
   "source": [
    "numeric_transformer = Pipeline(steps=[\n",
    "    ('scaler', StandardScaler())])\n",
    "\n",
    "preprocessor = ColumnTransformer(\n",
    "    transformers=[\n",
    "        ('num', numeric_transformer, num_attr)])"
   ]
  },
  {
   "cell_type": "code",
   "execution_count": 96,
   "metadata": {},
   "outputs": [],
   "source": [
    "Y = df_merge.loc[:, \"sales\"]\n",
    "#X = df_merge.loc[:, df_merge.columns != 'sales']\n",
    "X = df_merge[df_merge.columns.difference(['sales', 'date'])]"
   ]
  },
  {
   "cell_type": "code",
   "execution_count": 97,
   "metadata": {},
   "outputs": [],
   "source": [
    "#Split train and test\n",
    "X_train, X_test, y_train, y_test = train_test_split(X, Y, test_size = 0.2, shuffle=True)"
   ]
  },
  {
   "cell_type": "code",
   "execution_count": 98,
   "metadata": {},
   "outputs": [
    {
     "data": {
      "text/plain": [
       "6"
      ]
     },
     "execution_count": 98,
     "metadata": {},
     "output_type": "execute_result"
    }
   ],
   "source": [
    "#Count features for modelization\n",
    "X_num_columns= len(X.columns)\n",
    "X_num_columns"
   ]
  },
  {
   "cell_type": "code",
   "execution_count": 99,
   "metadata": {},
   "outputs": [
    {
     "data": {
      "text/html": [
       "<div>\n",
       "<style scoped>\n",
       "    .dataframe tbody tr th:only-of-type {\n",
       "        vertical-align: middle;\n",
       "    }\n",
       "\n",
       "    .dataframe tbody tr th {\n",
       "        vertical-align: top;\n",
       "    }\n",
       "\n",
       "    .dataframe thead th {\n",
       "        text-align: right;\n",
       "    }\n",
       "</style>\n",
       "<table border=\"1\" class=\"dataframe\">\n",
       "  <thead>\n",
       "    <tr style=\"text-align: right;\">\n",
       "      <th></th>\n",
       "      <th>city</th>\n",
       "      <th>day</th>\n",
       "      <th>discounted</th>\n",
       "      <th>medicine</th>\n",
       "      <th>month</th>\n",
       "      <th>year</th>\n",
       "    </tr>\n",
       "    <tr>\n",
       "      <th>date</th>\n",
       "      <th></th>\n",
       "      <th></th>\n",
       "      <th></th>\n",
       "      <th></th>\n",
       "      <th></th>\n",
       "      <th></th>\n",
       "    </tr>\n",
       "  </thead>\n",
       "  <tbody>\n",
       "    <tr>\n",
       "      <th>2015-01-02</th>\n",
       "      <td>1</td>\n",
       "      <td>2</td>\n",
       "      <td>0.0</td>\n",
       "      <td>1</td>\n",
       "      <td>1</td>\n",
       "      <td>2015</td>\n",
       "    </tr>\n",
       "    <tr>\n",
       "      <th>2015-01-02</th>\n",
       "      <td>1</td>\n",
       "      <td>2</td>\n",
       "      <td>0.0</td>\n",
       "      <td>2</td>\n",
       "      <td>1</td>\n",
       "      <td>2015</td>\n",
       "    </tr>\n",
       "    <tr>\n",
       "      <th>2015-01-02</th>\n",
       "      <td>1</td>\n",
       "      <td>2</td>\n",
       "      <td>0.0</td>\n",
       "      <td>3</td>\n",
       "      <td>1</td>\n",
       "      <td>2015</td>\n",
       "    </tr>\n",
       "    <tr>\n",
       "      <th>2015-01-02</th>\n",
       "      <td>1</td>\n",
       "      <td>2</td>\n",
       "      <td>0.0</td>\n",
       "      <td>4</td>\n",
       "      <td>1</td>\n",
       "      <td>2015</td>\n",
       "    </tr>\n",
       "    <tr>\n",
       "      <th>2015-01-02</th>\n",
       "      <td>1</td>\n",
       "      <td>2</td>\n",
       "      <td>0.0</td>\n",
       "      <td>5</td>\n",
       "      <td>1</td>\n",
       "      <td>2015</td>\n",
       "    </tr>\n",
       "  </tbody>\n",
       "</table>\n",
       "</div>"
      ],
      "text/plain": [
       "            city  day  discounted  medicine  month  year\n",
       "date                                                    \n",
       "2015-01-02     1    2         0.0         1      1  2015\n",
       "2015-01-02     1    2         0.0         2      1  2015\n",
       "2015-01-02     1    2         0.0         3      1  2015\n",
       "2015-01-02     1    2         0.0         4      1  2015\n",
       "2015-01-02     1    2         0.0         5      1  2015"
      ]
     },
     "execution_count": 99,
     "metadata": {},
     "output_type": "execute_result"
    }
   ],
   "source": [
    "X.head()"
   ]
  },
  {
   "cell_type": "code",
   "execution_count": 100,
   "metadata": {},
   "outputs": [],
   "source": [
    "from keras import backend as K"
   ]
  },
  {
   "cell_type": "code",
   "execution_count": 101,
   "metadata": {},
   "outputs": [],
   "source": [
    "def root_mean_squared_error(y_true, y_pred):\n",
    "        return K.sqrt(K.mean(K.square(y_pred - y_true))) "
   ]
  },
  {
   "cell_type": "code",
   "execution_count": 102,
   "metadata": {},
   "outputs": [],
   "source": [
    "from keras.wrappers.scikit_learn import KerasRegressor\n",
    "from keras.models import Sequential\n",
    "from keras.layers import Dense\n",
    "from keras.layers import Dropout\n",
    "from keras.layers import Activation\n",
    "from keras import regularizers\n",
    "# def create_model(optimizer='adam',\n",
    "#                  kernel_initializer='glorot_uniform', \n",
    "#                  dropout=0.2):\n",
    "def create_model(optimizer='rmsprop', \n",
    "                 dropout=0.2):\n",
    "    model = Sequential()\n",
    "    model.add(Dense(200,\n",
    "                activation='relu',\n",
    "                input_dim = X_num_columns))\n",
    "#     model.add(Dense(190,\n",
    "#                 activation='relu'))\n",
    "#     model.add(Dropout(0.2))\n",
    "    model.add(Dense(100,\n",
    "                activation='relu'))\n",
    "    model.add(Dropout(0.2))\n",
    "    model.add(Dense(40,\n",
    "                activation='relu'))\n",
    "    model.add(Dropout(0.2))\n",
    "#     model.add(Dense(20,\n",
    "#                 activation='relu'))\n",
    "#     model.add(Dropout(0.2))\n",
    "    model.add(Dense(7,\n",
    "                activation='relu'))\n",
    "    model.add(Dropout(0.2))\n",
    "    model.add(Dense(1,\n",
    "                activation='relu'))\n",
    "    model.compile(optimizer=optimizer, loss=root_mean_squared_error)\n",
    "    return model\n",
    "\n",
    "# wrap the model using the function you created\n",
    "clf = KerasRegressor(build_fn=create_model,verbose=0,epochs=5, validation_split = 0.2)\n",
    "\n",
    "# just create the pipeline\n",
    "pipeline = Pipeline(steps=[('preprocessor', preprocessor),\n",
    "                      ('classifier', clf)])"
   ]
  },
  {
   "cell_type": "code",
   "execution_count": 160,
   "metadata": {},
   "outputs": [
    {
     "data": {
      "text/html": [
       "<div>\n",
       "<style scoped>\n",
       "    .dataframe tbody tr th:only-of-type {\n",
       "        vertical-align: middle;\n",
       "    }\n",
       "\n",
       "    .dataframe tbody tr th {\n",
       "        vertical-align: top;\n",
       "    }\n",
       "\n",
       "    .dataframe thead th {\n",
       "        text-align: right;\n",
       "    }\n",
       "</style>\n",
       "<table border=\"1\" class=\"dataframe\">\n",
       "  <thead>\n",
       "    <tr style=\"text-align: right;\">\n",
       "      <th></th>\n",
       "      <th>city</th>\n",
       "      <th>day</th>\n",
       "      <th>discounted</th>\n",
       "      <th>medicine</th>\n",
       "      <th>month</th>\n",
       "      <th>year</th>\n",
       "    </tr>\n",
       "    <tr>\n",
       "      <th>date</th>\n",
       "      <th></th>\n",
       "      <th></th>\n",
       "      <th></th>\n",
       "      <th></th>\n",
       "      <th></th>\n",
       "      <th></th>\n",
       "    </tr>\n",
       "  </thead>\n",
       "  <tbody>\n",
       "    <tr>\n",
       "      <th>2017-08-24</th>\n",
       "      <td>6</td>\n",
       "      <td>24</td>\n",
       "      <td>0.0</td>\n",
       "      <td>564</td>\n",
       "      <td>8</td>\n",
       "      <td>2017</td>\n",
       "    </tr>\n",
       "    <tr>\n",
       "      <th>2016-08-01</th>\n",
       "      <td>3</td>\n",
       "      <td>1</td>\n",
       "      <td>0.0</td>\n",
       "      <td>1735</td>\n",
       "      <td>8</td>\n",
       "      <td>2016</td>\n",
       "    </tr>\n",
       "    <tr>\n",
       "      <th>2017-08-16</th>\n",
       "      <td>4</td>\n",
       "      <td>16</td>\n",
       "      <td>0.0</td>\n",
       "      <td>2590</td>\n",
       "      <td>8</td>\n",
       "      <td>2017</td>\n",
       "    </tr>\n",
       "    <tr>\n",
       "      <th>2015-12-11</th>\n",
       "      <td>5</td>\n",
       "      <td>11</td>\n",
       "      <td>0.0</td>\n",
       "      <td>1714</td>\n",
       "      <td>12</td>\n",
       "      <td>2015</td>\n",
       "    </tr>\n",
       "    <tr>\n",
       "      <th>2018-03-21</th>\n",
       "      <td>6</td>\n",
       "      <td>21</td>\n",
       "      <td>0.0</td>\n",
       "      <td>727</td>\n",
       "      <td>3</td>\n",
       "      <td>2018</td>\n",
       "    </tr>\n",
       "  </tbody>\n",
       "</table>\n",
       "</div>"
      ],
      "text/plain": [
       "            city  day  discounted  medicine  month  year\n",
       "date                                                    \n",
       "2017-08-24     6   24         0.0       564      8  2017\n",
       "2016-08-01     3    1         0.0      1735      8  2016\n",
       "2017-08-16     4   16         0.0      2590      8  2017\n",
       "2015-12-11     5   11         0.0      1714     12  2015\n",
       "2018-03-21     6   21         0.0       727      3  2018"
      ]
     },
     "execution_count": 160,
     "metadata": {},
     "output_type": "execute_result"
    }
   ],
   "source": [
    "X_train.head()"
   ]
  },
  {
   "cell_type": "code",
   "execution_count": 103,
   "metadata": {},
   "outputs": [
    {
     "name": "stdout",
     "output_type": "stream",
     "text": [
      "Training completed\n"
     ]
    }
   ],
   "source": [
    "#model.fit(X_train, y_train, epochs=5, batch_size=10000)\n",
    "pipeline.fit(X_train, y_train) \n",
    "\n",
    "print(\"Training completed\")"
   ]
  },
  {
   "cell_type": "code",
   "execution_count": 104,
   "metadata": {},
   "outputs": [],
   "source": [
    "dates = df.index"
   ]
  },
  {
   "cell_type": "markdown",
   "metadata": {},
   "source": [
    "### TEST DATA PREDICTION"
   ]
  },
  {
   "cell_type": "code",
   "execution_count": 130,
   "metadata": {},
   "outputs": [],
   "source": [
    "df_test = pd.read_csv('test_data-1638434844061.csv', na_values=['unknown', '#', '$'])\n",
    "# df_test = pd.read_csv('test_data-1638434844061.csv',\n",
    "#                  parse_dates= {\"date\" : [\"year\",\"month\",\"day\"]}, index_col=\"date\", na_values=['unknown', '#', '$'])"
   ]
  },
  {
   "cell_type": "code",
   "execution_count": 131,
   "metadata": {},
   "outputs": [],
   "source": [
    "Id = df_test['id']"
   ]
  },
  {
   "cell_type": "code",
   "execution_count": 132,
   "metadata": {},
   "outputs": [
    {
     "data": {
      "text/plain": [
       "(773535, 6)"
      ]
     },
     "execution_count": 132,
     "metadata": {},
     "output_type": "execute_result"
    }
   ],
   "source": [
    "df_test.shape"
   ]
  },
  {
   "cell_type": "code",
   "execution_count": 133,
   "metadata": {
    "scrolled": true
   },
   "outputs": [
    {
     "data": {
      "text/html": [
       "<div>\n",
       "<style scoped>\n",
       "    .dataframe tbody tr th:only-of-type {\n",
       "        vertical-align: middle;\n",
       "    }\n",
       "\n",
       "    .dataframe tbody tr th {\n",
       "        vertical-align: top;\n",
       "    }\n",
       "\n",
       "    .dataframe thead th {\n",
       "        text-align: right;\n",
       "    }\n",
       "</style>\n",
       "<table border=\"1\" class=\"dataframe\">\n",
       "  <thead>\n",
       "    <tr style=\"text-align: right;\">\n",
       "      <th></th>\n",
       "      <th>id</th>\n",
       "      <th>year</th>\n",
       "      <th>month</th>\n",
       "      <th>day</th>\n",
       "      <th>city</th>\n",
       "      <th>medicine</th>\n",
       "    </tr>\n",
       "  </thead>\n",
       "  <tbody>\n",
       "    <tr>\n",
       "      <th>0</th>\n",
       "      <td>1</td>\n",
       "      <td>2018</td>\n",
       "      <td>7</td>\n",
       "      <td>1</td>\n",
       "      <td>1</td>\n",
       "      <td>1292</td>\n",
       "    </tr>\n",
       "    <tr>\n",
       "      <th>1</th>\n",
       "      <td>2</td>\n",
       "      <td>2018</td>\n",
       "      <td>7</td>\n",
       "      <td>1</td>\n",
       "      <td>1</td>\n",
       "      <td>1</td>\n",
       "    </tr>\n",
       "    <tr>\n",
       "      <th>2</th>\n",
       "      <td>3</td>\n",
       "      <td>2018</td>\n",
       "      <td>7</td>\n",
       "      <td>1</td>\n",
       "      <td>1</td>\n",
       "      <td>2</td>\n",
       "    </tr>\n",
       "    <tr>\n",
       "      <th>3</th>\n",
       "      <td>4</td>\n",
       "      <td>2018</td>\n",
       "      <td>7</td>\n",
       "      <td>1</td>\n",
       "      <td>1</td>\n",
       "      <td>3</td>\n",
       "    </tr>\n",
       "    <tr>\n",
       "      <th>4</th>\n",
       "      <td>5</td>\n",
       "      <td>2018</td>\n",
       "      <td>7</td>\n",
       "      <td>1</td>\n",
       "      <td>1</td>\n",
       "      <td>4</td>\n",
       "    </tr>\n",
       "  </tbody>\n",
       "</table>\n",
       "</div>"
      ],
      "text/plain": [
       "   id  year  month  day  city  medicine\n",
       "0   1  2018      7    1     1      1292\n",
       "1   2  2018      7    1     1         1\n",
       "2   3  2018      7    1     1         2\n",
       "3   4  2018      7    1     1         3\n",
       "4   5  2018      7    1     1         4"
      ]
     },
     "execution_count": 133,
     "metadata": {},
     "output_type": "execute_result"
    }
   ],
   "source": [
    "df_test.head()"
   ]
  },
  {
   "cell_type": "code",
   "execution_count": 134,
   "metadata": {},
   "outputs": [
    {
     "data": {
      "text/html": [
       "<div>\n",
       "<style scoped>\n",
       "    .dataframe tbody tr th:only-of-type {\n",
       "        vertical-align: middle;\n",
       "    }\n",
       "\n",
       "    .dataframe tbody tr th {\n",
       "        vertical-align: top;\n",
       "    }\n",
       "\n",
       "    .dataframe thead th {\n",
       "        text-align: right;\n",
       "    }\n",
       "</style>\n",
       "<table border=\"1\" class=\"dataframe\">\n",
       "  <thead>\n",
       "    <tr style=\"text-align: right;\">\n",
       "      <th></th>\n",
       "      <th>year</th>\n",
       "      <th>month</th>\n",
       "      <th>day</th>\n",
       "      <th>city</th>\n",
       "      <th>medicine</th>\n",
       "    </tr>\n",
       "    <tr>\n",
       "      <th>date</th>\n",
       "      <th></th>\n",
       "      <th></th>\n",
       "      <th></th>\n",
       "      <th></th>\n",
       "      <th></th>\n",
       "    </tr>\n",
       "  </thead>\n",
       "  <tbody>\n",
       "    <tr>\n",
       "      <th>2018-07-01</th>\n",
       "      <td>2018</td>\n",
       "      <td>7</td>\n",
       "      <td>1</td>\n",
       "      <td>1</td>\n",
       "      <td>1292</td>\n",
       "    </tr>\n",
       "    <tr>\n",
       "      <th>2018-07-01</th>\n",
       "      <td>2018</td>\n",
       "      <td>7</td>\n",
       "      <td>1</td>\n",
       "      <td>1</td>\n",
       "      <td>1</td>\n",
       "    </tr>\n",
       "    <tr>\n",
       "      <th>2018-07-01</th>\n",
       "      <td>2018</td>\n",
       "      <td>7</td>\n",
       "      <td>1</td>\n",
       "      <td>1</td>\n",
       "      <td>2</td>\n",
       "    </tr>\n",
       "    <tr>\n",
       "      <th>2018-07-01</th>\n",
       "      <td>2018</td>\n",
       "      <td>7</td>\n",
       "      <td>1</td>\n",
       "      <td>1</td>\n",
       "      <td>3</td>\n",
       "    </tr>\n",
       "    <tr>\n",
       "      <th>2018-07-01</th>\n",
       "      <td>2018</td>\n",
       "      <td>7</td>\n",
       "      <td>1</td>\n",
       "      <td>1</td>\n",
       "      <td>4</td>\n",
       "    </tr>\n",
       "  </tbody>\n",
       "</table>\n",
       "</div>"
      ],
      "text/plain": [
       "            year  month  day  city  medicine\n",
       "date                                        \n",
       "2018-07-01  2018      7    1     1      1292\n",
       "2018-07-01  2018      7    1     1         1\n",
       "2018-07-01  2018      7    1     1         2\n",
       "2018-07-01  2018      7    1     1         3\n",
       "2018-07-01  2018      7    1     1         4"
      ]
     },
     "execution_count": 134,
     "metadata": {},
     "output_type": "execute_result"
    }
   ],
   "source": [
    "df_test[\"date\"] = pd.to_datetime(dict(year=df_test.year, month=df_test.month, day=df_test.day))\n",
    "df_test.set_index([\"date\"], inplace=True)\n",
    "df_test.drop(['id'], axis = 1, inplace=True)\n",
    "df_test.head()"
   ]
  },
  {
   "cell_type": "code",
   "execution_count": 135,
   "metadata": {},
   "outputs": [
    {
     "data": {
      "text/html": [
       "<div>\n",
       "<style scoped>\n",
       "    .dataframe tbody tr th:only-of-type {\n",
       "        vertical-align: middle;\n",
       "    }\n",
       "\n",
       "    .dataframe tbody tr th {\n",
       "        vertical-align: top;\n",
       "    }\n",
       "\n",
       "    .dataframe thead th {\n",
       "        text-align: right;\n",
       "    }\n",
       "</style>\n",
       "<table border=\"1\" class=\"dataframe\">\n",
       "  <thead>\n",
       "    <tr style=\"text-align: right;\">\n",
       "      <th></th>\n",
       "      <th>date</th>\n",
       "      <th>city</th>\n",
       "      <th>medicine</th>\n",
       "      <th>discounted</th>\n",
       "      <th>year</th>\n",
       "      <th>month</th>\n",
       "      <th>day</th>\n",
       "    </tr>\n",
       "  </thead>\n",
       "  <tbody>\n",
       "    <tr>\n",
       "      <th>0</th>\n",
       "      <td>2016-04-01</td>\n",
       "      <td>1</td>\n",
       "      <td>1</td>\n",
       "      <td>0</td>\n",
       "      <td>2016</td>\n",
       "      <td>4</td>\n",
       "      <td>1</td>\n",
       "    </tr>\n",
       "    <tr>\n",
       "      <th>1</th>\n",
       "      <td>2016-04-01</td>\n",
       "      <td>1</td>\n",
       "      <td>2</td>\n",
       "      <td>0</td>\n",
       "      <td>2016</td>\n",
       "      <td>4</td>\n",
       "      <td>1</td>\n",
       "    </tr>\n",
       "    <tr>\n",
       "      <th>2</th>\n",
       "      <td>2016-04-01</td>\n",
       "      <td>1</td>\n",
       "      <td>3</td>\n",
       "      <td>0</td>\n",
       "      <td>2016</td>\n",
       "      <td>4</td>\n",
       "      <td>1</td>\n",
       "    </tr>\n",
       "    <tr>\n",
       "      <th>3</th>\n",
       "      <td>2016-04-01</td>\n",
       "      <td>1</td>\n",
       "      <td>4</td>\n",
       "      <td>0</td>\n",
       "      <td>2016</td>\n",
       "      <td>4</td>\n",
       "      <td>1</td>\n",
       "    </tr>\n",
       "    <tr>\n",
       "      <th>4</th>\n",
       "      <td>2016-04-01</td>\n",
       "      <td>1</td>\n",
       "      <td>5</td>\n",
       "      <td>0</td>\n",
       "      <td>2016</td>\n",
       "      <td>4</td>\n",
       "      <td>1</td>\n",
       "    </tr>\n",
       "  </tbody>\n",
       "</table>\n",
       "</div>"
      ],
      "text/plain": [
       "        date  city  medicine  discounted  year  month  day\n",
       "0 2016-04-01     1         1           0  2016      4    1\n",
       "1 2016-04-01     1         2           0  2016      4    1\n",
       "2 2016-04-01     1         3           0  2016      4    1\n",
       "3 2016-04-01     1         4           0  2016      4    1\n",
       "4 2016-04-01     1         5           0  2016      4    1"
      ]
     },
     "execution_count": 135,
     "metadata": {},
     "output_type": "execute_result"
    }
   ],
   "source": [
    "disc_df.head()"
   ]
  },
  {
   "cell_type": "code",
   "execution_count": 136,
   "metadata": {},
   "outputs": [],
   "source": [
    "disc_df['year'] = disc_df['date'].dt.year"
   ]
  },
  {
   "cell_type": "code",
   "execution_count": 137,
   "metadata": {},
   "outputs": [],
   "source": [
    "disc_df['month'] = disc_df['date'].dt.month"
   ]
  },
  {
   "cell_type": "code",
   "execution_count": 138,
   "metadata": {},
   "outputs": [],
   "source": [
    "disc_df['day'] = disc_df['date'].dt.day"
   ]
  },
  {
   "cell_type": "code",
   "execution_count": 139,
   "metadata": {},
   "outputs": [
    {
     "data": {
      "text/html": [
       "<div>\n",
       "<style scoped>\n",
       "    .dataframe tbody tr th:only-of-type {\n",
       "        vertical-align: middle;\n",
       "    }\n",
       "\n",
       "    .dataframe tbody tr th {\n",
       "        vertical-align: top;\n",
       "    }\n",
       "\n",
       "    .dataframe thead th {\n",
       "        text-align: right;\n",
       "    }\n",
       "</style>\n",
       "<table border=\"1\" class=\"dataframe\">\n",
       "  <thead>\n",
       "    <tr style=\"text-align: right;\">\n",
       "      <th></th>\n",
       "      <th>date</th>\n",
       "      <th>city</th>\n",
       "      <th>medicine</th>\n",
       "      <th>discounted</th>\n",
       "      <th>year</th>\n",
       "      <th>month</th>\n",
       "      <th>day</th>\n",
       "    </tr>\n",
       "  </thead>\n",
       "  <tbody>\n",
       "    <tr>\n",
       "      <th>0</th>\n",
       "      <td>2016-04-01</td>\n",
       "      <td>1</td>\n",
       "      <td>1</td>\n",
       "      <td>0</td>\n",
       "      <td>2016</td>\n",
       "      <td>4</td>\n",
       "      <td>1</td>\n",
       "    </tr>\n",
       "    <tr>\n",
       "      <th>1</th>\n",
       "      <td>2016-04-01</td>\n",
       "      <td>1</td>\n",
       "      <td>2</td>\n",
       "      <td>0</td>\n",
       "      <td>2016</td>\n",
       "      <td>4</td>\n",
       "      <td>1</td>\n",
       "    </tr>\n",
       "    <tr>\n",
       "      <th>2</th>\n",
       "      <td>2016-04-01</td>\n",
       "      <td>1</td>\n",
       "      <td>3</td>\n",
       "      <td>0</td>\n",
       "      <td>2016</td>\n",
       "      <td>4</td>\n",
       "      <td>1</td>\n",
       "    </tr>\n",
       "    <tr>\n",
       "      <th>3</th>\n",
       "      <td>2016-04-01</td>\n",
       "      <td>1</td>\n",
       "      <td>4</td>\n",
       "      <td>0</td>\n",
       "      <td>2016</td>\n",
       "      <td>4</td>\n",
       "      <td>1</td>\n",
       "    </tr>\n",
       "    <tr>\n",
       "      <th>4</th>\n",
       "      <td>2016-04-01</td>\n",
       "      <td>1</td>\n",
       "      <td>5</td>\n",
       "      <td>0</td>\n",
       "      <td>2016</td>\n",
       "      <td>4</td>\n",
       "      <td>1</td>\n",
       "    </tr>\n",
       "  </tbody>\n",
       "</table>\n",
       "</div>"
      ],
      "text/plain": [
       "        date  city  medicine  discounted  year  month  day\n",
       "0 2016-04-01     1         1           0  2016      4    1\n",
       "1 2016-04-01     1         2           0  2016      4    1\n",
       "2 2016-04-01     1         3           0  2016      4    1\n",
       "3 2016-04-01     1         4           0  2016      4    1\n",
       "4 2016-04-01     1         5           0  2016      4    1"
      ]
     },
     "execution_count": 139,
     "metadata": {},
     "output_type": "execute_result"
    }
   ],
   "source": [
    "disc_df.head()"
   ]
  },
  {
   "cell_type": "code",
   "execution_count": 140,
   "metadata": {},
   "outputs": [],
   "source": [
    "#Merging discount and train data\n",
    "df_merge_test = pd.merge(df_test, disc_df, on=[\"date\", \"city\",\"medicine\", \"year\", \"month\", \"day\"], how=\"left\")"
   ]
  },
  {
   "cell_type": "code",
   "execution_count": 141,
   "metadata": {},
   "outputs": [
    {
     "data": {
      "text/html": [
       "<div>\n",
       "<style scoped>\n",
       "    .dataframe tbody tr th:only-of-type {\n",
       "        vertical-align: middle;\n",
       "    }\n",
       "\n",
       "    .dataframe tbody tr th {\n",
       "        vertical-align: top;\n",
       "    }\n",
       "\n",
       "    .dataframe thead th {\n",
       "        text-align: right;\n",
       "    }\n",
       "</style>\n",
       "<table border=\"1\" class=\"dataframe\">\n",
       "  <thead>\n",
       "    <tr style=\"text-align: right;\">\n",
       "      <th></th>\n",
       "      <th>date</th>\n",
       "      <th>year</th>\n",
       "      <th>month</th>\n",
       "      <th>day</th>\n",
       "      <th>city</th>\n",
       "      <th>medicine</th>\n",
       "      <th>discounted</th>\n",
       "    </tr>\n",
       "  </thead>\n",
       "  <tbody>\n",
       "    <tr>\n",
       "      <th>0</th>\n",
       "      <td>2018-07-01</td>\n",
       "      <td>2018</td>\n",
       "      <td>7</td>\n",
       "      <td>1</td>\n",
       "      <td>1</td>\n",
       "      <td>1292</td>\n",
       "      <td>0</td>\n",
       "    </tr>\n",
       "    <tr>\n",
       "      <th>1</th>\n",
       "      <td>2018-07-01</td>\n",
       "      <td>2018</td>\n",
       "      <td>7</td>\n",
       "      <td>1</td>\n",
       "      <td>1</td>\n",
       "      <td>1</td>\n",
       "      <td>0</td>\n",
       "    </tr>\n",
       "    <tr>\n",
       "      <th>2</th>\n",
       "      <td>2018-07-01</td>\n",
       "      <td>2018</td>\n",
       "      <td>7</td>\n",
       "      <td>1</td>\n",
       "      <td>1</td>\n",
       "      <td>2</td>\n",
       "      <td>1</td>\n",
       "    </tr>\n",
       "    <tr>\n",
       "      <th>3</th>\n",
       "      <td>2018-07-01</td>\n",
       "      <td>2018</td>\n",
       "      <td>7</td>\n",
       "      <td>1</td>\n",
       "      <td>1</td>\n",
       "      <td>3</td>\n",
       "      <td>0</td>\n",
       "    </tr>\n",
       "    <tr>\n",
       "      <th>4</th>\n",
       "      <td>2018-07-01</td>\n",
       "      <td>2018</td>\n",
       "      <td>7</td>\n",
       "      <td>1</td>\n",
       "      <td>1</td>\n",
       "      <td>4</td>\n",
       "      <td>0</td>\n",
       "    </tr>\n",
       "  </tbody>\n",
       "</table>\n",
       "</div>"
      ],
      "text/plain": [
       "        date  year  month  day  city  medicine  discounted\n",
       "0 2018-07-01  2018      7    1     1      1292           0\n",
       "1 2018-07-01  2018      7    1     1         1           0\n",
       "2 2018-07-01  2018      7    1     1         2           1\n",
       "3 2018-07-01  2018      7    1     1         3           0\n",
       "4 2018-07-01  2018      7    1     1         4           0"
      ]
     },
     "execution_count": 141,
     "metadata": {},
     "output_type": "execute_result"
    }
   ],
   "source": [
    "df_merge_test.head()"
   ]
  },
  {
   "cell_type": "code",
   "execution_count": 142,
   "metadata": {},
   "outputs": [],
   "source": [
    "df_merge_test['discounted'].fillna(0.0, inplace=True)"
   ]
  },
  {
   "cell_type": "code",
   "execution_count": 143,
   "metadata": {},
   "outputs": [],
   "source": [
    "df_merge_test['discounted'] = df_merge_test['discounted'].astype('float64')"
   ]
  },
  {
   "cell_type": "code",
   "execution_count": 144,
   "metadata": {},
   "outputs": [],
   "source": [
    "df_merge_test.set_index(\"date\", inplace=True)"
   ]
  },
  {
   "cell_type": "code",
   "execution_count": 145,
   "metadata": {},
   "outputs": [
    {
     "data": {
      "text/plain": [
       "['city', 'day', 'discounted', 'medicine', 'month', 'year']"
      ]
     },
     "execution_count": 145,
     "metadata": {},
     "output_type": "execute_result"
    }
   ],
   "source": [
    "cat_attr_test = list(df_merge_test.select_dtypes(\"category\").columns)\n",
    "num_attr_test = list(df_merge_test.columns.difference(cat_attr))\n",
    "#num_attr_test.remove(\"sales\")\n",
    "num_attr_test"
   ]
  },
  {
   "cell_type": "code",
   "execution_count": 146,
   "metadata": {},
   "outputs": [],
   "source": [
    "#test_data[catcols] = test_data[catcols].astype('category')"
   ]
  },
  {
   "cell_type": "code",
   "execution_count": 147,
   "metadata": {},
   "outputs": [],
   "source": [
    "numeric_transformer_test = Pipeline(steps=[\n",
    "    ('scaler', StandardScaler())])\n",
    "\n",
    "preprocessor = ColumnTransformer(\n",
    "    transformers=[\n",
    "        ('num', numeric_transformer_test, num_attr_test)])"
   ]
  },
  {
   "cell_type": "code",
   "execution_count": 161,
   "metadata": {},
   "outputs": [],
   "source": [
    "cols = ['city','day',  'discounted', 'medicine', 'month', 'year']"
   ]
  },
  {
   "cell_type": "code",
   "execution_count": 162,
   "metadata": {},
   "outputs": [],
   "source": [
    "df_merge_test = df_merge_test[cols]"
   ]
  },
  {
   "cell_type": "code",
   "execution_count": 150,
   "metadata": {},
   "outputs": [],
   "source": [
    "#df_merge_test.head()"
   ]
  },
  {
   "cell_type": "code",
   "execution_count": 151,
   "metadata": {},
   "outputs": [
    {
     "data": {
      "text/plain": [
       "year            int64\n",
       "month           int64\n",
       "day             int64\n",
       "city            int64\n",
       "medicine        int64\n",
       "discounted    float64\n",
       "dtype: object"
      ]
     },
     "execution_count": 151,
     "metadata": {},
     "output_type": "execute_result"
    }
   ],
   "source": [
    "df_merge_test.dtypes"
   ]
  },
  {
   "cell_type": "code",
   "execution_count": 152,
   "metadata": {},
   "outputs": [
    {
     "data": {
      "text/plain": [
       "city            int64\n",
       "medicine        int64\n",
       "sales         float64\n",
       "discounted    float64\n",
       "month           int64\n",
       "year            int64\n",
       "day             int64\n",
       "dtype: object"
      ]
     },
     "execution_count": 152,
     "metadata": {},
     "output_type": "execute_result"
    }
   ],
   "source": [
    "df_merge.dtypes"
   ]
  },
  {
   "cell_type": "code",
   "execution_count": 153,
   "metadata": {},
   "outputs": [
    {
     "data": {
      "text/html": [
       "<div>\n",
       "<style scoped>\n",
       "    .dataframe tbody tr th:only-of-type {\n",
       "        vertical-align: middle;\n",
       "    }\n",
       "\n",
       "    .dataframe tbody tr th {\n",
       "        vertical-align: top;\n",
       "    }\n",
       "\n",
       "    .dataframe thead th {\n",
       "        text-align: right;\n",
       "    }\n",
       "</style>\n",
       "<table border=\"1\" class=\"dataframe\">\n",
       "  <thead>\n",
       "    <tr style=\"text-align: right;\">\n",
       "      <th></th>\n",
       "      <th>city</th>\n",
       "      <th>medicine</th>\n",
       "      <th>sales</th>\n",
       "      <th>discounted</th>\n",
       "      <th>month</th>\n",
       "      <th>year</th>\n",
       "      <th>day</th>\n",
       "    </tr>\n",
       "    <tr>\n",
       "      <th>date</th>\n",
       "      <th></th>\n",
       "      <th></th>\n",
       "      <th></th>\n",
       "      <th></th>\n",
       "      <th></th>\n",
       "      <th></th>\n",
       "      <th></th>\n",
       "    </tr>\n",
       "  </thead>\n",
       "  <tbody>\n",
       "    <tr>\n",
       "      <th>2015-01-02</th>\n",
       "      <td>1</td>\n",
       "      <td>1</td>\n",
       "      <td>24.0</td>\n",
       "      <td>0.0</td>\n",
       "      <td>1</td>\n",
       "      <td>2015</td>\n",
       "      <td>2</td>\n",
       "    </tr>\n",
       "    <tr>\n",
       "      <th>2015-01-02</th>\n",
       "      <td>1</td>\n",
       "      <td>2</td>\n",
       "      <td>144.0</td>\n",
       "      <td>0.0</td>\n",
       "      <td>1</td>\n",
       "      <td>2015</td>\n",
       "      <td>2</td>\n",
       "    </tr>\n",
       "    <tr>\n",
       "      <th>2015-01-02</th>\n",
       "      <td>1</td>\n",
       "      <td>3</td>\n",
       "      <td>84.0</td>\n",
       "      <td>0.0</td>\n",
       "      <td>1</td>\n",
       "      <td>2015</td>\n",
       "      <td>2</td>\n",
       "    </tr>\n",
       "    <tr>\n",
       "      <th>2015-01-02</th>\n",
       "      <td>1</td>\n",
       "      <td>4</td>\n",
       "      <td>24.0</td>\n",
       "      <td>0.0</td>\n",
       "      <td>1</td>\n",
       "      <td>2015</td>\n",
       "      <td>2</td>\n",
       "    </tr>\n",
       "    <tr>\n",
       "      <th>2015-01-02</th>\n",
       "      <td>1</td>\n",
       "      <td>5</td>\n",
       "      <td>8.0</td>\n",
       "      <td>0.0</td>\n",
       "      <td>1</td>\n",
       "      <td>2015</td>\n",
       "      <td>2</td>\n",
       "    </tr>\n",
       "  </tbody>\n",
       "</table>\n",
       "</div>"
      ],
      "text/plain": [
       "            city  medicine  sales  discounted  month  year  day\n",
       "date                                                           \n",
       "2015-01-02     1         1   24.0         0.0      1  2015    2\n",
       "2015-01-02     1         2  144.0         0.0      1  2015    2\n",
       "2015-01-02     1         3   84.0         0.0      1  2015    2\n",
       "2015-01-02     1         4   24.0         0.0      1  2015    2\n",
       "2015-01-02     1         5    8.0         0.0      1  2015    2"
      ]
     },
     "execution_count": 153,
     "metadata": {},
     "output_type": "execute_result"
    }
   ],
   "source": [
    "df_merge.head()"
   ]
  },
  {
   "cell_type": "code",
   "execution_count": 163,
   "metadata": {},
   "outputs": [
    {
     "data": {
      "text/html": [
       "<div>\n",
       "<style scoped>\n",
       "    .dataframe tbody tr th:only-of-type {\n",
       "        vertical-align: middle;\n",
       "    }\n",
       "\n",
       "    .dataframe tbody tr th {\n",
       "        vertical-align: top;\n",
       "    }\n",
       "\n",
       "    .dataframe thead th {\n",
       "        text-align: right;\n",
       "    }\n",
       "</style>\n",
       "<table border=\"1\" class=\"dataframe\">\n",
       "  <thead>\n",
       "    <tr style=\"text-align: right;\">\n",
       "      <th></th>\n",
       "      <th>city</th>\n",
       "      <th>day</th>\n",
       "      <th>discounted</th>\n",
       "      <th>medicine</th>\n",
       "      <th>month</th>\n",
       "      <th>year</th>\n",
       "    </tr>\n",
       "    <tr>\n",
       "      <th>date</th>\n",
       "      <th></th>\n",
       "      <th></th>\n",
       "      <th></th>\n",
       "      <th></th>\n",
       "      <th></th>\n",
       "      <th></th>\n",
       "    </tr>\n",
       "  </thead>\n",
       "  <tbody>\n",
       "    <tr>\n",
       "      <th>2018-07-01</th>\n",
       "      <td>1</td>\n",
       "      <td>1</td>\n",
       "      <td>0.0</td>\n",
       "      <td>1292</td>\n",
       "      <td>7</td>\n",
       "      <td>2018</td>\n",
       "    </tr>\n",
       "    <tr>\n",
       "      <th>2018-07-01</th>\n",
       "      <td>1</td>\n",
       "      <td>1</td>\n",
       "      <td>0.0</td>\n",
       "      <td>1</td>\n",
       "      <td>7</td>\n",
       "      <td>2018</td>\n",
       "    </tr>\n",
       "    <tr>\n",
       "      <th>2018-07-01</th>\n",
       "      <td>1</td>\n",
       "      <td>1</td>\n",
       "      <td>1.0</td>\n",
       "      <td>2</td>\n",
       "      <td>7</td>\n",
       "      <td>2018</td>\n",
       "    </tr>\n",
       "    <tr>\n",
       "      <th>2018-07-01</th>\n",
       "      <td>1</td>\n",
       "      <td>1</td>\n",
       "      <td>0.0</td>\n",
       "      <td>3</td>\n",
       "      <td>7</td>\n",
       "      <td>2018</td>\n",
       "    </tr>\n",
       "    <tr>\n",
       "      <th>2018-07-01</th>\n",
       "      <td>1</td>\n",
       "      <td>1</td>\n",
       "      <td>0.0</td>\n",
       "      <td>4</td>\n",
       "      <td>7</td>\n",
       "      <td>2018</td>\n",
       "    </tr>\n",
       "  </tbody>\n",
       "</table>\n",
       "</div>"
      ],
      "text/plain": [
       "            city  day  discounted  medicine  month  year\n",
       "date                                                    \n",
       "2018-07-01     1    1         0.0      1292      7  2018\n",
       "2018-07-01     1    1         0.0         1      7  2018\n",
       "2018-07-01     1    1         1.0         2      7  2018\n",
       "2018-07-01     1    1         0.0         3      7  2018\n",
       "2018-07-01     1    1         0.0         4      7  2018"
      ]
     },
     "execution_count": 163,
     "metadata": {},
     "output_type": "execute_result"
    }
   ],
   "source": [
    "df_merge_test.head()"
   ]
  },
  {
   "cell_type": "code",
   "execution_count": 164,
   "metadata": {},
   "outputs": [],
   "source": [
    "#Predict upcoming sales using trained model and imported upcoming dates\n",
    "Predicted_sales = pipeline.predict(df_merge_test)"
   ]
  },
  {
   "cell_type": "code",
   "execution_count": 165,
   "metadata": {},
   "outputs": [
    {
     "data": {
      "text/plain": [
       "(773535,)"
      ]
     },
     "execution_count": 165,
     "metadata": {},
     "output_type": "execute_result"
    }
   ],
   "source": [
    "Predicted_sales.shape"
   ]
  },
  {
   "cell_type": "code",
   "execution_count": 166,
   "metadata": {},
   "outputs": [],
   "source": [
    "score_test = list(zip(Id.to_numpy(),Predicted_sales))"
   ]
  },
  {
   "cell_type": "code",
   "execution_count": 167,
   "metadata": {
    "scrolled": true
   },
   "outputs": [],
   "source": [
    "test_scores = pd.DataFrame(score_test, columns=['id','sales'])"
   ]
  },
  {
   "cell_type": "code",
   "execution_count": 168,
   "metadata": {},
   "outputs": [],
   "source": [
    "test_scores.to_csv('Arpita_Banerjee_B94_Final_Hackathon.csv', index=False)"
   ]
  },
  {
   "cell_type": "markdown",
   "metadata": {},
   "source": [
    "### Medicine Encoding"
   ]
  },
  {
   "cell_type": "code",
   "execution_count": 162,
   "metadata": {},
   "outputs": [],
   "source": [
    "df_merge_test['medicine_encoded'] = df_merge_test.medicine.map(encoded_target)"
   ]
  },
  {
   "cell_type": "code",
   "execution_count": 116,
   "metadata": {},
   "outputs": [],
   "source": [
    "df_merge_test.drop(['medicine'], axis = 1, inplace = True)"
   ]
  },
  {
   "cell_type": "code",
   "execution_count": 163,
   "metadata": {},
   "outputs": [],
   "source": [
    "cat_attr = list(df_merge_test.select_dtypes(\"category\").columns)\n",
    "num_attr = list(df_merge_test.columns.difference(cat_attr))"
   ]
  },
  {
   "cell_type": "code",
   "execution_count": 164,
   "metadata": {},
   "outputs": [
    {
     "data": {
      "text/plain": [
       "[]"
      ]
     },
     "execution_count": 164,
     "metadata": {},
     "output_type": "execute_result"
    }
   ],
   "source": [
    "cat_attr"
   ]
  },
  {
   "cell_type": "code",
   "execution_count": 165,
   "metadata": {},
   "outputs": [
    {
     "data": {
      "text/plain": [
       "['city', 'day', 'discounted', 'medicine', 'medicine_encoded', 'month', 'year']"
      ]
     },
     "execution_count": 165,
     "metadata": {},
     "output_type": "execute_result"
    }
   ],
   "source": [
    "num_attr"
   ]
  },
  {
   "cell_type": "code",
   "execution_count": 120,
   "metadata": {},
   "outputs": [],
   "source": [
    "numeric_transformer_test = Pipeline(steps=[\n",
    "    ('scaler', StandardScaler())])\n",
    "\n",
    "preprocessor = ColumnTransformer(\n",
    "    transformers=[\n",
    "        ('num', numeric_transformer_test, num_attr_test)])"
   ]
  },
  {
   "cell_type": "code",
   "execution_count": 121,
   "metadata": {},
   "outputs": [
    {
     "data": {
      "text/plain": [
       "(35254, 22)"
      ]
     },
     "execution_count": 121,
     "metadata": {},
     "output_type": "execute_result"
    }
   ],
   "source": [
    "X_train.shape"
   ]
  },
  {
   "cell_type": "code",
   "execution_count": null,
   "metadata": {},
   "outputs": [],
   "source": [
    "#train_pred = dt_mod_random_best.predict(X_train)\n",
    "test_pred = dt_mod_grid.predict(df_merge_test)\n",
    "\n",
    "test_pred"
   ]
  },
  {
   "cell_type": "code",
   "execution_count": 363,
   "metadata": {},
   "outputs": [
    {
     "data": {
      "text/plain": [
       "date\n",
       "2018-07-01    1.039266e+06\n",
       "2018-07-02    1.015497e+06\n",
       "2018-07-03    1.203428e+06\n",
       "2018-07-04    1.285755e+06\n",
       "2018-07-05    1.436735e+06\n",
       "2018-07-06    1.414230e+06\n",
       "2018-07-07    1.078778e+06\n",
       "2018-07-08    1.147754e+06\n",
       "2018-07-09    1.209731e+06\n",
       "2018-07-10    1.278197e+06\n",
       "2018-07-11    1.387956e+06\n",
       "2018-07-12    1.434061e+06\n",
       "2018-07-13    1.223884e+06\n",
       "2018-07-14    9.898281e+05\n",
       "2018-07-15    9.802975e+05\n",
       "2018-07-16    1.005025e+06\n",
       "2018-07-17    9.816096e+05\n",
       "2018-07-18    1.176319e+06\n",
       "2018-07-19    1.364864e+06\n",
       "2018-07-20    1.462082e+06\n",
       "2018-07-21    1.170251e+06\n",
       "2018-07-22    1.179838e+06\n",
       "2018-07-23    1.206932e+06\n",
       "2018-07-24    1.259987e+06\n",
       "2018-07-25    1.342422e+06\n",
       "2018-07-26    1.406217e+06\n",
       "2018-07-27    1.247285e+06\n",
       "2018-07-28    9.890186e+05\n",
       "2018-07-29    9.530264e+05\n",
       "2018-07-30    9.587571e+05\n",
       "2018-07-31    1.085178e+06\n",
       "Freq: D, Name: Predictions, dtype: float64"
      ]
     },
     "execution_count": 363,
     "metadata": {},
     "output_type": "execute_result"
    }
   ],
   "source": [
    "test['Predictions']"
   ]
  },
  {
   "cell_type": "code",
   "execution_count": 365,
   "metadata": {},
   "outputs": [],
   "source": [
    "score_test = list(zip(Id.to_numpy(),test['Predictions']))"
   ]
  },
  {
   "cell_type": "code",
   "execution_count": 366,
   "metadata": {},
   "outputs": [],
   "source": [
    "test_scores = pd.DataFrame(score_test, columns=['id','sales'])"
   ]
  },
  {
   "cell_type": "code",
   "execution_count": 367,
   "metadata": {},
   "outputs": [],
   "source": [
    "test_scores.to_csv('Arpita_Banerjee_B94_Final_hackathon.csv', index=False)"
   ]
  },
  {
   "cell_type": "markdown",
   "metadata": {
    "slideshow": {
     "slide_type": "slide"
    }
   },
   "source": [
    "### 5. Overall_Insights\n",
    "#### Excel Sheet Analysis\n",
    "#### Number of footfall is not equivalent  to the number of sales. That means that there is demand but no supply. The following could be the probable reasons\n",
    "       * The quality of medicines may not be good enough so they are being taken off the market and hence the crisis.\n",
    "       * It could be that the retailers were making extra profit by selling online and hence the demand in stores were on the rise.\n",
    "       \n",
    "#### Metric : RMSE : validation : 95.8     test: 79.69\n",
    "#### Best Model : \n",
    "    : Decision Tree Regressor "
   ]
  },
  {
   "cell_type": "markdown",
   "metadata": {
    "slideshow": {
     "slide_type": "slide"
    }
   },
   "source": [
    "# Thank You !!!"
   ]
  }
 ],
 "metadata": {
  "kernelspec": {
   "display_name": "Python 3 (ipykernel)",
   "language": "python",
   "name": "python3"
  },
  "language_info": {
   "codemirror_mode": {
    "name": "ipython",
    "version": 3
   },
   "file_extension": ".py",
   "mimetype": "text/x-python",
   "name": "python",
   "nbconvert_exporter": "python",
   "pygments_lexer": "ipython3",
   "version": "3.9.7"
  }
 },
 "nbformat": 4,
 "nbformat_minor": 4
}
